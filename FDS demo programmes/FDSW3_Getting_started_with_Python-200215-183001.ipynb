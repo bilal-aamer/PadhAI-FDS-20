{
 "cells": [
  {
   "cell_type": "markdown",
   "metadata": {
    "colab_type": "text",
    "id": "sUyztms6tpcD"
   },
   "source": [
    "# Printing basic types"
   ]
  },
  {
   "cell_type": "code",
   "execution_count": null,
   "metadata": {
    "colab": {},
    "colab_type": "code",
    "id": "yX_3K6mhpsUz"
   },
   "outputs": [],
   "source": [
    "print(\"Hello World!\") "
   ]
  },
  {
   "cell_type": "code",
   "execution_count": null,
   "metadata": {
    "colab": {},
    "colab_type": "code",
    "id": "ebQrE1xUrB7r"
   },
   "outputs": [],
   "source": [
    "print(\"Hello World!\")\n",
    "print(\"Namaskar from PadhAI\")"
   ]
  },
  {
   "cell_type": "code",
   "execution_count": null,
   "metadata": {
    "colab": {},
    "colab_type": "code",
    "id": "d-0uh16VrU18"
   },
   "outputs": [],
   "source": [
    "print(\"PadhAI\")\n",
    "print(\"Padh\" + \"AI\")"
   ]
  },
  {
   "cell_type": "code",
   "execution_count": null,
   "metadata": {
    "colab": {},
    "colab_type": "code",
    "id": "NFwPM84vroro"
   },
   "outputs": [],
   "source": [
    "print(1729)"
   ]
  },
  {
   "cell_type": "code",
   "execution_count": null,
   "metadata": {
    "colab": {},
    "colab_type": "code",
    "id": "iSzHtkXdru_7"
   },
   "outputs": [],
   "source": [
    "print(1000 + 729)  # Check this with Ramanujan's entry"
   ]
  },
  {
   "cell_type": "code",
   "execution_count": null,
   "metadata": {
    "colab": {},
    "colab_type": "code",
    "id": "Nigrs1Ier1lS"
   },
   "outputs": [],
   "source": [
    "print(55/34)   # check golden ratio"
   ]
  },
  {
   "cell_type": "code",
   "execution_count": null,
   "metadata": {
    "colab": {},
    "colab_type": "code",
    "id": "gI7cE04wsHCJ"
   },
   "outputs": [],
   "source": [
    "print(1.618)"
   ]
  },
  {
   "cell_type": "code",
   "execution_count": null,
   "metadata": {
    "colab": {},
    "colab_type": "code",
    "id": "bIv5yRd-sTHl"
   },
   "outputs": [],
   "source": [
    "print(True)"
   ]
  },
  {
   "cell_type": "code",
   "execution_count": null,
   "metadata": {
    "colab": {},
    "colab_type": "code",
    "id": "TPAlPpqGsYgh"
   },
   "outputs": [],
   "source": [
    "print(False)"
   ]
  },
  {
   "cell_type": "code",
   "execution_count": null,
   "metadata": {
    "colab": {},
    "colab_type": "code",
    "id": "ctslkzuVsc3Z"
   },
   "outputs": [],
   "source": [
    "print(True or False)"
   ]
  },
  {
   "cell_type": "code",
   "execution_count": null,
   "metadata": {
    "colab": {},
    "colab_type": "code",
    "id": "NuF8mDv_siHE"
   },
   "outputs": [],
   "source": [
    "print(True and False)"
   ]
  },
  {
   "cell_type": "markdown",
   "metadata": {
    "colab_type": "text",
    "id": "4WJiz_vktZMF"
   },
   "source": [
    "# Variables and inputs"
   ]
  },
  {
   "cell_type": "code",
   "execution_count": null,
   "metadata": {
    "colab": {},
    "colab_type": "code",
    "id": "UcbojZjmsmGp"
   },
   "outputs": [],
   "source": [
    "school = \"PadhAI\""
   ]
  },
  {
   "cell_type": "code",
   "execution_count": null,
   "metadata": {
    "colab": {},
    "colab_type": "code",
    "id": "NSgQPqpPt4vA"
   },
   "outputs": [],
   "source": [
    "print(school)"
   ]
  },
  {
   "cell_type": "code",
   "execution_count": null,
   "metadata": {
    "colab": {},
    "colab_type": "code",
    "id": "NFtctHOzt7lO"
   },
   "outputs": [],
   "source": [
    "print(type(school))"
   ]
  },
  {
   "cell_type": "code",
   "execution_count": null,
   "metadata": {
    "colab": {},
    "colab_type": "code",
    "id": "7wm8fQ5dt_nR"
   },
   "outputs": [],
   "source": [
    "print(id(school))"
   ]
  },
  {
   "cell_type": "code",
   "execution_count": null,
   "metadata": {
    "colab": {},
    "colab_type": "code",
    "id": "dqgEvnXHuHEq"
   },
   "outputs": [],
   "source": [
    "another_school = \"PadhAI\""
   ]
  },
  {
   "cell_type": "code",
   "execution_count": null,
   "metadata": {
    "colab": {},
    "colab_type": "code",
    "id": "wmTl3W8tuTlU"
   },
   "outputs": [],
   "source": [
    "print(another_school)"
   ]
  },
  {
   "cell_type": "code",
   "execution_count": null,
   "metadata": {
    "colab": {},
    "colab_type": "code",
    "id": "BVREq21muYv-"
   },
   "outputs": [],
   "source": [
    "print(id(another_school))"
   ]
  },
  {
   "cell_type": "code",
   "execution_count": null,
   "metadata": {
    "colab": {},
    "colab_type": "code",
    "id": "8EyzeS2Oubwk"
   },
   "outputs": [],
   "source": [
    "another_school = \"IIT Madras\""
   ]
  },
  {
   "cell_type": "code",
   "execution_count": null,
   "metadata": {
    "colab": {},
    "colab_type": "code",
    "id": "WyzPSGF4uk1d"
   },
   "outputs": [],
   "source": [
    "print(id(another_school))"
   ]
  },
  {
   "cell_type": "code",
   "execution_count": null,
   "metadata": {
    "colab": {},
    "colab_type": "code",
    "id": "DG2pce6_uneL"
   },
   "outputs": [],
   "source": [
    "print(\"I am studying at \" + school)"
   ]
  },
  {
   "cell_type": "code",
   "execution_count": null,
   "metadata": {
    "colab": {},
    "colab_type": "code",
    "id": "Lg6fOrA5u-QB"
   },
   "outputs": [],
   "source": [
    "r_no = 1729"
   ]
  },
  {
   "cell_type": "code",
   "execution_count": null,
   "metadata": {
    "colab": {},
    "colab_type": "code",
    "id": "cJ96EKjZvuZo"
   },
   "outputs": [],
   "source": [
    "print(type(r_no))"
   ]
  },
  {
   "cell_type": "code",
   "execution_count": null,
   "metadata": {
    "colab": {},
    "colab_type": "code",
    "id": "TP7bcTq8vvhY"
   },
   "outputs": [],
   "source": [
    "golden_ratio = 55/34"
   ]
  },
  {
   "cell_type": "code",
   "execution_count": null,
   "metadata": {
    "colab": {},
    "colab_type": "code",
    "id": "QjwfykcjvyLc"
   },
   "outputs": [],
   "source": [
    "print(type(golden_ratio))"
   ]
  },
  {
   "cell_type": "code",
   "execution_count": null,
   "metadata": {
    "colab": {},
    "colab_type": "code",
    "id": "Ra-PK3V8v1w-"
   },
   "outputs": [],
   "source": [
    "is_good = True"
   ]
  },
  {
   "cell_type": "code",
   "execution_count": null,
   "metadata": {
    "colab": {},
    "colab_type": "code",
    "id": "-LCD5m4Lv6Lv"
   },
   "outputs": [],
   "source": [
    "print(type(is_good))"
   ]
  },
  {
   "cell_type": "code",
   "execution_count": null,
   "metadata": {
    "colab": {},
    "colab_type": "code",
    "id": "-1uAGTdEv7f9"
   },
   "outputs": [],
   "source": [
    "my_name = input(\"What is your name \")"
   ]
  },
  {
   "cell_type": "code",
   "execution_count": null,
   "metadata": {
    "colab": {},
    "colab_type": "code",
    "id": "IGw52DcowH3y"
   },
   "outputs": [],
   "source": [
    "print(my_name, type(my_name))"
   ]
  },
  {
   "cell_type": "code",
   "execution_count": null,
   "metadata": {
    "colab": {},
    "colab_type": "code",
    "id": "NI7vOwvLwK99"
   },
   "outputs": [],
   "source": [
    "print(my_name + \" is studying at \" + school)"
   ]
  },
  {
   "cell_type": "code",
   "execution_count": null,
   "metadata": {
    "colab": {},
    "colab_type": "code",
    "id": "32bUlwlCwU87"
   },
   "outputs": [],
   "source": [
    "hours_per_day = input(\"How many hours per day do you study \")"
   ]
  },
  {
   "cell_type": "code",
   "execution_count": null,
   "metadata": {
    "colab": {},
    "colab_type": "code",
    "id": "PgBZ-fxEwgZ-"
   },
   "outputs": [],
   "source": [
    "print(my_name + \" studies for \" + hours_per_day + \" hours\")"
   ]
  },
  {
   "cell_type": "code",
   "execution_count": null,
   "metadata": {
    "colab": {},
    "colab_type": "code",
    "id": "J7-LzoG8woEH"
   },
   "outputs": [],
   "source": [
    "hours_per_week = hours_per_day * 7"
   ]
  },
  {
   "cell_type": "code",
   "execution_count": null,
   "metadata": {
    "colab": {},
    "colab_type": "code",
    "id": "tqwculrBwyVz"
   },
   "outputs": [],
   "source": [
    "print(my_name + \" studies for \" + hours_per_week + \" hours\")"
   ]
  },
  {
   "cell_type": "code",
   "execution_count": null,
   "metadata": {
    "colab": {},
    "colab_type": "code",
    "id": "24ATna0qw3Kt"
   },
   "outputs": [],
   "source": [
    "print(type(hours_per_day))"
   ]
  },
  {
   "cell_type": "code",
   "execution_count": null,
   "metadata": {
    "colab": {},
    "colab_type": "code",
    "id": "ImjjYdzew-pw"
   },
   "outputs": [],
   "source": [
    "hours_per_day_int = float(hours_per_day)"
   ]
  },
  {
   "cell_type": "code",
   "execution_count": null,
   "metadata": {
    "colab": {},
    "colab_type": "code",
    "id": "mUnbvCXTxJBO"
   },
   "outputs": [],
   "source": [
    "print(hours_per_day_int, type(hours_per_day_int))"
   ]
  },
  {
   "cell_type": "code",
   "execution_count": null,
   "metadata": {
    "colab": {},
    "colab_type": "code",
    "id": "cT61tZajxNjA"
   },
   "outputs": [],
   "source": [
    "hours_per_week = hours_per_day_int * 7"
   ]
  },
  {
   "cell_type": "code",
   "execution_count": null,
   "metadata": {
    "colab": {},
    "colab_type": "code",
    "id": "mvju04oBxXnr"
   },
   "outputs": [],
   "source": [
    "print(my_name + \" studies for \" + hours_per_week + \" hours\")"
   ]
  },
  {
   "cell_type": "code",
   "execution_count": null,
   "metadata": {
    "colab": {},
    "colab_type": "code",
    "id": "uBBaJ5CRxZWX"
   },
   "outputs": [],
   "source": [
    "print(my_name + \" studies for \" + str(hours_per_week) + \" hours\")"
   ]
  },
  {
   "cell_type": "markdown",
   "metadata": {
    "colab_type": "text",
    "id": "xTZ4ZiuJzGjv"
   },
   "source": [
    "# String Processing"
   ]
  },
  {
   "cell_type": "code",
   "execution_count": null,
   "metadata": {
    "colab": {},
    "colab_type": "code",
    "id": "1dVEAr70zBLC"
   },
   "outputs": [],
   "source": [
    "topic = \"Foundations of Data Science\""
   ]
  },
  {
   "cell_type": "code",
   "execution_count": null,
   "metadata": {
    "colab": {},
    "colab_type": "code",
    "id": "zmqU0UKzzL4k"
   },
   "outputs": [],
   "source": [
    "print(topic)"
   ]
  },
  {
   "cell_type": "code",
   "execution_count": null,
   "metadata": {
    "colab": {},
    "colab_type": "code",
    "id": "N4yxWuaNzNif"
   },
   "outputs": [],
   "source": [
    "print(topic[0])"
   ]
  },
  {
   "cell_type": "code",
   "execution_count": null,
   "metadata": {
    "colab": {},
    "colab_type": "code",
    "id": "oAiJ_C8czWQT"
   },
   "outputs": [],
   "source": [
    "print(topic[1])"
   ]
  },
  {
   "cell_type": "code",
   "execution_count": null,
   "metadata": {
    "colab": {},
    "colab_type": "code",
    "id": "ub_UWR_ozYcb"
   },
   "outputs": [],
   "source": [
    "print(topic[10])"
   ]
  },
  {
   "cell_type": "code",
   "execution_count": null,
   "metadata": {
    "colab": {},
    "colab_type": "code",
    "id": "-Z0kkrcZzZ31"
   },
   "outputs": [],
   "source": [
    "print(topic[-1])"
   ]
  },
  {
   "cell_type": "code",
   "execution_count": null,
   "metadata": {
    "colab": {},
    "colab_type": "code",
    "id": "nuEUE7xBzeSH"
   },
   "outputs": [],
   "source": [
    "print(topic[-2])"
   ]
  },
  {
   "cell_type": "code",
   "execution_count": null,
   "metadata": {
    "colab": {},
    "colab_type": "code",
    "id": "XkGAFvCSzhHm"
   },
   "outputs": [],
   "source": [
    "print(topic[0:10])"
   ]
  },
  {
   "cell_type": "code",
   "execution_count": null,
   "metadata": {
    "colab": {},
    "colab_type": "code",
    "id": "2EUhXtXqzmap"
   },
   "outputs": [],
   "source": [
    "print(topic[12:16])"
   ]
  },
  {
   "cell_type": "code",
   "execution_count": null,
   "metadata": {
    "colab": {},
    "colab_type": "code",
    "id": "iBu-9hzGzy9z"
   },
   "outputs": [],
   "source": [
    "print(topic.lower())"
   ]
  },
  {
   "cell_type": "code",
   "execution_count": null,
   "metadata": {
    "colab": {},
    "colab_type": "code",
    "id": "x0lecon80AfR"
   },
   "outputs": [],
   "source": [
    "print(topic)"
   ]
  },
  {
   "cell_type": "code",
   "execution_count": null,
   "metadata": {
    "colab": {},
    "colab_type": "code",
    "id": "BicYceS50JK5"
   },
   "outputs": [],
   "source": [
    "topic = topic.lower()"
   ]
  },
  {
   "cell_type": "code",
   "execution_count": null,
   "metadata": {
    "colab": {},
    "colab_type": "code",
    "id": "nZwCEJM20OwN"
   },
   "outputs": [],
   "source": [
    "print(topic.upper())"
   ]
  },
  {
   "cell_type": "code",
   "execution_count": null,
   "metadata": {
    "colab": {},
    "colab_type": "code",
    "id": "N19c2C9U0TRt"
   },
   "outputs": [],
   "source": [
    "print(topic.islower())"
   ]
  },
  {
   "cell_type": "code",
   "execution_count": null,
   "metadata": {
    "colab": {},
    "colab_type": "code",
    "id": "UWGUYy2M0g7j"
   },
   "outputs": [],
   "source": [
    "topic = topic.upper()"
   ]
  },
  {
   "cell_type": "code",
   "execution_count": null,
   "metadata": {
    "colab": {},
    "colab_type": "code",
    "id": "2QG555oQ0mK2"
   },
   "outputs": [],
   "source": [
    "print(topic.islower())"
   ]
  },
  {
   "cell_type": "code",
   "execution_count": null,
   "metadata": {
    "colab": {},
    "colab_type": "code",
    "id": "2kN-ulZE0nC2"
   },
   "outputs": [],
   "source": [
    "print(topic.isupper())"
   ]
  },
  {
   "cell_type": "code",
   "execution_count": null,
   "metadata": {
    "colab": {},
    "colab_type": "code",
    "id": "-AZIyOr-0oos"
   },
   "outputs": [],
   "source": [
    "print(topic.find(\"DATA\"))"
   ]
  },
  {
   "cell_type": "code",
   "execution_count": null,
   "metadata": {
    "colab": {},
    "colab_type": "code",
    "id": "MCNc5uc_0xvi"
   },
   "outputs": [],
   "source": [
    "print(topic[15])"
   ]
  },
  {
   "cell_type": "code",
   "execution_count": null,
   "metadata": {
    "colab": {},
    "colab_type": "code",
    "id": "wgLpgUlk01pv"
   },
   "outputs": [],
   "source": [
    "print(topic.find(\"AI\"))"
   ]
  },
  {
   "cell_type": "code",
   "execution_count": null,
   "metadata": {
    "colab": {},
    "colab_type": "code",
    "id": "zRaPGweO087Z"
   },
   "outputs": [],
   "source": [
    "print(topic.replace(\"SCIENCE\", \"ENGINEERING\"))"
   ]
  },
  {
   "cell_type": "code",
   "execution_count": null,
   "metadata": {
    "colab": {},
    "colab_type": "code",
    "id": "b4ttlSAB1Fd8"
   },
   "outputs": [],
   "source": [
    "print(55/34)"
   ]
  },
  {
   "cell_type": "code",
   "execution_count": null,
   "metadata": {
    "colab": {},
    "colab_type": "code",
    "id": "-obVCuMD1jhD"
   },
   "outputs": [],
   "source": [
    "golden_ratio = 55/34"
   ]
  },
  {
   "cell_type": "code",
   "execution_count": null,
   "metadata": {
    "colab": {},
    "colab_type": "code",
    "id": "CIquAsjh1mGQ"
   },
   "outputs": [],
   "source": [
    "print(type(golden_ratio))"
   ]
  },
  {
   "cell_type": "code",
   "execution_count": null,
   "metadata": {
    "colab": {},
    "colab_type": "code",
    "id": "SrtEoOGl1nc8"
   },
   "outputs": [],
   "source": [
    "print(golden_ratio.is_integer())"
   ]
  },
  {
   "cell_type": "code",
   "execution_count": null,
   "metadata": {
    "colab": {},
    "colab_type": "code",
    "id": "1V8GHcEE1saH"
   },
   "outputs": [],
   "source": [
    "print(golden_ratio.as_integer_ratio())"
   ]
  },
  {
   "cell_type": "code",
   "execution_count": null,
   "metadata": {
    "colab": {},
    "colab_type": "code",
    "id": "CtxuVqWx1zKJ"
   },
   "outputs": [],
   "source": [
    "print(3642617345667313/2251799813685248)"
   ]
  },
  {
   "cell_type": "code",
   "execution_count": null,
   "metadata": {
    "colab": {},
    "colab_type": "code",
    "id": "2M7nu2GP13un"
   },
   "outputs": [],
   "source": [
    "print(55 // 34, 55/34)"
   ]
  },
  {
   "cell_type": "code",
   "execution_count": null,
   "metadata": {
    "colab": {},
    "colab_type": "code",
    "id": "1fkt5I5b2dzd"
   },
   "outputs": [],
   "source": [
    "print(55 % 34)"
   ]
  },
  {
   "cell_type": "code",
   "execution_count": null,
   "metadata": {
    "colab": {},
    "colab_type": "code",
    "id": "JboXbWNX2fkr"
   },
   "outputs": [],
   "source": [
    "print(2 ** 3)"
   ]
  },
  {
   "cell_type": "markdown",
   "metadata": {
    "colab_type": "text",
    "id": "_1e_FyAD3EI7"
   },
   "source": [
    "# If, For, While Blocks"
   ]
  },
  {
   "cell_type": "code",
   "execution_count": null,
   "metadata": {
    "colab": {},
    "colab_type": "code",
    "id": "YlKDJaNB3u6_"
   },
   "outputs": [],
   "source": [
    "hours_per_week = 5"
   ]
  },
  {
   "cell_type": "code",
   "execution_count": null,
   "metadata": {
    "colab": {},
    "colab_type": "code",
    "id": "GZUzOAHD2kYX"
   },
   "outputs": [],
   "source": [
    "if hours_per_week > 10:\n",
    "    print(my_name + \" you are doing well\")"
   ]
  },
  {
   "cell_type": "code",
   "execution_count": null,
   "metadata": {
    "colab": {},
    "colab_type": "code",
    "id": "F788jWY83tTf"
   },
   "outputs": [],
   "source": [
    "if hours_per_week > 10:\n",
    "    print(my_name + \" you are doing well\")\n",
    "print(\"Outside If\")"
   ]
  },
  {
   "cell_type": "code",
   "execution_count": null,
   "metadata": {
    "colab": {},
    "colab_type": "code",
    "id": "nc08nM4q38OU"
   },
   "outputs": [],
   "source": [
    "if hours_per_week > 10:\n",
    "    print(my_name + \" you are doing well\")\n",
    "else:\n",
    "    print(my_name + \" you need to study more\")"
   ]
  },
  {
   "cell_type": "code",
   "execution_count": null,
   "metadata": {
    "colab": {},
    "colab_type": "code",
    "id": "6yz4l2P44KGF"
   },
   "outputs": [],
   "source": [
    "for i in range(5):\n",
    "    print(i)"
   ]
  },
  {
   "cell_type": "code",
   "execution_count": null,
   "metadata": {
    "colab": {},
    "colab_type": "code",
    "id": "KVZn2ZNl4e_j"
   },
   "outputs": [],
   "source": [
    "range?"
   ]
  },
  {
   "cell_type": "code",
   "execution_count": null,
   "metadata": {
    "colab": {},
    "colab_type": "code",
    "id": "NUeOJ9CX4lmj"
   },
   "outputs": [],
   "source": [
    "for i in range(2, 5):\n",
    "    print(i, i**2)"
   ]
  },
  {
   "cell_type": "code",
   "execution_count": null,
   "metadata": {
    "colab": {},
    "colab_type": "code",
    "id": "__6vd_Df5DE8"
   },
   "outputs": [],
   "source": [
    "a = 1\n",
    "b = 1\n",
    "print(a)\n",
    "print(b)\n",
    "for i in range(10):\n",
    "    temp = a + b\n",
    "    a = b\n",
    "    b = temp\n",
    "    print(temp)"
   ]
  },
  {
   "cell_type": "code",
   "execution_count": null,
   "metadata": {
    "colab": {},
    "colab_type": "code",
    "id": "-lbt47gx5nNK"
   },
   "outputs": [],
   "source": [
    "a = 1\n",
    "b = 1\n",
    "print(a)\n",
    "print(b)\n",
    "i = 2\n",
    "while b < 1729:\n",
    "    temp = a + b\n",
    "    i += 1\n",
    "    a = b\n",
    "    b = temp\n",
    "    print(temp)\n",
    "print(\"Printed\", i, \"numbers\")"
   ]
  },
  {
   "cell_type": "markdown",
   "metadata": {
    "colab_type": "text",
    "id": "H6UBrWkCIjSk"
   },
   "source": [
    "# Functions"
   ]
  },
  {
   "cell_type": "code",
   "execution_count": null,
   "metadata": {
    "colab": {},
    "colab_type": "code",
    "id": "ZOqBP4f-HAwH"
   },
   "outputs": [],
   "source": [
    "def fibonacci(pos):\n",
    "    a = 1\n",
    "    b = 1\n",
    "    for i in range(pos):\n",
    "        temp = a + b\n",
    "        a = b\n",
    "        b = temp\n",
    "    return temp"
   ]
  },
  {
   "cell_type": "code",
   "execution_count": null,
   "metadata": {
    "colab": {},
    "colab_type": "code",
    "id": "A-hZFFq1I5js"
   },
   "outputs": [],
   "source": [
    "print(fibonacci(3))"
   ]
  },
  {
   "cell_type": "code",
   "execution_count": null,
   "metadata": {
    "colab": {},
    "colab_type": "code",
    "id": "vN5zd8g4I9Ri"
   },
   "outputs": [],
   "source": [
    "print(fibonacci(8), fibonacci(7))"
   ]
  },
  {
   "cell_type": "code",
   "execution_count": null,
   "metadata": {
    "colab": {},
    "colab_type": "code",
    "id": "8pp648VcJBi2"
   },
   "outputs": [],
   "source": [
    "for i in range(2, 20):\n",
    "    ratio = fibonacci(i) / fibonacci(i - 1)\n",
    "    print(i, ratio)"
   ]
  },
  {
   "cell_type": "code",
   "execution_count": null,
   "metadata": {
    "colab": {},
    "colab_type": "code",
    "id": "gFEYx2OLJQCr"
   },
   "outputs": [],
   "source": [
    "def fibonacci_relative(pos, a, b):\n",
    "    for i in range(pos):\n",
    "        temp = a + b\n",
    "        a = b\n",
    "        b = temp\n",
    "    return temp"
   ]
  },
  {
   "cell_type": "code",
   "execution_count": null,
   "metadata": {
    "colab": {},
    "colab_type": "code",
    "id": "fPbyYs5hJr1-"
   },
   "outputs": [],
   "source": [
    "print(fibonacci_relative(3, 34, 55))"
   ]
  },
  {
   "cell_type": "code",
   "execution_count": null,
   "metadata": {
    "colab": {},
    "colab_type": "code",
    "id": "MM_zwZKNJ7y9"
   },
   "outputs": [],
   "source": [
    "def fibonacci_ol(pos, a = 1, b = 1):\n",
    "    for i in range(pos):\n",
    "        temp = a + b\n",
    "        a = b\n",
    "        b = temp\n",
    "    return temp"
   ]
  },
  {
   "cell_type": "code",
   "execution_count": null,
   "metadata": {
    "colab": {},
    "colab_type": "code",
    "id": "-17_Kcb3KUgK"
   },
   "outputs": [],
   "source": [
    "print(fibonacci_ol(3, 34, 55))"
   ]
  },
  {
   "cell_type": "code",
   "execution_count": null,
   "metadata": {
    "colab": {},
    "colab_type": "code",
    "id": "gLKZHtabKWk3"
   },
   "outputs": [],
   "source": [
    "print(fibonacci_relative(3))"
   ]
  },
  {
   "cell_type": "code",
   "execution_count": null,
   "metadata": {
    "colab": {},
    "colab_type": "code",
    "id": "_xu39REXLM6V"
   },
   "outputs": [],
   "source": [
    "def fibonacci_recursive(n, a = 1, b = 1):\n",
    "    if n > 1:\n",
    "        return fibonacci_recursive(n - 1, b, a + b)\n",
    "    else:\n",
    "        return a + b"
   ]
  },
  {
   "cell_type": "code",
   "execution_count": null,
   "metadata": {
    "colab": {},
    "colab_type": "code",
    "id": "VFpDuwrQLk0R"
   },
   "outputs": [],
   "source": [
    "print(fibonacci_recursive(3, 34, 55))"
   ]
  },
  {
   "cell_type": "code",
   "execution_count": null,
   "metadata": {
    "colab": {},
    "colab_type": "code",
    "id": "yaTANpbCSPtX"
   },
   "outputs": [],
   "source": [
    "def fibonacci(pos):\n",
    "    a = 1\n",
    "    b = 1\n",
    "    for i in range(pos):\n",
    "        temp = a + b\n",
    "        a = b\n",
    "        b = temp\n",
    "    return temp"
   ]
  },
  {
   "cell_type": "code",
   "execution_count": null,
   "metadata": {
    "colab": {},
    "colab_type": "code",
    "id": "xafMdRP_SPtb"
   },
   "outputs": [],
   "source": [
    "print(fibonacci(3))"
   ]
  },
  {
   "cell_type": "code",
   "execution_count": null,
   "metadata": {
    "colab": {},
    "colab_type": "code",
    "id": "t172sAFrSPtf"
   },
   "outputs": [],
   "source": [
    "print(fibonacci(8), fibonacci(7))"
   ]
  },
  {
   "cell_type": "code",
   "execution_count": null,
   "metadata": {
    "colab": {},
    "colab_type": "code",
    "id": "n2A_Xs83SPti"
   },
   "outputs": [],
   "source": [
    "for i in range(2, 20):\n",
    "    ratio = fibonacci(i) / fibonacci(i - 1)\n",
    "    print(i, ratio)"
   ]
  },
  {
   "cell_type": "code",
   "execution_count": null,
   "metadata": {
    "colab": {},
    "colab_type": "code",
    "id": "V_55I0X2SPtn"
   },
   "outputs": [],
   "source": [
    "def fibonacci_relative(pos, a, b):\n",
    "    for i in range(pos):\n",
    "        temp = a + b\n",
    "        a = b\n",
    "        b = temp\n",
    "    return temp"
   ]
  },
  {
   "cell_type": "code",
   "execution_count": null,
   "metadata": {
    "colab": {},
    "colab_type": "code",
    "id": "YqqFpkOWSPtq"
   },
   "outputs": [],
   "source": [
    "print(fibonacci_relative(3, 34, 55))"
   ]
  },
  {
   "cell_type": "code",
   "execution_count": null,
   "metadata": {
    "colab": {},
    "colab_type": "code",
    "id": "ITS77jEhSPtt"
   },
   "outputs": [],
   "source": [
    "def fibonacci_ol(pos, a = 1, b = 1):\n",
    "    for i in range(pos):\n",
    "        temp = a + b\n",
    "        a = b\n",
    "        b = temp\n",
    "    return temp"
   ]
  },
  {
   "cell_type": "code",
   "execution_count": null,
   "metadata": {
    "colab": {},
    "colab_type": "code",
    "id": "5nr-wa9ISPtv"
   },
   "outputs": [],
   "source": [
    "print(fibonacci_ol(3, 34, 55))"
   ]
  },
  {
   "cell_type": "code",
   "execution_count": null,
   "metadata": {
    "colab": {},
    "colab_type": "code",
    "id": "4ra6GBwISPtx"
   },
   "outputs": [],
   "source": [
    "print(fibonacci_relative(3))"
   ]
  },
  {
   "cell_type": "code",
   "execution_count": null,
   "metadata": {
    "colab": {},
    "colab_type": "code",
    "id": "d5Qb0cXgSPt0"
   },
   "outputs": [],
   "source": [
    "def fibonacci_recursive(n, a = 1, b = 1):\n",
    "    if n > 1:\n",
    "        return fibonacci_recursive(n - 1, b, a + b)\n",
    "    else:\n",
    "        return a + b"
   ]
  },
  {
   "cell_type": "code",
   "execution_count": null,
   "metadata": {
    "colab": {},
    "colab_type": "code",
    "id": "o3ZHPT30SPt2"
   },
   "outputs": [],
   "source": [
    "print(fibonacci_recursive(3, 34, 55))"
   ]
  }
 ],
 "metadata": {
  "colab": {
   "name": "Week3-Getting_started_with_Python.ipynb",
   "provenance": []
  },
  "kernelspec": {
   "display_name": "Python 3",
   "language": "python",
   "name": "python3"
  },
  "language_info": {
   "codemirror_mode": {
    "name": "ipython",
    "version": 3
   },
   "file_extension": ".py",
   "mimetype": "text/x-python",
   "name": "python",
   "nbconvert_exporter": "python",
   "pygments_lexer": "ipython3",
   "version": "3.7.4"
  }
 },
 "nbformat": 4,
 "nbformat_minor": 1
}
