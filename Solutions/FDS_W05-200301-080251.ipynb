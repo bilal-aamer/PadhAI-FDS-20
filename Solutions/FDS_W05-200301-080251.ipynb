{
  "nbformat": 4,
  "nbformat_minor": 0,
  "metadata": {
    "colab": {
      "name": "FDS_W05.ipynb",
      "provenance": [],
      "collapsed_sections": []
    },
    "kernelspec": {
      "name": "python3",
      "display_name": "Python 3"
    }
  },
  "cells": [
    {
      "cell_type": "code",
      "metadata": {
        "colab_type": "code",
        "outputId": "d153c67c-66fd-417c-e4c5-4074581c32dc",
        "id": "cV15cQDxqYdQ",
        "colab": {
          "base_uri": "https://localhost:8080/",
          "height": 55
        }
      },
      "source": [
        "f = open(\"poem.txt\", \"r\")\n",
        "out_lines = f.readlines()\n",
        "print(out_lines)\n",
        "f.close()"
      ],
      "execution_count": 0,
      "outputs": [
        {
          "output_type": "stream",
          "text": [
            "['Unending Love by Rabindranath Tagore\\n', '\\n', 'I seem to have loved you in numberless forms, numberless times\\n', 'In life after life, in age after age, forever.\\n', 'My spellbound heart has made and remade the necklace of songs,\\n', 'That you take as a gift, wear round your neck in your many forms,\\n', 'In life after life, in age after age, forever.\\n', '\\n', 'Whenever I hear old chronicles of love, its age-old pain,\\n', 'Its ancient tale of being apart or together.\\n', 'As I stare on and on into the past, in the end you emerge,\\n', 'Clad in the light of a pole-star piercing the darkness of time:\\n', 'You become an image of what is remembered forever.\\n', '\\n', 'You and I have floated here on the stream that brings from the fount.\\n', 'At the heart of time, love of one for another.\\n', 'We have played along side millions of lovers, shared in the same\\n', 'Shy sweetness of meeting, the same distressful tears of farewell-\\n', 'Old love but in shapes that renew and renew forever.\\n', '\\n', 'Today it is heaped at your feet, it has found its end in you\\n', 'The love of all man’s days both past and forever:\\n', 'Universal joy, universal sorrow, universal life.\\n', 'The memories of all loves merging with this one love of ours –\\n', 'And the songs of every poet past and forever.']\n"
          ],
          "name": "stdout"
        }
      ]
    },
    {
      "cell_type": "markdown",
      "metadata": {
        "id": "YPodBtxNI2uS",
        "colab_type": "text"
      },
      "source": [
        "# Documentation and Error Handling"
      ]
    },
    {
      "cell_type": "markdown",
      "metadata": {
        "id": "uBR5U473CLPr",
        "colab_type": "text"
      },
      "source": [
        "**Note to self about Fibonacci sequence**\n",
        "\n",
        "Start from *two* numbers $(f_0, f_1)$ and compute the $n$th value as \n",
        "$f_{n} \\leftarrow f_{n - 1} + f_{n - 2}$.\n",
        "\n",
        "It turns out that the ratio of consecutive numbers in the Fibonacci sequence approximates to the Golden ratio $\\phi$: \n",
        "$$ \\phi \\approx \\dfrac{f_n}{f_{n - 1}} $$"
      ]
    },
    {
      "cell_type": "code",
      "metadata": {
        "id": "fqC4mlzIBy36",
        "colab_type": "code",
        "colab": {}
      },
      "source": [
        "def fibonacci_sequence(n, a = 1, b = 1):\n",
        "    for i in range(n):\n",
        "        temp = a + b\n",
        "        a = b\n",
        "        b = temp\n",
        "    return temp"
      ],
      "execution_count": 0,
      "outputs": []
    },
    {
      "cell_type": "code",
      "metadata": {
        "id": "ILkL0PSiCRwE",
        "colab_type": "code",
        "colab": {}
      },
      "source": [
        "def input_single_float(prompt):\n",
        "    user_input = input(prompt)\n",
        "    output = float(user_input)\n",
        "    return output"
      ],
      "execution_count": 0,
      "outputs": []
    },
    {
      "cell_type": "code",
      "metadata": {
        "id": "9ft-ChR7Cba_",
        "colab_type": "code",
        "colab": {}
      },
      "source": [
        "def fibonacci_sequence(n, a =10, b = 1):\n",
        "    \"\"\"\n",
        "    This computes the nth number in the Fibonacci sequence\n",
        "    starting with a and b as the first two values.\n",
        "    \"\"\"\n",
        "    for i in range(n):\n",
        "        temp = a + b\n",
        "        a = b\n",
        "        b = temp\n",
        "    return temp"
      ],
      "execution_count": 0,
      "outputs": []
    },
    {
      "cell_type": "code",
      "metadata": {
        "id": "5tDaKoqmOQaM",
        "colab_type": "code",
        "colab": {}
      },
      "source": [
        "fibonacci_sequence?"
      ],
      "execution_count": 0,
      "outputs": []
    },
    {
      "cell_type": "code",
      "metadata": {
        "id": "kIjkQ0_0OVRg",
        "colab_type": "code",
        "colab": {}
      },
      "source": [
        "def input_single_float(prompt):\n",
        "    \"\"\"\n",
        "    This prompts user to input, and then converts this to a single float\n",
        "    \"\"\"\n",
        "    user_input = input(prompt)\n",
        "    output = float(user_input)\n",
        "    return output"
      ],
      "execution_count": 0,
      "outputs": []
    },
    {
      "cell_type": "code",
      "metadata": {
        "id": "VqIcwOflPMdi",
        "colab_type": "code",
        "outputId": "d1fefeab-263d-40bc-8ffb-85f77a1fc7de",
        "colab": {
          "base_uri": "https://localhost:8080/",
          "height": 320
        }
      },
      "source": [
        "val = input_single_float('Enter PI ')"
      ],
      "execution_count": 0,
      "outputs": [
        {
          "output_type": "stream",
          "text": [
            "Enter PI PI\n"
          ],
          "name": "stdout"
        },
        {
          "output_type": "error",
          "ename": "ValueError",
          "evalue": "ignored",
          "traceback": [
            "\u001b[0;31m---------------------------------------------------------------------------\u001b[0m",
            "\u001b[0;31mValueError\u001b[0m                                Traceback (most recent call last)",
            "\u001b[0;32m<ipython-input-9-86b099255a89>\u001b[0m in \u001b[0;36m<module>\u001b[0;34m()\u001b[0m\n\u001b[0;32m----> 1\u001b[0;31m \u001b[0mval\u001b[0m \u001b[0;34m=\u001b[0m \u001b[0minput_single_float\u001b[0m\u001b[0;34m(\u001b[0m\u001b[0;34m'Enter PI '\u001b[0m\u001b[0;34m)\u001b[0m\u001b[0;34m\u001b[0m\u001b[0;34m\u001b[0m\u001b[0m\n\u001b[0m",
            "\u001b[0;32m<ipython-input-6-efd3d0d3fb4d>\u001b[0m in \u001b[0;36minput_single_float\u001b[0;34m(prompt)\u001b[0m\n\u001b[1;32m      4\u001b[0m     \"\"\"\n\u001b[1;32m      5\u001b[0m     \u001b[0muser_input\u001b[0m \u001b[0;34m=\u001b[0m \u001b[0minput\u001b[0m\u001b[0;34m(\u001b[0m\u001b[0mprompt\u001b[0m\u001b[0;34m)\u001b[0m\u001b[0;34m\u001b[0m\u001b[0;34m\u001b[0m\u001b[0m\n\u001b[0;32m----> 6\u001b[0;31m     \u001b[0moutput\u001b[0m \u001b[0;34m=\u001b[0m \u001b[0mfloat\u001b[0m\u001b[0;34m(\u001b[0m\u001b[0muser_input\u001b[0m\u001b[0;34m)\u001b[0m\u001b[0;34m\u001b[0m\u001b[0;34m\u001b[0m\u001b[0m\n\u001b[0m\u001b[1;32m      7\u001b[0m     \u001b[0;32mreturn\u001b[0m \u001b[0moutput\u001b[0m\u001b[0;34m\u001b[0m\u001b[0;34m\u001b[0m\u001b[0m\n",
            "\u001b[0;31mValueError\u001b[0m: could not convert string to float: 'PI'"
          ]
        }
      ]
    },
    {
      "cell_type": "code",
      "metadata": {
        "id": "OdONGuQLPTIW",
        "colab_type": "code",
        "colab": {}
      },
      "source": [
        "def input_single_float(prompt):\n",
        "    \"\"\"\n",
        "    This prompts user to input, and then converts this to a single float\n",
        "    \"\"\"\n",
        "    user_input = input(prompt)\n",
        "    try: \n",
        "        output = float(user_input)\n",
        "    except ValueError:\n",
        "        print(\"Input value must be a float\")\n",
        "        output = None\n",
        "    return output"
      ],
      "execution_count": 0,
      "outputs": []
    },
    {
      "cell_type": "code",
      "metadata": {
        "id": "UrJOrnHWP41g",
        "colab_type": "code",
        "outputId": "e557d14c-7f57-4e31-cbf4-c9a5d56f2eff",
        "colab": {
          "base_uri": "https://localhost:8080/",
          "height": 54
        }
      },
      "source": [
        "val = input_single_float('Enter PI ')"
      ],
      "execution_count": 0,
      "outputs": [
        {
          "output_type": "stream",
          "text": [
            "Enter PI PI\n",
            "Input value must be a float\n"
          ],
          "name": "stdout"
        }
      ]
    },
    {
      "cell_type": "code",
      "metadata": {
        "id": "b5ERjMRdP66b",
        "colab_type": "code",
        "outputId": "0291f7b8-7a80-4376-f442-a4749638008c",
        "colab": {
          "base_uri": "https://localhost:8080/",
          "height": 35
        }
      },
      "source": [
        "print(val, type(val))"
      ],
      "execution_count": 0,
      "outputs": [
        {
          "output_type": "stream",
          "text": [
            "None <class 'NoneType'>\n"
          ],
          "name": "stdout"
        }
      ]
    },
    {
      "cell_type": "code",
      "metadata": {
        "id": "gvQoH-PdQPOt",
        "colab_type": "code",
        "colab": {}
      },
      "source": [
        "def input_single_float_inverse(prompt):\n",
        "    \"\"\"\n",
        "    This prompts user to input, and then converts this to a single float inverse\n",
        "    \"\"\"\n",
        "    user_input = input(prompt)\n",
        "    output = None\n",
        "    try: \n",
        "        output = 1/float(user_input)\n",
        "    except ValueError:\n",
        "        print(\"Input value must be a float\")\n",
        "    except ZeroDivisionError:\n",
        "        print(\"Input value must not be zero\")\n",
        "    return output"
      ],
      "execution_count": 0,
      "outputs": []
    },
    {
      "cell_type": "code",
      "metadata": {
        "id": "UHcwRqSyQfxj",
        "colab_type": "code",
        "outputId": "d26b689d-af20-441d-926e-5c7173710ce0",
        "colab": {
          "base_uri": "https://localhost:8080/",
          "height": 72
        }
      },
      "source": [
        "val = input_single_float_inverse('Enter number ')\n",
        "print(val)"
      ],
      "execution_count": 0,
      "outputs": [
        {
          "output_type": "stream",
          "text": [
            "Enter number 0\n",
            "Input value must not be zero\n",
            "None\n"
          ],
          "name": "stdout"
        }
      ]
    },
    {
      "cell_type": "markdown",
      "metadata": {
        "id": "6Ut0mP550rvh",
        "colab_type": "text"
      },
      "source": [
        "# Lists"
      ]
    },
    {
      "cell_type": "code",
      "metadata": {
        "id": "2sCpl7IG0MCS",
        "colab_type": "code",
        "colab": {}
      },
      "source": [
        "course_name = \"Foundations of Data Science\""
      ],
      "execution_count": 0,
      "outputs": []
    },
    {
      "cell_type": "code",
      "metadata": {
        "id": "t22wYIzW0vvY",
        "colab_type": "code",
        "colab": {}
      },
      "source": [
        "words = course_name.split()"
      ],
      "execution_count": 0,
      "outputs": []
    },
    {
      "cell_type": "code",
      "metadata": {
        "id": "ooADbjda0yjN",
        "colab_type": "code",
        "outputId": "889f5cf4-88d5-49de-a061-ac54db1b2151",
        "colab": {
          "base_uri": "https://localhost:8080/",
          "height": 35
        }
      },
      "source": [
        "print(words)"
      ],
      "execution_count": 0,
      "outputs": [
        {
          "output_type": "stream",
          "text": [
            "['Foundations', 'of', 'Data', 'Science']\n"
          ],
          "name": "stdout"
        }
      ]
    },
    {
      "cell_type": "code",
      "metadata": {
        "id": "_EpvJuLJ0znb",
        "colab_type": "code",
        "colab": {}
      },
      "source": [
        "str.split?"
      ],
      "execution_count": 0,
      "outputs": []
    },
    {
      "cell_type": "code",
      "metadata": {
        "id": "sumvsLzf08H6",
        "colab_type": "code",
        "outputId": "4f1abe91-c5f2-4ef0-e47b-36cd0dd2664a",
        "colab": {
          "base_uri": "https://localhost:8080/",
          "height": 35
        }
      },
      "source": [
        "print(type(words))"
      ],
      "execution_count": 0,
      "outputs": [
        {
          "output_type": "stream",
          "text": [
            "<class 'list'>\n"
          ],
          "name": "stdout"
        }
      ]
    },
    {
      "cell_type": "code",
      "metadata": {
        "id": "T0DrQ1rH1Fyq",
        "colab_type": "code",
        "outputId": "ab6c5898-6714-4f72-cd05-e285402a0049",
        "colab": {
          "base_uri": "https://localhost:8080/",
          "height": 35
        }
      },
      "source": [
        "print(words[2])"
      ],
      "execution_count": 0,
      "outputs": [
        {
          "output_type": "stream",
          "text": [
            "Data\n"
          ],
          "name": "stdout"
        }
      ]
    },
    {
      "cell_type": "code",
      "metadata": {
        "id": "tqYdpiaK1MEF",
        "colab_type": "code",
        "outputId": "b21de28f-da83-4def-a5db-d463676e08f6",
        "colab": {
          "base_uri": "https://localhost:8080/",
          "height": 35
        }
      },
      "source": [
        "print(type(words[-2]))"
      ],
      "execution_count": 0,
      "outputs": [
        {
          "output_type": "stream",
          "text": [
            "<class 'str'>\n"
          ],
          "name": "stdout"
        }
      ]
    },
    {
      "cell_type": "code",
      "metadata": {
        "id": "T4Tmfhax1Ywi",
        "colab_type": "code",
        "outputId": "5709df7e-6b68-4934-acf7-5ce108ed5313",
        "colab": {
          "base_uri": "https://localhost:8080/",
          "height": 35
        }
      },
      "source": [
        "print(words[-2].lower())"
      ],
      "execution_count": 0,
      "outputs": [
        {
          "output_type": "stream",
          "text": [
            "data\n"
          ],
          "name": "stdout"
        }
      ]
    },
    {
      "cell_type": "code",
      "metadata": {
        "id": "x6hTL0KR1fMc",
        "colab_type": "code",
        "outputId": "efb5df2a-1178-4d02-9f61-0290ddcde832",
        "colab": {
          "base_uri": "https://localhost:8080/",
          "height": 35
        }
      },
      "source": [
        "print(words[0:2])"
      ],
      "execution_count": 0,
      "outputs": [
        {
          "output_type": "stream",
          "text": [
            "['Foundations', 'of']\n"
          ],
          "name": "stdout"
        }
      ]
    },
    {
      "cell_type": "code",
      "metadata": {
        "id": "ObnsuU-I1qN8",
        "colab_type": "code",
        "outputId": "b16b8a94-67c9-4af1-bf62-e041e4579d7a",
        "colab": {
          "base_uri": "https://localhost:8080/",
          "height": 35
        }
      },
      "source": [
        "print(words[:2])"
      ],
      "execution_count": 0,
      "outputs": [
        {
          "output_type": "stream",
          "text": [
            "['Foundations', 'of']\n"
          ],
          "name": "stdout"
        }
      ]
    },
    {
      "cell_type": "code",
      "metadata": {
        "id": "TwYJRQ2K10SO",
        "colab_type": "code",
        "outputId": "6e0a854c-b2be-47b4-b38f-0bec9345111c",
        "colab": {
          "base_uri": "https://localhost:8080/",
          "height": 35
        }
      },
      "source": [
        "print(type(words[1:]))"
      ],
      "execution_count": 0,
      "outputs": [
        {
          "output_type": "stream",
          "text": [
            "<class 'list'>\n"
          ],
          "name": "stdout"
        }
      ]
    },
    {
      "cell_type": "code",
      "metadata": {
        "id": "wkKVVYK2130R",
        "colab_type": "code",
        "colab": {}
      },
      "source": [
        "new_words = [\"Machine\", \"Learning\"]"
      ],
      "execution_count": 0,
      "outputs": []
    },
    {
      "cell_type": "code",
      "metadata": {
        "id": "A6dHEz1v2BwZ",
        "colab_type": "code",
        "outputId": "bb5df681-4045-41bd-aadd-456e5934eb30",
        "colab": {
          "base_uri": "https://localhost:8080/",
          "height": 35
        }
      },
      "source": [
        "print(type(new_words))"
      ],
      "execution_count": 0,
      "outputs": [
        {
          "output_type": "stream",
          "text": [
            "<class 'list'>\n"
          ],
          "name": "stdout"
        }
      ]
    },
    {
      "cell_type": "code",
      "metadata": {
        "id": "U6W2YM7O2DDd",
        "colab_type": "code",
        "outputId": "f9a0bbe7-e3e0-4578-8f4d-1bc7c5aed2b2",
        "colab": {
          "base_uri": "https://localhost:8080/",
          "height": 35
        }
      },
      "source": [
        "print(new_words[0])"
      ],
      "execution_count": 0,
      "outputs": [
        {
          "output_type": "stream",
          "text": [
            "Machine\n"
          ],
          "name": "stdout"
        }
      ]
    },
    {
      "cell_type": "code",
      "metadata": {
        "id": "CLPct_dn2FjV",
        "colab_type": "code",
        "colab": {}
      },
      "source": [
        "fibonacci_list = [1, 1, 2, 3, 5, 8, 13, 21]"
      ],
      "execution_count": 0,
      "outputs": []
    },
    {
      "cell_type": "code",
      "metadata": {
        "id": "EINXgpEX2K2l",
        "colab_type": "code",
        "outputId": "5f9a206e-0ffb-430d-e284-b7f3aaface4f",
        "colab": {
          "base_uri": "https://localhost:8080/",
          "height": 35
        }
      },
      "source": [
        "print(type(fibonacci_list[0]))"
      ],
      "execution_count": 0,
      "outputs": [
        {
          "output_type": "stream",
          "text": [
            "<class 'int'>\n"
          ],
          "name": "stdout"
        }
      ]
    },
    {
      "cell_type": "code",
      "metadata": {
        "id": "FureZr8r2MQR",
        "colab_type": "code",
        "outputId": "b142a938-e51b-43f0-8111-aeb707eeedd7",
        "colab": {
          "base_uri": "https://localhost:8080/",
          "height": 35
        }
      },
      "source": [
        "print(fibonacci_list[0] + 10)"
      ],
      "execution_count": 0,
      "outputs": [
        {
          "output_type": "stream",
          "text": [
            "11\n"
          ],
          "name": "stdout"
        }
      ]
    },
    {
      "cell_type": "code",
      "metadata": {
        "id": "wHCWmqiU2RYh",
        "colab_type": "code",
        "outputId": "93687a1f-096f-4731-edee-b79637c61d6e",
        "colab": {
          "base_uri": "https://localhost:8080/",
          "height": 164
        }
      },
      "source": [
        "for num in fibonacci_list:\n",
        "    print(num + 10)"
      ],
      "execution_count": 0,
      "outputs": [
        {
          "output_type": "stream",
          "text": [
            "11\n",
            "11\n",
            "12\n",
            "13\n",
            "15\n",
            "18\n",
            "23\n",
            "31\n"
          ],
          "name": "stdout"
        }
      ]
    },
    {
      "cell_type": "code",
      "metadata": {
        "id": "OmGFOHv52c-Q",
        "colab_type": "code",
        "outputId": "de434a8e-deea-4c3a-920e-4d6d7fc0a061",
        "colab": {
          "base_uri": "https://localhost:8080/",
          "height": 35
        }
      },
      "source": [
        "length = len(fibonacci_list)\n",
        "print(length)"
      ],
      "execution_count": 0,
      "outputs": [
        {
          "output_type": "stream",
          "text": [
            "8\n"
          ],
          "name": "stdout"
        }
      ]
    },
    {
      "cell_type": "code",
      "metadata": {
        "id": "R7wnHSMH2sPE",
        "colab_type": "code",
        "outputId": "f6747209-0b5c-4361-b7cc-e25f414aca6e",
        "colab": {
          "base_uri": "https://localhost:8080/",
          "height": 164
        }
      },
      "source": [
        "for i in range(length):\n",
        "    print(i, fibonacci_list[i])"
      ],
      "execution_count": 0,
      "outputs": [
        {
          "output_type": "stream",
          "text": [
            "0 1\n",
            "1 1\n",
            "2 2\n",
            "3 3\n",
            "4 5\n",
            "5 8\n",
            "6 13\n",
            "7 21\n"
          ],
          "name": "stdout"
        }
      ]
    },
    {
      "cell_type": "code",
      "metadata": {
        "id": "MjWqDjLF2xk_",
        "colab_type": "code",
        "colab": {}
      },
      "source": [
        "bmi_record = [\"Krishna\", 75, 1.73, False]"
      ],
      "execution_count": 0,
      "outputs": []
    },
    {
      "cell_type": "code",
      "metadata": {
        "id": "nNLZS8m43HjW",
        "colab_type": "code",
        "outputId": "10d07662-cd4c-424c-82b8-00df0d8075b1",
        "colab": {
          "base_uri": "https://localhost:8080/",
          "height": 35
        }
      },
      "source": [
        "print(type(bmi_record))"
      ],
      "execution_count": 0,
      "outputs": [
        {
          "output_type": "stream",
          "text": [
            "<class 'list'>\n"
          ],
          "name": "stdout"
        }
      ]
    },
    {
      "cell_type": "code",
      "metadata": {
        "id": "xgTlXkEf3JUL",
        "colab_type": "code",
        "outputId": "2d395d6c-66b7-4cb6-ce73-c156688101d3",
        "colab": {
          "base_uri": "https://localhost:8080/",
          "height": 91
        }
      },
      "source": [
        "for item in bmi_record:\n",
        "    print(item, type(item))"
      ],
      "execution_count": 0,
      "outputs": [
        {
          "output_type": "stream",
          "text": [
            "Krishna A <class 'str'>\n",
            "75 <class 'int'>\n",
            "1.73 <class 'float'>\n",
            "False <class 'bool'>\n"
          ],
          "name": "stdout"
        }
      ]
    },
    {
      "cell_type": "code",
      "metadata": {
        "id": "5zQYms0i3OWy",
        "colab_type": "code",
        "colab": {}
      },
      "source": [
        "bmi_record[0] = \"Krishna A\""
      ],
      "execution_count": 0,
      "outputs": []
    },
    {
      "cell_type": "code",
      "metadata": {
        "id": "TUwm9fjg3Whh",
        "colab_type": "code",
        "colab": {}
      },
      "source": [
        "bmi_record.append(\"krishnaa@idontknow.com\")"
      ],
      "execution_count": 0,
      "outputs": []
    },
    {
      "cell_type": "code",
      "metadata": {
        "id": "8ZmQL12t3fiK",
        "colab_type": "code",
        "outputId": "4f4b2d13-e979-496b-d58d-64a562e68d7a",
        "colab": {
          "base_uri": "https://localhost:8080/",
          "height": 109
        }
      },
      "source": [
        "for item in bmi_record:\n",
        "    print(item, type(item))"
      ],
      "execution_count": 0,
      "outputs": [
        {
          "output_type": "stream",
          "text": [
            "Krishna A <class 'str'>\n",
            "75 <class 'int'>\n",
            "1.73 <class 'float'>\n",
            "False <class 'bool'>\n",
            "krishnaa@idontknow.com <class 'str'>\n"
          ],
          "name": "stdout"
        }
      ]
    },
    {
      "cell_type": "markdown",
      "metadata": {
        "id": "-ziDAeaFJQRR",
        "colab_type": "text"
      },
      "source": [
        "# Lists - continued"
      ]
    },
    {
      "cell_type": "code",
      "metadata": {
        "id": "EQkc3mMy3hD-",
        "colab_type": "code",
        "colab": {}
      },
      "source": [
        "bmi_dataset = [\n",
        "               [\"Krishna\", 75, 1.73, False],\n",
        "               [\"Bheem\", 120, 1.78, True]\n",
        "]"
      ],
      "execution_count": 0,
      "outputs": []
    },
    {
      "cell_type": "code",
      "metadata": {
        "id": "xEvdr535Jg3d",
        "colab_type": "code",
        "outputId": "53b90a0d-d1fa-46d4-ac0b-5214eb01ab14",
        "colab": {
          "base_uri": "https://localhost:8080/",
          "height": 35
        }
      },
      "source": [
        "print(type(bmi_dataset[1]))"
      ],
      "execution_count": 0,
      "outputs": [
        {
          "output_type": "stream",
          "text": [
            "<class 'list'>\n"
          ],
          "name": "stdout"
        }
      ]
    },
    {
      "cell_type": "code",
      "metadata": {
        "id": "r3NEcEflJjuA",
        "colab_type": "code",
        "outputId": "5fdbff4f-c23f-4dd6-a16a-f27815a05d27",
        "colab": {
          "base_uri": "https://localhost:8080/",
          "height": 35
        }
      },
      "source": [
        "print(bmi_dataset[0])"
      ],
      "execution_count": 0,
      "outputs": [
        {
          "output_type": "stream",
          "text": [
            "['Krishna', 75, 1.73, False]\n"
          ],
          "name": "stdout"
        }
      ]
    },
    {
      "cell_type": "code",
      "metadata": {
        "id": "GSkr_XjBJtrP",
        "colab_type": "code",
        "outputId": "027eed67-8adc-4b80-a1d8-efeaee4c9153",
        "colab": {
          "base_uri": "https://localhost:8080/",
          "height": 35
        }
      },
      "source": [
        "print(type(bmi_dataset[0][0]))"
      ],
      "execution_count": 0,
      "outputs": [
        {
          "output_type": "stream",
          "text": [
            "<class 'str'>\n"
          ],
          "name": "stdout"
        }
      ]
    },
    {
      "cell_type": "code",
      "metadata": {
        "id": "yREJjR6WJ2r3",
        "colab_type": "code",
        "outputId": "12a24979-6201-4fc0-9065-96e93e640dee",
        "colab": {
          "base_uri": "https://localhost:8080/",
          "height": 35
        }
      },
      "source": [
        "print(bmi_dataset[1][2])"
      ],
      "execution_count": 0,
      "outputs": [
        {
          "output_type": "stream",
          "text": [
            "1.78\n"
          ],
          "name": "stdout"
        }
      ]
    },
    {
      "cell_type": "code",
      "metadata": {
        "id": "4Vokqa0FJ89l",
        "colab_type": "code",
        "colab": {}
      },
      "source": [
        "bmi_dataset[1].append(\"bheem@foodtruck.com\")"
      ],
      "execution_count": 0,
      "outputs": []
    },
    {
      "cell_type": "code",
      "metadata": {
        "id": "Rzgndf4aKO8p",
        "colab_type": "code",
        "outputId": "9cead59b-867d-44f9-de5d-8d989b295cb4",
        "colab": {
          "base_uri": "https://localhost:8080/",
          "height": 55
        }
      },
      "source": [
        "print(bmi_dataset)"
      ],
      "execution_count": 0,
      "outputs": [
        {
          "output_type": "stream",
          "text": [
            "[['Krishna', 75, 1.73, False], ['Bheem', 120, 1.78, True, 'bheem@foodtruck.com']]\n"
          ],
          "name": "stdout"
        }
      ]
    },
    {
      "cell_type": "code",
      "metadata": {
        "id": "Lkz3Es5QKQf3",
        "colab_type": "code",
        "colab": {}
      },
      "source": [
        "bmi_dataset[1][1] = 125"
      ],
      "execution_count": 0,
      "outputs": []
    },
    {
      "cell_type": "code",
      "metadata": {
        "id": "aBBMxzV7KZ_1",
        "colab_type": "code",
        "colab": {}
      },
      "source": [
        "identity_3 = [\n",
        "              [1, 0, 0],\n",
        "              [0, 1, 0],\n",
        "              [0, 0, 1]\n",
        "]"
      ],
      "execution_count": 0,
      "outputs": []
    },
    {
      "cell_type": "code",
      "metadata": {
        "id": "7NTzmXOwKqp8",
        "colab_type": "code",
        "outputId": "65f9772f-1a75-4751-84fa-a6cee3c032b1",
        "colab": {
          "base_uri": "https://localhost:8080/",
          "height": 35
        }
      },
      "source": [
        "print(identity_3[2][2])"
      ],
      "execution_count": 0,
      "outputs": [
        {
          "output_type": "stream",
          "text": [
            "1\n"
          ],
          "name": "stdout"
        }
      ]
    },
    {
      "cell_type": "code",
      "metadata": {
        "id": "eutbtw4XKsd0",
        "colab_type": "code",
        "colab": {}
      },
      "source": [
        "A = [1, 2]"
      ],
      "execution_count": 0,
      "outputs": []
    },
    {
      "cell_type": "code",
      "metadata": {
        "id": "prDRE12VK6Wt",
        "colab_type": "code",
        "colab": {}
      },
      "source": [
        "B = A"
      ],
      "execution_count": 0,
      "outputs": []
    },
    {
      "cell_type": "code",
      "metadata": {
        "id": "ARmetUuiK7hZ",
        "colab_type": "code",
        "outputId": "3342a88a-33bb-4d75-8844-6fad99cb2040",
        "colab": {
          "base_uri": "https://localhost:8080/",
          "height": 35
        }
      },
      "source": [
        "print(B)"
      ],
      "execution_count": 0,
      "outputs": [
        {
          "output_type": "stream",
          "text": [
            "[1, 2]\n"
          ],
          "name": "stdout"
        }
      ]
    },
    {
      "cell_type": "code",
      "metadata": {
        "id": "C8N0K8KlK9M8",
        "colab_type": "code",
        "colab": {}
      },
      "source": [
        "A[0] = A[0] + A[1]"
      ],
      "execution_count": 0,
      "outputs": []
    },
    {
      "cell_type": "code",
      "metadata": {
        "id": "kJt33znALCpE",
        "colab_type": "code",
        "outputId": "3eb792e3-8b36-4724-fecf-96c4612e99df",
        "colab": {
          "base_uri": "https://localhost:8080/",
          "height": 35
        }
      },
      "source": [
        "print(A)"
      ],
      "execution_count": 0,
      "outputs": [
        {
          "output_type": "stream",
          "text": [
            "[3, 2]\n"
          ],
          "name": "stdout"
        }
      ]
    },
    {
      "cell_type": "code",
      "metadata": {
        "id": "l_O2qJtwLDZq",
        "colab_type": "code",
        "outputId": "4325d959-5ef2-476f-80ec-78c83d0a4f05",
        "colab": {
          "base_uri": "https://localhost:8080/",
          "height": 35
        }
      },
      "source": [
        "print(B)"
      ],
      "execution_count": 0,
      "outputs": [
        {
          "output_type": "stream",
          "text": [
            "[3, 2]\n"
          ],
          "name": "stdout"
        }
      ]
    },
    {
      "cell_type": "code",
      "metadata": {
        "id": "Ngunj3jtLEv0",
        "colab_type": "code",
        "colab": {}
      },
      "source": [
        "A = [1, 2]"
      ],
      "execution_count": 0,
      "outputs": []
    },
    {
      "cell_type": "code",
      "metadata": {
        "id": "mROzmMJgLXrn",
        "colab_type": "code",
        "colab": {}
      },
      "source": [
        "B = [item for item in A]"
      ],
      "execution_count": 0,
      "outputs": []
    },
    {
      "cell_type": "code",
      "metadata": {
        "id": "6NlLnK1XLiyu",
        "colab_type": "code",
        "outputId": "30bafcb5-8c6c-4cb2-e504-340405cea3ac",
        "colab": {
          "base_uri": "https://localhost:8080/",
          "height": 35
        }
      },
      "source": [
        "print(B)"
      ],
      "execution_count": 0,
      "outputs": [
        {
          "output_type": "stream",
          "text": [
            "[1, 2]\n"
          ],
          "name": "stdout"
        }
      ]
    },
    {
      "cell_type": "code",
      "metadata": {
        "id": "PbZtWubDLjgK",
        "colab_type": "code",
        "colab": {}
      },
      "source": [
        "A[0] = A[0] + A[1]"
      ],
      "execution_count": 0,
      "outputs": []
    },
    {
      "cell_type": "code",
      "metadata": {
        "id": "o_fIxWZ4Lk_w",
        "colab_type": "code",
        "outputId": "756d7517-016c-42f4-d2f5-f393c9c5af42",
        "colab": {
          "base_uri": "https://localhost:8080/",
          "height": 35
        }
      },
      "source": [
        "print(A)"
      ],
      "execution_count": 0,
      "outputs": [
        {
          "output_type": "stream",
          "text": [
            "[3, 2]\n"
          ],
          "name": "stdout"
        }
      ]
    },
    {
      "cell_type": "code",
      "metadata": {
        "id": "QrKvnxdtLlls",
        "colab_type": "code",
        "outputId": "b28b9b65-8854-4dc2-ffe2-34bbfc09693a",
        "colab": {
          "base_uri": "https://localhost:8080/",
          "height": 35
        }
      },
      "source": [
        "print(B)"
      ],
      "execution_count": 0,
      "outputs": [
        {
          "output_type": "stream",
          "text": [
            "[1, 2]\n"
          ],
          "name": "stdout"
        }
      ]
    },
    {
      "cell_type": "markdown",
      "metadata": {
        "id": "cmJis39bLvNn",
        "colab_type": "text"
      },
      "source": [
        "# Exercise for Lists\n",
        "\n",
        "Given the following square matrix $A$\n",
        "$$A =  \\begin{pmatrix} 1 & 1 \\\\ 1 & 0  \\end{pmatrix}$$\n",
        "compute the matrix $A^n$ obtained by multiplying $A$ to itself $n$ times.\n",
        " \n",
        "Can you comment on the left-top value in $A^n$ (what does this remind you of?)"
      ]
    },
    {
      "cell_type": "code",
      "metadata": {
        "id": "yfKUGqMNLmcn",
        "colab_type": "code",
        "colab": {}
      },
      "source": [
        "def square_matrix_power(A, n):\n",
        "    output = A\n",
        "    temp = A\n",
        "    for i in range(n - 1):\n",
        "        # output = A * output\n",
        "        # -> output = A * temp\n",
        "        #    temp = output\n",
        "        output[0][0] = A[0][0] * temp[0][0] + A[0][1] * temp[1][0]\n",
        "        output[0][1] = A[0][0] * temp[0][1] + A[0][1] * temp[1][1]\n",
        "        output[1][0] = A[1][0] * temp[0][0] + A[1][1] * temp[1][0]\n",
        "        output[1][1] = A[1][0] * temp[0][1] + A[1][1] * temp[1][1]\n",
        "        temp = output\n",
        "    return output"
      ],
      "execution_count": 0,
      "outputs": []
    },
    {
      "cell_type": "code",
      "metadata": {
        "id": "1gCv_QnCNoEv",
        "colab_type": "code",
        "colab": {}
      },
      "source": [
        "A = [\n",
        "     [1, 1], \n",
        "     [1, 0]\n",
        "]"
      ],
      "execution_count": 0,
      "outputs": []
    },
    {
      "cell_type": "code",
      "metadata": {
        "id": "1WSp8kFJNrMG",
        "colab_type": "code",
        "outputId": "98489603-2031-4855-8a9b-aa3f18dd0a09",
        "colab": {
          "base_uri": "https://localhost:8080/",
          "height": 35
        }
      },
      "source": [
        "print(square_matrix_power(A, 2))"
      ],
      "execution_count": 0,
      "outputs": [
        {
          "output_type": "stream",
          "text": [
            "[[2, 2], [2, 4]]\n"
          ],
          "name": "stdout"
        }
      ]
    },
    {
      "cell_type": "code",
      "metadata": {
        "id": "DF4JZ9NbOXai",
        "colab_type": "code",
        "colab": {}
      },
      "source": [
        "def square_matrix_power(A, n):\n",
        "    output = [item[:] for item in A]\n",
        "    temp = [item[:] for item in A]\n",
        "    for i in range(n - 1):\n",
        "        # output = A * output\n",
        "        # -> output = A * temp\n",
        "        #    temp = output\n",
        "        output[0][0] = A[0][0] * temp[0][0] + A[0][1] * temp[1][0]\n",
        "        output[0][1] = A[0][0] * temp[0][1] + A[0][1] * temp[1][1]\n",
        "        output[1][0] = A[1][0] * temp[0][0] + A[1][1] * temp[1][0]\n",
        "        output[1][1] = A[1][0] * temp[0][1] + A[1][1] * temp[1][1]\n",
        "        temp = [item[:] for item in output]\n",
        "    return output"
      ],
      "execution_count": 0,
      "outputs": []
    },
    {
      "cell_type": "code",
      "metadata": {
        "id": "AY5Tj-w0PMLQ",
        "colab_type": "code",
        "colab": {}
      },
      "source": [
        "A = [\n",
        "     [1, 1], \n",
        "     [1, 0]\n",
        "]"
      ],
      "execution_count": 0,
      "outputs": []
    },
    {
      "cell_type": "code",
      "metadata": {
        "id": "IUJhgUDbPGuR",
        "colab_type": "code",
        "outputId": "154d47b7-7aeb-4362-8fda-c3f7d94bf134",
        "colab": {
          "base_uri": "https://localhost:8080/",
          "height": 35
        }
      },
      "source": [
        "print(square_matrix_power(A, 2))"
      ],
      "execution_count": 0,
      "outputs": [
        {
          "output_type": "stream",
          "text": [
            "[[2, 1], [1, 1]]\n"
          ],
          "name": "stdout"
        }
      ]
    },
    {
      "cell_type": "code",
      "metadata": {
        "id": "2PLmw7oOPKDc",
        "colab_type": "code",
        "outputId": "6e7724ba-1bad-4066-813f-47455ff4dd99",
        "colab": {
          "base_uri": "https://localhost:8080/",
          "height": 201
        }
      },
      "source": [
        "for n in range(10):\n",
        "    output = square_matrix_power(A, n)\n",
        "    print(n, output[0][0])"
      ],
      "execution_count": 0,
      "outputs": [
        {
          "output_type": "stream",
          "text": [
            "0 1\n",
            "1 1\n",
            "2 2\n",
            "3 3\n",
            "4 5\n",
            "5 8\n",
            "6 13\n",
            "7 21\n",
            "8 34\n",
            "9 55\n"
          ],
          "name": "stdout"
        }
      ]
    },
    {
      "cell_type": "markdown",
      "metadata": {
        "id": "V4bsIvOxSRJE",
        "colab_type": "text"
      },
      "source": [
        "# Tuples and Sets"
      ]
    },
    {
      "cell_type": "code",
      "metadata": {
        "id": "_DJblfyJPhY1",
        "colab_type": "code",
        "colab": {}
      },
      "source": [
        "bmi_categories = (\"Underweight\", \"Normal\", \"Overweight\", \"Very overweight\")"
      ],
      "execution_count": 0,
      "outputs": []
    },
    {
      "cell_type": "code",
      "metadata": {
        "id": "8CXBKymkSktX",
        "colab_type": "code",
        "outputId": "ddfaa8cd-0e9a-4ca2-8965-6fac7c2755c0",
        "colab": {
          "base_uri": "https://localhost:8080/",
          "height": 35
        }
      },
      "source": [
        "print(type(bmi_categories))"
      ],
      "execution_count": 0,
      "outputs": [
        {
          "output_type": "stream",
          "text": [
            "<class 'tuple'>\n"
          ],
          "name": "stdout"
        }
      ]
    },
    {
      "cell_type": "code",
      "metadata": {
        "id": "PSZ4cleeSnNq",
        "colab_type": "code",
        "outputId": "91ceab10-d955-4199-f498-956b170eb715",
        "colab": {
          "base_uri": "https://localhost:8080/",
          "height": 35
        }
      },
      "source": [
        "print(bmi_categories[-1])"
      ],
      "execution_count": 0,
      "outputs": [
        {
          "output_type": "stream",
          "text": [
            "Very overweight\n"
          ],
          "name": "stdout"
        }
      ]
    },
    {
      "cell_type": "code",
      "metadata": {
        "id": "Atj3VM1RSs_Z",
        "colab_type": "code",
        "outputId": "5c96aca3-9c1e-4e21-d0d5-a9416b5c19a4",
        "colab": {
          "base_uri": "https://localhost:8080/",
          "height": 35
        }
      },
      "source": [
        "print(bmi_categories[0:2])"
      ],
      "execution_count": 0,
      "outputs": [
        {
          "output_type": "stream",
          "text": [
            "('Underweight', 'Normal')\n"
          ],
          "name": "stdout"
        }
      ]
    },
    {
      "cell_type": "code",
      "metadata": {
        "id": "KhqmARH5S3p4",
        "colab_type": "code",
        "outputId": "9a3acd93-b935-4e9d-a463-d2d61046507b",
        "colab": {
          "base_uri": "https://localhost:8080/",
          "height": 35
        }
      },
      "source": [
        "bmi_categories.index(\"Normal\")"
      ],
      "execution_count": 0,
      "outputs": [
        {
          "output_type": "execute_result",
          "data": {
            "text/plain": [
              "1"
            ]
          },
          "metadata": {
            "tags": []
          },
          "execution_count": 82
        }
      ]
    },
    {
      "cell_type": "code",
      "metadata": {
        "id": "ThQzsWyRTEvp",
        "colab_type": "code",
        "outputId": "cd00781f-09e1-42d8-fdb2-94b02bc5adab",
        "colab": {
          "base_uri": "https://localhost:8080/",
          "height": 191
        }
      },
      "source": [
        "bmi_categories.index(\"Very underweight\")"
      ],
      "execution_count": 0,
      "outputs": [
        {
          "output_type": "error",
          "ename": "ValueError",
          "evalue": "ignored",
          "traceback": [
            "\u001b[0;31m---------------------------------------------------------------------------\u001b[0m",
            "\u001b[0;31mValueError\u001b[0m                                Traceback (most recent call last)",
            "\u001b[0;32m<ipython-input-83-e8511bb3003f>\u001b[0m in \u001b[0;36m<module>\u001b[0;34m()\u001b[0m\n\u001b[0;32m----> 1\u001b[0;31m \u001b[0mbmi_categories\u001b[0m\u001b[0;34m.\u001b[0m\u001b[0mindex\u001b[0m\u001b[0;34m(\u001b[0m\u001b[0;34m\"Very underweight\"\u001b[0m\u001b[0;34m)\u001b[0m\u001b[0;34m\u001b[0m\u001b[0;34m\u001b[0m\u001b[0m\n\u001b[0m",
            "\u001b[0;31mValueError\u001b[0m: tuple.index(x): x not in tuple"
          ]
        }
      ]
    },
    {
      "cell_type": "code",
      "metadata": {
        "id": "VXt7mx4ATMgp",
        "colab_type": "code",
        "outputId": "8f842d51-fca5-433a-b62b-3e000ea47f55",
        "colab": {
          "base_uri": "https://localhost:8080/",
          "height": 35
        }
      },
      "source": [
        "print(\"Underweight\" in bmi_categories)"
      ],
      "execution_count": 0,
      "outputs": [
        {
          "output_type": "stream",
          "text": [
            "True\n"
          ],
          "name": "stdout"
        }
      ]
    },
    {
      "cell_type": "code",
      "metadata": {
        "id": "ku1Ohc4RTVAe",
        "colab_type": "code",
        "outputId": "7870dd39-1063-4952-c16b-c80a1293d25c",
        "colab": {
          "base_uri": "https://localhost:8080/",
          "height": 191
        }
      },
      "source": [
        "bmi_categories[3] = \"VERY overweight\""
      ],
      "execution_count": 0,
      "outputs": [
        {
          "output_type": "error",
          "ename": "TypeError",
          "evalue": "ignored",
          "traceback": [
            "\u001b[0;31m---------------------------------------------------------------------------\u001b[0m",
            "\u001b[0;31mTypeError\u001b[0m                                 Traceback (most recent call last)",
            "\u001b[0;32m<ipython-input-86-d2ac44599195>\u001b[0m in \u001b[0;36m<module>\u001b[0;34m()\u001b[0m\n\u001b[0;32m----> 1\u001b[0;31m \u001b[0mbmi_categories\u001b[0m\u001b[0;34m[\u001b[0m\u001b[0;36m3\u001b[0m\u001b[0;34m]\u001b[0m \u001b[0;34m=\u001b[0m \u001b[0;34m\"VERY overweight\"\u001b[0m\u001b[0;34m\u001b[0m\u001b[0;34m\u001b[0m\u001b[0m\n\u001b[0m",
            "\u001b[0;31mTypeError\u001b[0m: 'tuple' object does not support item assignment"
          ]
        }
      ]
    },
    {
      "cell_type": "code",
      "metadata": {
        "id": "EGiN0aGOTiTW",
        "colab_type": "code",
        "outputId": "57ae5d11-d68f-41db-a526-3eaeb87519b6",
        "colab": {
          "base_uri": "https://localhost:8080/",
          "height": 35
        }
      },
      "source": [
        "%%timeit -n1 -r10\n",
        "for i in range(1000000):\n",
        "    my_list = [\"Tuples\", \"are\", \"faster\", \"than\", \"lists\"]"
      ],
      "execution_count": 0,
      "outputs": [
        {
          "output_type": "stream",
          "text": [
            "1 loop, best of 10: 70.7 ms per loop\n"
          ],
          "name": "stdout"
        }
      ]
    },
    {
      "cell_type": "code",
      "metadata": {
        "id": "UvYyyEkAUc1M",
        "colab_type": "code",
        "colab": {}
      },
      "source": [
        "%%timeit?"
      ],
      "execution_count": 0,
      "outputs": []
    },
    {
      "cell_type": "code",
      "metadata": {
        "id": "i23Msh0bUiAM",
        "colab_type": "code",
        "outputId": "78a50f61-3aa1-4ae1-d999-3229a707d2d5",
        "colab": {
          "base_uri": "https://localhost:8080/",
          "height": 35
        }
      },
      "source": [
        "%%timeit -n1 -r10\n",
        "for i in range(1000000):\n",
        "    my_tuple = (\"Tuples\", \"are\", \"faster\", \"than\", \"lists\")"
      ],
      "execution_count": 0,
      "outputs": [
        {
          "output_type": "stream",
          "text": [
            "1 loop, best of 10: 25.1 ms per loop\n"
          ],
          "name": "stdout"
        }
      ]
    },
    {
      "cell_type": "code",
      "metadata": {
        "id": "kv9wQVEWUtZ1",
        "colab_type": "code",
        "colab": {}
      },
      "source": [
        "batsmen = {\"Rohit\", \"Virat\", \"Ravindra\", \"Rahul\"}"
      ],
      "execution_count": 0,
      "outputs": []
    },
    {
      "cell_type": "code",
      "metadata": {
        "id": "Bca5ZURIVLOi",
        "colab_type": "code",
        "outputId": "d4c5f43d-1ae9-4d4f-a8d0-20f71c57b921",
        "colab": {
          "base_uri": "https://localhost:8080/",
          "height": 35
        }
      },
      "source": [
        "print(type(batsmen))"
      ],
      "execution_count": 0,
      "outputs": [
        {
          "output_type": "stream",
          "text": [
            "<class 'set'>\n"
          ],
          "name": "stdout"
        }
      ]
    },
    {
      "cell_type": "code",
      "metadata": {
        "id": "gbdMW5UGVNfX",
        "colab_type": "code",
        "outputId": "a2858790-43cd-4a6e-e290-f29dcf1327cc",
        "colab": {
          "base_uri": "https://localhost:8080/",
          "height": 35
        }
      },
      "source": [
        "print(\"Rohit\" in batsmen)"
      ],
      "execution_count": 0,
      "outputs": [
        {
          "output_type": "stream",
          "text": [
            "True\n"
          ],
          "name": "stdout"
        }
      ]
    },
    {
      "cell_type": "code",
      "metadata": {
        "id": "gX-GPXBvVSV8",
        "colab_type": "code",
        "outputId": "a418804d-7da7-49be-bf3a-193c9240f997",
        "colab": {
          "base_uri": "https://localhost:8080/",
          "height": 191
        }
      },
      "source": [
        "batsmen.index(\"Rohit\")"
      ],
      "execution_count": 0,
      "outputs": [
        {
          "output_type": "error",
          "ename": "AttributeError",
          "evalue": "ignored",
          "traceback": [
            "\u001b[0;31m---------------------------------------------------------------------------\u001b[0m",
            "\u001b[0;31mAttributeError\u001b[0m                            Traceback (most recent call last)",
            "\u001b[0;32m<ipython-input-93-90ac87f4e015>\u001b[0m in \u001b[0;36m<module>\u001b[0;34m()\u001b[0m\n\u001b[0;32m----> 1\u001b[0;31m \u001b[0mbatsmen\u001b[0m\u001b[0;34m.\u001b[0m\u001b[0mindex\u001b[0m\u001b[0;34m(\u001b[0m\u001b[0;34m\"Rohit\"\u001b[0m\u001b[0;34m)\u001b[0m\u001b[0;34m\u001b[0m\u001b[0;34m\u001b[0m\u001b[0m\n\u001b[0m",
            "\u001b[0;31mAttributeError\u001b[0m: 'set' object has no attribute 'index'"
          ]
        }
      ]
    },
    {
      "cell_type": "code",
      "metadata": {
        "id": "iPRzKwxpVZe7",
        "colab_type": "code",
        "colab": {}
      },
      "source": [
        "bowlers = {\"Ishant\", \"Bumrah\", \"Ravindra\"}"
      ],
      "execution_count": 0,
      "outputs": []
    },
    {
      "cell_type": "code",
      "metadata": {
        "id": "kDGi71-JVjXg",
        "colab_type": "code",
        "outputId": "0be6f46d-f5a6-45df-bcc3-787b007ef567",
        "colab": {
          "base_uri": "https://localhost:8080/",
          "height": 35
        }
      },
      "source": [
        "print(type(bowlers))"
      ],
      "execution_count": 0,
      "outputs": [
        {
          "output_type": "stream",
          "text": [
            "<class 'set'>\n"
          ],
          "name": "stdout"
        }
      ]
    },
    {
      "cell_type": "code",
      "metadata": {
        "id": "JFz_RE7LVknF",
        "colab_type": "code",
        "colab": {}
      },
      "source": [
        "all_rounders = batsmen.intersection(bowlers)"
      ],
      "execution_count": 0,
      "outputs": []
    },
    {
      "cell_type": "code",
      "metadata": {
        "id": "WsEVdemzVoQL",
        "colab_type": "code",
        "outputId": "4cef10ce-6ba9-4b5d-d8ca-75dd4c0e5f7a",
        "colab": {
          "base_uri": "https://localhost:8080/",
          "height": 35
        }
      },
      "source": [
        "print(type(all_rounders))"
      ],
      "execution_count": 0,
      "outputs": [
        {
          "output_type": "stream",
          "text": [
            "<class 'set'>\n"
          ],
          "name": "stdout"
        }
      ]
    },
    {
      "cell_type": "code",
      "metadata": {
        "id": "kplrKHlVVpzW",
        "colab_type": "code",
        "outputId": "8edc68d4-7716-4cd6-b945-26c28803e631",
        "colab": {
          "base_uri": "https://localhost:8080/",
          "height": 35
        }
      },
      "source": [
        "print(all_rounders)"
      ],
      "execution_count": 0,
      "outputs": [
        {
          "output_type": "stream",
          "text": [
            "{'Ravindra'}\n"
          ],
          "name": "stdout"
        }
      ]
    },
    {
      "cell_type": "code",
      "metadata": {
        "id": "ADkWKfC1Vrip",
        "colab_type": "code",
        "colab": {}
      },
      "source": [
        "players = batsmen.union(bowlers)"
      ],
      "execution_count": 0,
      "outputs": []
    },
    {
      "cell_type": "code",
      "metadata": {
        "id": "MSwKk3G2V2UJ",
        "colab_type": "code",
        "outputId": "4e2793b6-9291-4c99-986a-ae5d3b620642",
        "colab": {
          "base_uri": "https://localhost:8080/",
          "height": 35
        }
      },
      "source": [
        "print(type(players))"
      ],
      "execution_count": 0,
      "outputs": [
        {
          "output_type": "stream",
          "text": [
            "<class 'set'>\n"
          ],
          "name": "stdout"
        }
      ]
    },
    {
      "cell_type": "code",
      "metadata": {
        "id": "YxaOIZETV3Y5",
        "colab_type": "code",
        "outputId": "67b429be-2a1f-4b96-8e4a-7f5e80057854",
        "colab": {
          "base_uri": "https://localhost:8080/",
          "height": 35
        }
      },
      "source": [
        "print(players)"
      ],
      "execution_count": 0,
      "outputs": [
        {
          "output_type": "stream",
          "text": [
            "{'Ravindra', 'Rahul', 'Ishant', 'Bumrah', 'Rohit', 'Virat'}\n"
          ],
          "name": "stdout"
        }
      ]
    },
    {
      "cell_type": "code",
      "metadata": {
        "id": "25ZGq6hLV4T4",
        "colab_type": "code",
        "colab": {}
      },
      "source": [
        "bowlers = {\"Ishant\", \"Bumrah\", \"Ravindra\", \"Bumrah\"}"
      ],
      "execution_count": 0,
      "outputs": []
    },
    {
      "cell_type": "code",
      "metadata": {
        "id": "3f4SpXn_V-YI",
        "colab_type": "code",
        "outputId": "e2e7ba5b-79d2-44e2-89ca-eaf917a466fe",
        "colab": {
          "base_uri": "https://localhost:8080/",
          "height": 35
        }
      },
      "source": [
        "print(bowlers)"
      ],
      "execution_count": 0,
      "outputs": [
        {
          "output_type": "stream",
          "text": [
            "{'Ravindra', 'Bumrah', 'Ishant'}\n"
          ],
          "name": "stdout"
        }
      ]
    },
    {
      "cell_type": "code",
      "metadata": {
        "id": "dIDmR9x7V_vC",
        "colab_type": "code",
        "outputId": "d29a450c-b0be-4424-f78a-fd3e979a7dbb",
        "colab": {
          "base_uri": "https://localhost:8080/",
          "height": 35
        }
      },
      "source": [
        "%%timeit -n1 -r10\n",
        "my_list = list(range(10000))\n",
        "for i in range(10000):\n",
        "    b = 1947 in my_list"
      ],
      "execution_count": 0,
      "outputs": [
        {
          "output_type": "stream",
          "text": [
            "1 loop, best of 10: 218 ms per loop\n"
          ],
          "name": "stdout"
        }
      ]
    },
    {
      "cell_type": "code",
      "metadata": {
        "id": "Li-V91Y1WkEf",
        "colab_type": "code",
        "outputId": "33cfa67d-a632-4143-bb79-f9be899d8183",
        "colab": {
          "base_uri": "https://localhost:8080/",
          "height": 35
        }
      },
      "source": [
        "%%timeit -n1 -r10\n",
        "my_tuple = tuple(range(10000))\n",
        "for i in range(10000):\n",
        "    b = 1947 in my_tuple"
      ],
      "execution_count": 0,
      "outputs": [
        {
          "output_type": "stream",
          "text": [
            "1 loop, best of 10: 215 ms per loop\n"
          ],
          "name": "stdout"
        }
      ]
    },
    {
      "cell_type": "code",
      "metadata": {
        "id": "0Co9MdoAWpHI",
        "colab_type": "code",
        "outputId": "cdcf3e71-06a0-449c-d348-d0f0ba481e98",
        "colab": {
          "base_uri": "https://localhost:8080/",
          "height": 35
        }
      },
      "source": [
        "%%timeit -n1 -r10\n",
        "my_set = set(range(10000))\n",
        "for i in range(10000):\n",
        "    b = 1947 in my_set"
      ],
      "execution_count": 0,
      "outputs": [
        {
          "output_type": "stream",
          "text": [
            "1 loop, best of 10: 998 µs per loop\n"
          ],
          "name": "stdout"
        }
      ]
    },
    {
      "cell_type": "markdown",
      "metadata": {
        "id": "sTDgFpQCa9xa",
        "colab_type": "text"
      },
      "source": [
        "# Dictionary"
      ]
    },
    {
      "cell_type": "code",
      "metadata": {
        "id": "ufnuvOHzaunz",
        "colab_type": "code",
        "colab": {}
      },
      "source": [
        "bmi_dataset = [\n",
        "               [\"Krishna\", 75, 1.73, False],\n",
        "               [\"Bheem\", 120, 1.78, True]\n",
        "]"
      ],
      "execution_count": 0,
      "outputs": []
    },
    {
      "cell_type": "code",
      "metadata": {
        "id": "nxRU93n1bCx7",
        "colab_type": "code",
        "colab": {}
      },
      "source": [
        "bmi_record = {\n",
        "    \"name\": \"Krishna\",\n",
        "    \"weight\": 75,\n",
        "    \"height\": 1.73,\n",
        "    \"is_overweight\": False\n",
        "}"
      ],
      "execution_count": 0,
      "outputs": []
    },
    {
      "cell_type": "code",
      "metadata": {
        "id": "2RNmOCEAb43J",
        "colab_type": "code",
        "outputId": "3f167663-3c2f-4194-a078-c85acb370dc3",
        "colab": {
          "base_uri": "https://localhost:8080/",
          "height": 35
        }
      },
      "source": [
        "print(type(bmi_record))"
      ],
      "execution_count": 0,
      "outputs": [
        {
          "output_type": "stream",
          "text": [
            "<class 'dict'>\n"
          ],
          "name": "stdout"
        }
      ]
    },
    {
      "cell_type": "code",
      "metadata": {
        "id": "q3knrRTfb6LK",
        "colab_type": "code",
        "outputId": "9b6217a5-8c0a-4168-9a35-1547e901f09e",
        "colab": {
          "base_uri": "https://localhost:8080/",
          "height": 35
        }
      },
      "source": [
        "bmi_record[\"name\"]"
      ],
      "execution_count": 0,
      "outputs": [
        {
          "output_type": "execute_result",
          "data": {
            "text/plain": [
              "'Krishna'"
            ]
          },
          "metadata": {
            "tags": []
          },
          "execution_count": 117
        }
      ]
    },
    {
      "cell_type": "code",
      "metadata": {
        "id": "63W3rfkzcAeZ",
        "colab_type": "code",
        "outputId": "0a791a3b-83be-4941-a083-9942b3bee1a8",
        "colab": {
          "base_uri": "https://localhost:8080/",
          "height": 191
        }
      },
      "source": [
        "bmi_record[\"email\"]"
      ],
      "execution_count": 0,
      "outputs": [
        {
          "output_type": "error",
          "ename": "KeyError",
          "evalue": "ignored",
          "traceback": [
            "\u001b[0;31m---------------------------------------------------------------------------\u001b[0m",
            "\u001b[0;31mKeyError\u001b[0m                                  Traceback (most recent call last)",
            "\u001b[0;32m<ipython-input-118-5f8e83e5c83b>\u001b[0m in \u001b[0;36m<module>\u001b[0;34m()\u001b[0m\n\u001b[0;32m----> 1\u001b[0;31m \u001b[0mbmi_record\u001b[0m\u001b[0;34m[\u001b[0m\u001b[0;34m\"email\"\u001b[0m\u001b[0;34m]\u001b[0m\u001b[0;34m\u001b[0m\u001b[0;34m\u001b[0m\u001b[0m\n\u001b[0m",
            "\u001b[0;31mKeyError\u001b[0m: 'email'"
          ]
        }
      ]
    },
    {
      "cell_type": "code",
      "metadata": {
        "id": "fpW4ztt8cFDW",
        "colab_type": "code",
        "colab": {}
      },
      "source": [
        "bmi_record[\"email\"] = \"krishna@idontknow.com\""
      ],
      "execution_count": 0,
      "outputs": []
    },
    {
      "cell_type": "code",
      "metadata": {
        "id": "vpfoArSdcKt6",
        "colab_type": "code",
        "outputId": "45506530-470f-40b4-b88c-46d7d9eeaaa5",
        "colab": {
          "base_uri": "https://localhost:8080/",
          "height": 55
        }
      },
      "source": [
        "print(bmi_record)"
      ],
      "execution_count": 0,
      "outputs": [
        {
          "output_type": "stream",
          "text": [
            "{'name': 'Krishna', 'weight': 75, 'height': 1.73, 'is_overweight': False, 'email': 'krishna@idontknow.com'}\n"
          ],
          "name": "stdout"
        }
      ]
    },
    {
      "cell_type": "code",
      "metadata": {
        "id": "HnbthNJDcMZB",
        "colab_type": "code",
        "outputId": "837da8ab-9b05-4d3d-c554-489305f281e5",
        "colab": {
          "base_uri": "https://localhost:8080/",
          "height": 109
        }
      },
      "source": [
        "for key in bmi_record:\n",
        "    print(key, \":\", bmi_record[key])"
      ],
      "execution_count": 0,
      "outputs": [
        {
          "output_type": "stream",
          "text": [
            "name : Krishna\n",
            "weight : 75\n",
            "height : 1.73\n",
            "is_overweight : False\n",
            "email : krishna@idontknow.com\n"
          ],
          "name": "stdout"
        }
      ]
    },
    {
      "cell_type": "code",
      "metadata": {
        "id": "UkbDd6yQcaqQ",
        "colab_type": "code",
        "outputId": "c0d9e18e-1472-45fd-8956-391bbd53a495",
        "colab": {
          "base_uri": "https://localhost:8080/",
          "height": 35
        }
      },
      "source": [
        "print(bmi_record.keys())"
      ],
      "execution_count": 0,
      "outputs": [
        {
          "output_type": "stream",
          "text": [
            "dict_keys(['name', 'weight', 'height', 'is_overweight', 'email'])\n"
          ],
          "name": "stdout"
        }
      ]
    },
    {
      "cell_type": "code",
      "metadata": {
        "id": "SoWv6sKncoTl",
        "colab_type": "code",
        "colab": {}
      },
      "source": [
        "bmi_record_1 = {\n",
        "    \"name\": \"Bheem\",\n",
        "    \"weight\": 125,\n",
        "    \"height\": 1.75,\n",
        "    \"is_overweight\": True,\n",
        "    \"email\": \"bheem@foodtruck.com\"\n",
        "}"
      ],
      "execution_count": 0,
      "outputs": []
    },
    {
      "cell_type": "code",
      "metadata": {
        "id": "UXhGexkfc9vu",
        "colab_type": "code",
        "colab": {}
      },
      "source": [
        "bmi_dataset = [bmi_record, bmi_record_1]"
      ],
      "execution_count": 0,
      "outputs": []
    },
    {
      "cell_type": "code",
      "metadata": {
        "id": "Fnv5saMIdBgt",
        "colab_type": "code",
        "outputId": "8ae4ca82-c217-41b0-c208-d98a5c1d13fc",
        "colab": {
          "base_uri": "https://localhost:8080/",
          "height": 35
        }
      },
      "source": [
        "print(bmi_dataset[0][\"is_overweight\"])"
      ],
      "execution_count": 0,
      "outputs": [
        {
          "output_type": "stream",
          "text": [
            "False\n"
          ],
          "name": "stdout"
        }
      ]
    },
    {
      "cell_type": "markdown",
      "metadata": {
        "id": "hotfYemIdSJo",
        "colab_type": "text"
      },
      "source": [
        "## Exercise for dictionary"
      ]
    },
    {
      "cell_type": "markdown",
      "metadata": {
        "id": "qCbcEYcndV3x",
        "colab_type": "text"
      },
      "source": [
        "Receive the user input that says something like \"I went to Parliament\" or \"Why don't you go to Wankhede\". You then subsitute the POI by its lat and long coordinates of that POI."
      ]
    },
    {
      "cell_type": "code",
      "metadata": {
        "id": "Kyl9MayUdEAN",
        "colab_type": "code",
        "colab": {}
      },
      "source": [
        "pois = {\"Parliament\": \"28°37'2\\\"N, 77°12'29\\\"E\", \n",
        "        \"Wankhede\": \"18°56'20.10\\\"N, 72°49'32.60\\\"E\",\n",
        "        \"Nalanda\": \"25°8'12\\\"N, 85°26'38\\\"E\",\n",
        "        \"Mahabalipuram\": \"12°37'21.817\\\"N, 80°11'38.080\\\"E\"\n",
        "        }"
      ],
      "execution_count": 0,
      "outputs": []
    },
    {
      "cell_type": "code",
      "metadata": {
        "id": "LDXs7VuVfDYA",
        "colab_type": "code",
        "outputId": "48148098-e90e-4e47-ed34-4ddbd10fa6e9",
        "colab": {
          "base_uri": "https://localhost:8080/",
          "height": 35
        }
      },
      "source": [
        "user_text = input(\"\")"
      ],
      "execution_count": 0,
      "outputs": [
        {
          "output_type": "stream",
          "text": [
            "I went to Mahabalipuram\n"
          ],
          "name": "stdout"
        }
      ]
    },
    {
      "cell_type": "code",
      "metadata": {
        "id": "24cznA3cfH-I",
        "colab_type": "code",
        "outputId": "02e9ccc8-604f-4614-8e9b-28b5d9c6c40c",
        "colab": {
          "base_uri": "https://localhost:8080/",
          "height": 35
        }
      },
      "source": [
        "words = user_text.split()\n",
        "print(words)"
      ],
      "execution_count": 0,
      "outputs": [
        {
          "output_type": "stream",
          "text": [
            "['I', 'went', 'to', 'Mahabalipuram']\n"
          ],
          "name": "stdout"
        }
      ]
    },
    {
      "cell_type": "code",
      "metadata": {
        "id": "147LejjMfURV",
        "colab_type": "code",
        "colab": {}
      },
      "source": [
        "output = \"\"\n",
        "for word in words:\n",
        "    if word in pois:\n",
        "        output += pois[word]\n",
        "    else:\n",
        "        output += word\n",
        "    output += \" \""
      ],
      "execution_count": 0,
      "outputs": []
    },
    {
      "cell_type": "code",
      "metadata": {
        "id": "EHHKEIY_fpQp",
        "colab_type": "code",
        "outputId": "aa27273d-bef5-4586-fed8-bf5475c097c6",
        "colab": {
          "base_uri": "https://localhost:8080/",
          "height": 35
        }
      },
      "source": [
        "print(output)"
      ],
      "execution_count": 0,
      "outputs": [
        {
          "output_type": "stream",
          "text": [
            "I went to 12°37'21.817\"N, 80°11'38.080\"E \n"
          ],
          "name": "stdout"
        }
      ]
    },
    {
      "cell_type": "code",
      "metadata": {
        "id": "0wuZ3tmdfqNm",
        "colab_type": "code",
        "colab": {}
      },
      "source": [
        "output = \"\"\n",
        "for word in words:\n",
        "    output += (pois.get(word, word) + \" \")"
      ],
      "execution_count": 0,
      "outputs": []
    },
    {
      "cell_type": "code",
      "metadata": {
        "id": "BN20yKSAgFpx",
        "colab_type": "code",
        "outputId": "58ec7fc0-6f8d-4212-f411-4479fef6a67d",
        "colab": {
          "base_uri": "https://localhost:8080/",
          "height": 35
        }
      },
      "source": [
        "print(output)"
      ],
      "execution_count": 0,
      "outputs": [
        {
          "output_type": "stream",
          "text": [
            "I went to 12°37'21.817\"N, 80°11'38.080\"E \n"
          ],
          "name": "stdout"
        }
      ]
    },
    {
      "cell_type": "markdown",
      "metadata": {
        "id": "bKvfycfkgQ3r",
        "colab_type": "text"
      },
      "source": [
        "# Exercise - design thinking\n",
        "\n",
        "![alt text](https://www.polygons.tech/wp-content/uploads/adas-road2-web-1200.jpg)\n",
        "\n",
        "Consider the following data store that is used to represent the output of annotation process. \n",
        "\n",
        "```\n",
        "Car 1729\n",
        "X1, Y1\n",
        "X2, Y2\n",
        "X3, Y3\n",
        "...\n",
        "Xk, Yk\n",
        "----\n",
        "Car \n",
        "X1, Y1\n",
        "X2, Y2\n",
        "...\n",
        "Xk', Yk'\n",
        "----\n",
        "...\n",
        "```\n",
        "\n",
        "Multiple cars are annotated in each image. Each car has a string name followed by a series of points forming a closed polygon. The number of these points varies from car to car. Each point itself is characterised by two numbers corresponding to the x and y coordinates. What data structures would you use to represent this. Note that you have multiple levels of representation that are nested and different choices can be made for each level. "
      ]
    },
    {
      "cell_type": "markdown",
      "metadata": {
        "id": "0jOZYFBKl1A1",
        "colab_type": "text"
      },
      "source": [
        "# Files"
      ]
    },
    {
      "cell_type": "code",
      "metadata": {
        "id": "_P-KqqtRltoe",
        "colab_type": "code",
        "colab": {}
      },
      "source": [
        "f = open(\"poem.txt\", \"r\")"
      ],
      "execution_count": 0,
      "outputs": []
    },
    {
      "cell_type": "code",
      "metadata": {
        "id": "Yy9n5PYumyrF",
        "colab_type": "code",
        "outputId": "fc86de43-600d-41ad-cfe8-36b931dd1ca8",
        "colab": {
          "base_uri": "https://localhost:8080/",
          "height": 35
        }
      },
      "source": [
        "print(f)"
      ],
      "execution_count": 0,
      "outputs": [
        {
          "output_type": "stream",
          "text": [
            "<_io.TextIOWrapper name='poem.txt' mode='r' encoding='UTF-8'>\n"
          ],
          "name": "stdout"
        }
      ]
    },
    {
      "cell_type": "code",
      "metadata": {
        "id": "Y1JoHERmmzqX",
        "colab_type": "code",
        "colab": {}
      },
      "source": [
        "output = f.read()"
      ],
      "execution_count": 0,
      "outputs": []
    },
    {
      "cell_type": "code",
      "metadata": {
        "id": "ig5eOCYnm6fO",
        "colab_type": "code",
        "outputId": "0be4dcd2-6e61-41d5-cf3a-b3b9257aa4fc",
        "colab": {
          "base_uri": "https://localhost:8080/",
          "height": 477
        }
      },
      "source": [
        "print(output)"
      ],
      "execution_count": 0,
      "outputs": [
        {
          "output_type": "stream",
          "text": [
            "Unending Love by Rabindranath Tagore\n",
            "\n",
            "I seem to have loved you in numberless forms, numberless times\n",
            "In life after life, in age after age, forever.\n",
            "My spellbound heart has made and remade the necklace of songs,\n",
            "That you take as a gift, wear round your neck in your many forms,\n",
            "In life after life, in age after age, forever.\n",
            "\n",
            "Whenever I hear old chronicles of love, its age-old pain,\n",
            "Its ancient tale of being apart or together.\n",
            "As I stare on and on into the past, in the end you emerge,\n",
            "Clad in the light of a pole-star piercing the darkness of time:\n",
            "You become an image of what is remembered forever.\n",
            "\n",
            "You and I have floated here on the stream that brings from the fount.\n",
            "At the heart of time, love of one for another.\n",
            "We have played along side millions of lovers, shared in the same\n",
            "Shy sweetness of meeting, the same distressful tears of farewell-\n",
            "Old love but in shapes that renew and renew forever.\n",
            "\n",
            "Today it is heaped at your feet, it has found its end in you\n",
            "The love of all man’s days both past and forever:\n",
            "Universal joy, universal sorrow, universal life.\n",
            "The memories of all loves merging with this one love of ours –\n",
            "And the songs of every poet past and forever.\n"
          ],
          "name": "stdout"
        }
      ]
    },
    {
      "cell_type": "code",
      "metadata": {
        "id": "_ddGl1xmm7VH",
        "colab_type": "code",
        "outputId": "ca7902df-2bb7-42da-d107-16ad6b05cc3b",
        "colab": {
          "base_uri": "https://localhost:8080/",
          "height": 54
        }
      },
      "source": [
        "f = open(\"poem.txt\", \"r\")\n",
        "out_line = f.readline()\n",
        "print(out_line)"
      ],
      "execution_count": 0,
      "outputs": [
        {
          "output_type": "stream",
          "text": [
            "Unending Love by Rabindranath Tagore\n",
            "\n"
          ],
          "name": "stdout"
        }
      ]
    },
    {
      "cell_type": "code",
      "metadata": {
        "id": "5jLCietmnHW3",
        "colab_type": "code",
        "outputId": "0b8d7b92-1baa-4f07-9f1e-8062181edb1d",
        "colab": {
          "base_uri": "https://localhost:8080/",
          "height": 54
        }
      },
      "source": [
        "out_line = f.readline()\n",
        "print(out_line)"
      ],
      "execution_count": 0,
      "outputs": [
        {
          "output_type": "stream",
          "text": [
            "\n",
            "\n"
          ],
          "name": "stdout"
        }
      ]
    },
    {
      "cell_type": "code",
      "metadata": {
        "id": "XZlfBpNWnKZr",
        "colab_type": "code",
        "outputId": "63d79fa0-bc4a-4a3d-ac85-2687cbf4fc99",
        "colab": {
          "base_uri": "https://localhost:8080/",
          "height": 54
        }
      },
      "source": [
        "out_line = f.readline()\n",
        "print(out_line)"
      ],
      "execution_count": 0,
      "outputs": [
        {
          "output_type": "stream",
          "text": [
            "I seem to have loved you in numberless forms, numberless times\n",
            "\n"
          ],
          "name": "stdout"
        }
      ]
    },
    {
      "cell_type": "code",
      "metadata": {
        "id": "4uHX46O7nMEC",
        "colab_type": "code",
        "outputId": "aeaf5b4f-0e2b-42d1-a19d-1a414d3bb5c1",
        "colab": {
          "base_uri": "https://localhost:8080/",
          "height": 55
        }
      },
      "source": [
        "f = open(\"poem.txt\", \"r\")\n",
        "out_lines = f.readlines()\n",
        "print(out_lines)"
      ],
      "execution_count": 0,
      "outputs": [
        {
          "output_type": "stream",
          "text": [
            "['Unending Love by Rabindranath Tagore\\n', '\\n', 'I seem to have loved you in numberless forms, numberless times\\n', 'In life after life, in age after age, forever.\\n', 'My spellbound heart has made and remade the necklace of songs,\\n', 'That you take as a gift, wear round your neck in your many forms,\\n', 'In life after life, in age after age, forever.\\n', '\\n', 'Whenever I hear old chronicles of love, its age-old pain,\\n', 'Its ancient tale of being apart or together.\\n', 'As I stare on and on into the past, in the end you emerge,\\n', 'Clad in the light of a pole-star piercing the darkness of time:\\n', 'You become an image of what is remembered forever.\\n', '\\n', 'You and I have floated here on the stream that brings from the fount.\\n', 'At the heart of time, love of one for another.\\n', 'We have played along side millions of lovers, shared in the same\\n', 'Shy sweetness of meeting, the same distressful tears of farewell-\\n', 'Old love but in shapes that renew and renew forever.\\n', '\\n', 'Today it is heaped at your feet, it has found its end in you\\n', 'The love of all man’s days both past and forever:\\n', 'Universal joy, universal sorrow, universal life.\\n', 'The memories of all loves merging with this one love of ours –\\n', 'And the songs of every poet past and forever.']\n"
          ],
          "name": "stdout"
        }
      ]
    },
    {
      "cell_type": "code",
      "metadata": {
        "id": "srMGVS67nS9g",
        "colab_type": "code",
        "colab": {}
      },
      "source": [
        "f.close()"
      ],
      "execution_count": 0,
      "outputs": []
    },
    {
      "cell_type": "code",
      "metadata": {
        "id": "n3ecHqLDncHw",
        "colab_type": "code",
        "outputId": "cc6e0e6f-8e05-4644-afa1-69f053bad4e0",
        "colab": {
          "base_uri": "https://localhost:8080/",
          "height": 191
        }
      },
      "source": [
        "out_line = f.readline()"
      ],
      "execution_count": 0,
      "outputs": [
        {
          "output_type": "error",
          "ename": "ValueError",
          "evalue": "ignored",
          "traceback": [
            "\u001b[0;31m---------------------------------------------------------------------------\u001b[0m",
            "\u001b[0;31mValueError\u001b[0m                                Traceback (most recent call last)",
            "\u001b[0;32m<ipython-input-154-0a6ad4065469>\u001b[0m in \u001b[0;36m<module>\u001b[0;34m()\u001b[0m\n\u001b[0;32m----> 1\u001b[0;31m \u001b[0mout_line\u001b[0m \u001b[0;34m=\u001b[0m \u001b[0mf\u001b[0m\u001b[0;34m.\u001b[0m\u001b[0mreadline\u001b[0m\u001b[0;34m(\u001b[0m\u001b[0;34m)\u001b[0m\u001b[0;34m\u001b[0m\u001b[0;34m\u001b[0m\u001b[0m\n\u001b[0m",
            "\u001b[0;31mValueError\u001b[0m: I/O operation on closed file."
          ]
        }
      ]
    },
    {
      "cell_type": "code",
      "metadata": {
        "id": "RpbQQl2XnegA",
        "colab_type": "code",
        "outputId": "c7c4ca44-2da1-4d36-a3fd-03f46c7cd8d0",
        "colab": {
          "base_uri": "https://localhost:8080/",
          "height": 55
        }
      },
      "source": [
        "with open(\"poem.txt\", \"r\") as f:\n",
        "    out_lines = f.readlines()\n",
        "    print(out_lines) "
      ],
      "execution_count": 0,
      "outputs": [
        {
          "output_type": "stream",
          "text": [
            "['Unending Love by Rabindranath Tagore\\n', '\\n', 'I seem to have loved you in numberless forms, numberless times\\n', 'In life after life, in age after age, forever.\\n', 'My spellbound heart has made and remade the necklace of songs,\\n', 'That you take as a gift, wear round your neck in your many forms,\\n', 'In life after life, in age after age, forever.\\n', '\\n', 'Whenever I hear old chronicles of love, its age-old pain,\\n', 'Its ancient tale of being apart or together.\\n', 'As I stare on and on into the past, in the end you emerge,\\n', 'Clad in the light of a pole-star piercing the darkness of time:\\n', 'You become an image of what is remembered forever.\\n', '\\n', 'You and I have floated here on the stream that brings from the fount.\\n', 'At the heart of time, love of one for another.\\n', 'We have played along side millions of lovers, shared in the same\\n', 'Shy sweetness of meeting, the same distressful tears of farewell-\\n', 'Old love but in shapes that renew and renew forever.\\n', '\\n', 'Today it is heaped at your feet, it has found its end in you\\n', 'The love of all man’s days both past and forever:\\n', 'Universal joy, universal sorrow, universal life.\\n', 'The memories of all loves merging with this one love of ours –\\n', 'And the songs of every poet past and forever.']\n"
          ],
          "name": "stdout"
        }
      ]
    },
    {
      "cell_type": "code",
      "metadata": {
        "colab_type": "code",
        "outputId": "166a5c9c-393e-4152-e100-cbece9d5113d",
        "id": "raNR8TPMqXtS",
        "colab": {
          "base_uri": "https://localhost:8080/",
          "height": 191
        }
      },
      "source": [
        "f.readlines()"
      ],
      "execution_count": 0,
      "outputs": [
        {
          "output_type": "error",
          "ename": "ValueError",
          "evalue": "ignored",
          "traceback": [
            "\u001b[0;31m---------------------------------------------------------------------------\u001b[0m",
            "\u001b[0;31mValueError\u001b[0m                                Traceback (most recent call last)",
            "\u001b[0;32m<ipython-input-156-055d0c37aeda>\u001b[0m in \u001b[0;36m<module>\u001b[0;34m()\u001b[0m\n\u001b[0;32m----> 1\u001b[0;31m \u001b[0mf\u001b[0m\u001b[0;34m.\u001b[0m\u001b[0mreadlines\u001b[0m\u001b[0;34m(\u001b[0m\u001b[0;34m)\u001b[0m\u001b[0;34m\u001b[0m\u001b[0;34m\u001b[0m\u001b[0m\n\u001b[0m",
            "\u001b[0;31mValueError\u001b[0m: I/O operation on closed file."
          ]
        }
      ]
    },
    {
      "cell_type": "code",
      "metadata": {
        "id": "brA2ghgfqawf",
        "colab_type": "code",
        "outputId": "d85758e1-871b-4f35-ede6-48e78a301dd5",
        "colab": {
          "base_uri": "https://localhost:8080/",
          "height": 55
        }
      },
      "source": [
        "f = open(\"poem.txt\", \"r\")\n",
        "out_lines = f.readlines()\n",
        "print(out_lines)\n",
        "f.close()"
      ],
      "execution_count": 0,
      "outputs": [
        {
          "output_type": "stream",
          "text": [
            "['Unending Love by Rabindranath Tagore\\n', '\\n', 'I seem to have loved you in numberless forms, numberless times\\n', 'In life after life, in age after age, forever.\\n', 'My spellbound heart has made and remade the necklace of songs,\\n', 'That you take as a gift, wear round your neck in your many forms,\\n', 'In life after life, in age after age, forever.\\n', '\\n', 'Whenever I hear old chronicles of love, its age-old pain,\\n', 'Its ancient tale of being apart or together.\\n', 'As I stare on and on into the past, in the end you emerge,\\n', 'Clad in the light of a pole-star piercing the darkness of time:\\n', 'You become an image of what is remembered forever.\\n', '\\n', 'You and I have floated here on the stream that brings from the fount.\\n', 'At the heart of time, love of one for another.\\n', 'We have played along side millions of lovers, shared in the same\\n', 'Shy sweetness of meeting, the same distressful tears of farewell-\\n', 'Old love but in shapes that renew and renew forever.\\n', '\\n', 'Today it is heaped at your feet, it has found its end in you\\n', 'The love of all man’s days both past and forever:\\n', 'Universal joy, universal sorrow, universal life.\\n', 'The memories of all loves merging with this one love of ours –\\n', 'And the songs of every poet past and forever.']\n"
          ],
          "name": "stdout"
        }
      ]
    },
    {
      "cell_type": "code",
      "metadata": {
        "id": "yfybbwLuq8Ss",
        "colab_type": "code",
        "outputId": "6f9d186a-12e0-4837-f00a-e3fbb99081aa",
        "colab": {
          "base_uri": "https://localhost:8080/",
          "height": 497
        }
      },
      "source": [
        "i = 0\n",
        "for line in out_lines:\n",
        "    print(i, '\\t', line.strip())\n",
        "    i += 1"
      ],
      "execution_count": 0,
      "outputs": [
        {
          "output_type": "stream",
          "text": [
            "0 \t Unending Love by Rabindranath Tagore\n",
            "1 \t \n",
            "2 \t I seem to have loved you in numberless forms, numberless times\n",
            "3 \t In life after life, in age after age, forever.\n",
            "4 \t My spellbound heart has made and remade the necklace of songs,\n",
            "5 \t That you take as a gift, wear round your neck in your many forms,\n",
            "6 \t In life after life, in age after age, forever.\n",
            "7 \t \n",
            "8 \t Whenever I hear old chronicles of love, its age-old pain,\n",
            "9 \t Its ancient tale of being apart or together.\n",
            "10 \t As I stare on and on into the past, in the end you emerge,\n",
            "11 \t Clad in the light of a pole-star piercing the darkness of time:\n",
            "12 \t You become an image of what is remembered forever.\n",
            "13 \t \n",
            "14 \t You and I have floated here on the stream that brings from the fount.\n",
            "15 \t At the heart of time, love of one for another.\n",
            "16 \t We have played along side millions of lovers, shared in the same\n",
            "17 \t Shy sweetness of meeting, the same distressful tears of farewell-\n",
            "18 \t Old love but in shapes that renew and renew forever.\n",
            "19 \t \n",
            "20 \t Today it is heaped at your feet, it has found its end in you\n",
            "21 \t The love of all man’s days both past and forever:\n",
            "22 \t Universal joy, universal sorrow, universal life.\n",
            "23 \t The memories of all loves merging with this one love of ours –\n",
            "24 \t And the songs of every poet past and forever.\n"
          ],
          "name": "stdout"
        }
      ]
    },
    {
      "cell_type": "code",
      "metadata": {
        "id": "01zYZPzXrDvo",
        "colab_type": "code",
        "colab": {}
      },
      "source": [
        "f_out = open(\"fav.txt\", \"w\")"
      ],
      "execution_count": 0,
      "outputs": []
    },
    {
      "cell_type": "code",
      "metadata": {
        "id": "hZCTo6I-reJL",
        "colab_type": "code",
        "colab": {}
      },
      "source": [
        "f_out.writelines(out_lines[2])"
      ],
      "execution_count": 0,
      "outputs": []
    },
    {
      "cell_type": "code",
      "metadata": {
        "id": "L_PTj0Srrjq-",
        "colab_type": "code",
        "colab": {}
      },
      "source": [
        "f_out.close()"
      ],
      "execution_count": 0,
      "outputs": []
    },
    {
      "cell_type": "code",
      "metadata": {
        "id": "hVBBnZXBrv3Y",
        "colab_type": "code",
        "colab": {}
      },
      "source": [
        "fav_lines = [2, 22]"
      ],
      "execution_count": 0,
      "outputs": []
    },
    {
      "cell_type": "code",
      "metadata": {
        "id": "t8owFzztr35X",
        "colab_type": "code",
        "colab": {}
      },
      "source": [
        "with open(\"fav.txt\", \"w\") as f_out:\n",
        "    for fav_line in fav_lines:\n",
        "        f_out.writelines(out_lines[fav_line])"
      ],
      "execution_count": 0,
      "outputs": []
    },
    {
      "cell_type": "markdown",
      "metadata": {
        "id": "edmIJ9KUsRsU",
        "colab_type": "text"
      },
      "source": [
        "# Exercise\n",
        "\n",
        "1.   Create a dictionary whose keys correspond to unique words in a given file and whose values correspond to the number of times each word appears in the file.\n",
        "2.   To an output file, write the 10 most frequent words in separate lines.\n",
        "3.   To an output file, write the 5 most frequenct 2-grams in separate lines.\n",
        "\n",
        "\n"
      ]
    },
    {
      "cell_type": "markdown",
      "metadata": {
        "id": "-OuV1y82BUYV",
        "colab_type": "text"
      },
      "source": [
        "# Problem 1, 2"
      ]
    },
    {
      "cell_type": "code",
      "metadata": {
        "id": "RqhwDYTpBVac",
        "colab_type": "code",
        "outputId": "a1e1f1cb-283b-4bf8-e170-dccc0a372e54",
        "colab": {
          "base_uri": "https://localhost:8080/",
          "height": 55
        }
      },
      "source": [
        "f = open(\"poem.txt\", \"r\")\n",
        "lines = f.readlines()\n",
        "print(lines)\n",
        "f.close()"
      ],
      "execution_count": 0,
      "outputs": [
        {
          "output_type": "stream",
          "text": [
            "['Unending Love by Rabindranath Tagore\\n', '\\n', 'I seem to have loved you in numberless forms, numberless times\\n', 'In life after life, in age after age, forever.\\n', 'My spellbound heart has made and remade the necklace of songs,\\n', 'That you take as a gift, wear round your neck in your many forms,\\n', 'In life after life, in age after age, forever.\\n', '\\n', 'Whenever I hear old chronicles of love, its age-old pain,\\n', 'Its ancient tale of being apart or together.\\n', 'As I stare on and on into the past, in the end you emerge,\\n', 'Clad in the light of a pole-star piercing the darkness of time:\\n', 'You become an image of what is remembered forever.\\n', '\\n', 'You and I have floated here on the stream that brings from the fount.\\n', 'At the heart of time, love of one for another.\\n', 'We have played along side millions of lovers, shared in the same\\n', 'Shy sweetness of meeting, the same distressful tears of farewell-\\n', 'Old love but in shapes that renew and renew forever.\\n', '\\n', 'Today it is heaped at your feet, it has found its end in you\\n', 'The love of all man’s days both past and forever:\\n', 'Universal joy, universal sorrow, universal life.\\n', 'The memories of all loves merging with this one love of ours –\\n', 'And the songs of every poet past and forever.']\n"
          ],
          "name": "stdout"
        }
      ]
    },
    {
      "cell_type": "code",
      "metadata": {
        "id": "k2o2s4jJBYSs",
        "colab_type": "code",
        "colab": {}
      },
      "source": [
        "for item in lines:\n",
        "    item = item.lower()"
      ],
      "execution_count": 0,
      "outputs": []
    },
    {
      "cell_type": "code",
      "metadata": {
        "id": "9wNMoBAwBoOU",
        "colab_type": "code",
        "outputId": "2c52361c-5c38-44f7-d9dd-333f36a08abf",
        "colab": {
          "base_uri": "https://localhost:8080/",
          "height": 54
        }
      },
      "source": [
        "print(lines[0])"
      ],
      "execution_count": 0,
      "outputs": [
        {
          "output_type": "stream",
          "text": [
            "Unending Love by Rabindranath Tagore\n",
            "\n"
          ],
          "name": "stdout"
        }
      ]
    },
    {
      "cell_type": "code",
      "metadata": {
        "id": "TFF31Cz1Bpya",
        "colab_type": "code",
        "colab": {}
      },
      "source": [
        "length = len(lines)\n",
        "for i in range(length):\n",
        "    lines[i] = lines[i].lower()"
      ],
      "execution_count": 0,
      "outputs": []
    },
    {
      "cell_type": "code",
      "metadata": {
        "id": "nPD1C8UmB6RG",
        "colab_type": "code",
        "outputId": "fce9f838-0d72-4d8a-89aa-2a7dbcf53eef",
        "colab": {
          "base_uri": "https://localhost:8080/",
          "height": 54
        }
      },
      "source": [
        "print(lines[0])"
      ],
      "execution_count": 0,
      "outputs": [
        {
          "output_type": "stream",
          "text": [
            "unending love by rabindranath tagore\n",
            "\n"
          ],
          "name": "stdout"
        }
      ]
    },
    {
      "cell_type": "code",
      "metadata": {
        "id": "K5Zu5a0BB8e5",
        "colab_type": "code",
        "outputId": "43c69fd2-aaaa-48c7-8d02-5c3e2e7b3cfe",
        "colab": {
          "base_uri": "https://localhost:8080/",
          "height": 55
        }
      },
      "source": [
        "print(lines)"
      ],
      "execution_count": 0,
      "outputs": [
        {
          "output_type": "stream",
          "text": [
            "['unending love by rabindranath tagore\\n', '\\n', 'i seem to have loved you in numberless forms, numberless times\\n', 'in life after life, in age after age, forever.\\n', 'my spellbound heart has made and remade the necklace of songs,\\n', 'that you take as a gift, wear round your neck in your many forms,\\n', 'in life after life, in age after age, forever.\\n', '\\n', 'whenever i hear old chronicles of love, its age-old pain,\\n', 'its ancient tale of being apart or together.\\n', 'as i stare on and on into the past, in the end you emerge,\\n', 'clad in the light of a pole-star piercing the darkness of time:\\n', 'you become an image of what is remembered forever.\\n', '\\n', 'you and i have floated here on the stream that brings from the fount.\\n', 'at the heart of time, love of one for another.\\n', 'we have played along side millions of lovers, shared in the same\\n', 'shy sweetness of meeting, the same distressful tears of farewell-\\n', 'old love but in shapes that renew and renew forever.\\n', '\\n', 'today it is heaped at your feet, it has found its end in you\\n', 'the love of all man’s days both past and forever:\\n', 'universal joy, universal sorrow, universal life.\\n', 'the memories of all loves merging with this one love of ours –\\n', 'and the songs of every poet past and forever.']\n"
          ],
          "name": "stdout"
        }
      ]
    },
    {
      "cell_type": "code",
      "metadata": {
        "id": "6p68KD7_B9zj",
        "colab_type": "code",
        "colab": {}
      },
      "source": [
        "for i in range(length):\n",
        "    lines[i] = lines[i].replace('\\n', ' ')"
      ],
      "execution_count": 0,
      "outputs": []
    },
    {
      "cell_type": "code",
      "metadata": {
        "id": "cieU63uDCLlW",
        "colab_type": "code",
        "outputId": "29a24b1b-b4ba-4dcc-e87b-7a0be091b142",
        "colab": {
          "base_uri": "https://localhost:8080/",
          "height": 55
        }
      },
      "source": [
        "print(lines)"
      ],
      "execution_count": 0,
      "outputs": [
        {
          "output_type": "stream",
          "text": [
            "['unending love by rabindranath tagore ', ' ', 'i seem to have loved you in numberless forms, numberless times ', 'in life after life, in age after age, forever. ', 'my spellbound heart has made and remade the necklace of songs, ', 'that you take as a gift, wear round your neck in your many forms, ', 'in life after life, in age after age, forever. ', ' ', 'whenever i hear old chronicles of love, its age-old pain, ', 'its ancient tale of being apart or together. ', 'as i stare on and on into the past, in the end you emerge, ', 'clad in the light of a pole-star piercing the darkness of time: ', 'you become an image of what is remembered forever. ', ' ', 'you and i have floated here on the stream that brings from the fount. ', 'at the heart of time, love of one for another. ', 'we have played along side millions of lovers, shared in the same ', 'shy sweetness of meeting, the same distressful tears of farewell- ', 'old love but in shapes that renew and renew forever. ', ' ', 'today it is heaped at your feet, it has found its end in you ', 'the love of all man’s days both past and forever: ', 'universal joy, universal sorrow, universal life. ', 'the memories of all loves merging with this one love of ours – ', 'and the songs of every poet past and forever.']\n"
          ],
          "name": "stdout"
        }
      ]
    },
    {
      "cell_type": "code",
      "metadata": {
        "id": "5ScoSoYQCMur",
        "colab_type": "code",
        "colab": {}
      },
      "source": [
        "chars_to_replace = ['\\n', ',', '-', '\"', '(', ')', '.']\n",
        "for i in range(length):\n",
        "    for s in chars_to_replace:\n",
        "        lines[i] = lines[i].replace(s, ' ')"
      ],
      "execution_count": 0,
      "outputs": []
    },
    {
      "cell_type": "code",
      "metadata": {
        "id": "aSa-Yuu8Cjk6",
        "colab_type": "code",
        "outputId": "3012727d-0c0b-4f9e-8f74-c92cb9382bca",
        "colab": {
          "base_uri": "https://localhost:8080/",
          "height": 55
        }
      },
      "source": [
        "print(lines)"
      ],
      "execution_count": 0,
      "outputs": [
        {
          "output_type": "stream",
          "text": [
            "['unending love by rabindranath tagore ', ' ', 'i seem to have loved you in numberless forms  numberless times ', 'in life after life  in age after age  forever  ', 'my spellbound heart has made and remade the necklace of songs  ', 'that you take as a gift  wear round your neck in your many forms  ', 'in life after life  in age after age  forever  ', ' ', 'whenever i hear old chronicles of love  its age old pain  ', 'its ancient tale of being apart or together  ', 'as i stare on and on into the past  in the end you emerge  ', 'clad in the light of a pole star piercing the darkness of time: ', 'you become an image of what is remembered forever  ', ' ', 'you and i have floated here on the stream that brings from the fount  ', 'at the heart of time  love of one for another  ', 'we have played along side millions of lovers  shared in the same ', 'shy sweetness of meeting  the same distressful tears of farewell  ', 'old love but in shapes that renew and renew forever  ', ' ', 'today it is heaped at your feet  it has found its end in you ', 'the love of all man’s days both past and forever: ', 'universal joy  universal sorrow  universal life  ', 'the memories of all loves merging with this one love of ours – ', 'and the songs of every poet past and forever ']\n"
          ],
          "name": "stdout"
        }
      ]
    },
    {
      "cell_type": "code",
      "metadata": {
        "id": "Fdpi4spmClKS",
        "colab_type": "code",
        "colab": {}
      },
      "source": [
        "text = \"\"\n",
        "for line in lines:\n",
        "    text += line + \" \" "
      ],
      "execution_count": 0,
      "outputs": []
    },
    {
      "cell_type": "code",
      "metadata": {
        "id": "YE8i94NLC7ep",
        "colab_type": "code",
        "outputId": "751e84b6-e35f-4571-97dc-eacc6b927950",
        "colab": {
          "base_uri": "https://localhost:8080/",
          "height": 55
        }
      },
      "source": [
        "print(text)"
      ],
      "execution_count": 0,
      "outputs": [
        {
          "output_type": "stream",
          "text": [
            "unending love by rabindranath tagore    i seem to have loved you in numberless forms  numberless times  in life after life  in age after age  forever   my spellbound heart has made and remade the necklace of songs   that you take as a gift  wear round your neck in your many forms   in life after life  in age after age  forever     whenever i hear old chronicles of love  its age old pain   its ancient tale of being apart or together   as i stare on and on into the past  in the end you emerge   clad in the light of a pole star piercing the darkness of time:  you become an image of what is remembered forever     you and i have floated here on the stream that brings from the fount   at the heart of time  love of one for another   we have played along side millions of lovers  shared in the same  shy sweetness of meeting  the same distressful tears of farewell   old love but in shapes that renew and renew forever     today it is heaped at your feet  it has found its end in you  the love of all man’s days both past and forever:  universal joy  universal sorrow  universal life   the memories of all loves merging with this one love of ours –  and the songs of every poet past and forever  \n"
          ],
          "name": "stdout"
        }
      ]
    },
    {
      "cell_type": "code",
      "metadata": {
        "id": "vGmiAZh2C-VN",
        "colab_type": "code",
        "colab": {}
      },
      "source": [
        "text = \" \".join(lines)"
      ],
      "execution_count": 0,
      "outputs": []
    },
    {
      "cell_type": "code",
      "metadata": {
        "id": "2guM_qx8DNy1",
        "colab_type": "code",
        "outputId": "bd509177-9cf0-4546-ee6f-0f0b71632f89",
        "colab": {
          "base_uri": "https://localhost:8080/",
          "height": 55
        }
      },
      "source": [
        "print(text)"
      ],
      "execution_count": 0,
      "outputs": [
        {
          "output_type": "stream",
          "text": [
            "unending love by rabindranath tagore    i seem to have loved you in numberless forms  numberless times  in life after life  in age after age  forever   my spellbound heart has made and remade the necklace of songs   that you take as a gift  wear round your neck in your many forms   in life after life  in age after age  forever     whenever i hear old chronicles of love  its age old pain   its ancient tale of being apart or together   as i stare on and on into the past  in the end you emerge   clad in the light of a pole star piercing the darkness of time:  you become an image of what is remembered forever     you and i have floated here on the stream that brings from the fount   at the heart of time  love of one for another   we have played along side millions of lovers  shared in the same  shy sweetness of meeting  the same distressful tears of farewell   old love but in shapes that renew and renew forever     today it is heaped at your feet  it has found its end in you  the love of all man’s days both past and forever:  universal joy  universal sorrow  universal life   the memories of all loves merging with this one love of ours –  and the songs of every poet past and forever \n"
          ],
          "name": "stdout"
        }
      ]
    },
    {
      "cell_type": "code",
      "metadata": {
        "id": "h9wLviwZDOor",
        "colab_type": "code",
        "colab": {}
      },
      "source": [
        "words = text.split()"
      ],
      "execution_count": 0,
      "outputs": []
    },
    {
      "cell_type": "code",
      "metadata": {
        "id": "Xb-VC2VaDUYW",
        "colab_type": "code",
        "outputId": "433288be-ea54-4da2-82af-84ba3cfe94d2",
        "colab": {
          "base_uri": "https://localhost:8080/",
          "height": 55
        }
      },
      "source": [
        "print(len(words), words)"
      ],
      "execution_count": 0,
      "outputs": [
        {
          "output_type": "stream",
          "text": [
            "222 ['unending', 'love', 'by', 'rabindranath', 'tagore', 'i', 'seem', 'to', 'have', 'loved', 'you', 'in', 'numberless', 'forms', 'numberless', 'times', 'in', 'life', 'after', 'life', 'in', 'age', 'after', 'age', 'forever', 'my', 'spellbound', 'heart', 'has', 'made', 'and', 'remade', 'the', 'necklace', 'of', 'songs', 'that', 'you', 'take', 'as', 'a', 'gift', 'wear', 'round', 'your', 'neck', 'in', 'your', 'many', 'forms', 'in', 'life', 'after', 'life', 'in', 'age', 'after', 'age', 'forever', 'whenever', 'i', 'hear', 'old', 'chronicles', 'of', 'love', 'its', 'age', 'old', 'pain', 'its', 'ancient', 'tale', 'of', 'being', 'apart', 'or', 'together', 'as', 'i', 'stare', 'on', 'and', 'on', 'into', 'the', 'past', 'in', 'the', 'end', 'you', 'emerge', 'clad', 'in', 'the', 'light', 'of', 'a', 'pole', 'star', 'piercing', 'the', 'darkness', 'of', 'time:', 'you', 'become', 'an', 'image', 'of', 'what', 'is', 'remembered', 'forever', 'you', 'and', 'i', 'have', 'floated', 'here', 'on', 'the', 'stream', 'that', 'brings', 'from', 'the', 'fount', 'at', 'the', 'heart', 'of', 'time', 'love', 'of', 'one', 'for', 'another', 'we', 'have', 'played', 'along', 'side', 'millions', 'of', 'lovers', 'shared', 'in', 'the', 'same', 'shy', 'sweetness', 'of', 'meeting', 'the', 'same', 'distressful', 'tears', 'of', 'farewell', 'old', 'love', 'but', 'in', 'shapes', 'that', 'renew', 'and', 'renew', 'forever', 'today', 'it', 'is', 'heaped', 'at', 'your', 'feet', 'it', 'has', 'found', 'its', 'end', 'in', 'you', 'the', 'love', 'of', 'all', 'man’s', 'days', 'both', 'past', 'and', 'forever:', 'universal', 'joy', 'universal', 'sorrow', 'universal', 'life', 'the', 'memories', 'of', 'all', 'loves', 'merging', 'with', 'this', 'one', 'love', 'of', 'ours', '–', 'and', 'the', 'songs', 'of', 'every', 'poet', 'past', 'and', 'forever']\n"
          ],
          "name": "stdout"
        }
      ]
    },
    {
      "cell_type": "code",
      "metadata": {
        "id": "PLDKWzRDDWsr",
        "colab_type": "code",
        "colab": {}
      },
      "source": [
        "word_freq = {}"
      ],
      "execution_count": 0,
      "outputs": []
    },
    {
      "cell_type": "code",
      "metadata": {
        "id": "gMQY9pysDkhQ",
        "colab_type": "code",
        "colab": {}
      },
      "source": [
        "for word in words:\n",
        "    if word in word_freq:\n",
        "        word_freq[word] += 1\n",
        "    else:\n",
        "        word_freq[word] = 1"
      ],
      "execution_count": 0,
      "outputs": []
    },
    {
      "cell_type": "code",
      "metadata": {
        "id": "9wzLXk_eJTCM",
        "colab_type": "code",
        "colab": {}
      },
      "source": [
        "word_freq = iterable_counter(words)"
      ],
      "execution_count": 0,
      "outputs": []
    },
    {
      "cell_type": "code",
      "metadata": {
        "id": "Qq5y1bvyD2Pg",
        "colab_type": "code",
        "outputId": "a3448b0a-b0ec-4352-e5c3-7b15741e936a",
        "colab": {
          "base_uri": "https://localhost:8080/",
          "height": 55
        }
      },
      "source": [
        "print(word_freq)"
      ],
      "execution_count": 0,
      "outputs": [
        {
          "output_type": "stream",
          "text": [
            "{'unending': 1, 'love': 6, 'by': 1, 'rabindranath': 1, 'tagore': 1, 'i': 4, 'seem': 1, 'to': 1, 'have': 3, 'loved': 1, 'you': 6, 'in': 11, 'numberless': 2, 'forms': 2, 'times': 1, 'life': 5, 'after': 4, 'age': 5, 'forever': 5, 'my': 1, 'spellbound': 1, 'heart': 2, 'has': 2, 'made': 1, 'and': 7, 'remade': 1, 'the': 13, 'necklace': 1, 'of': 15, 'songs': 2, 'that': 3, 'take': 1, 'as': 2, 'a': 2, 'gift': 1, 'wear': 1, 'round': 1, 'your': 3, 'neck': 1, 'many': 1, 'whenever': 1, 'hear': 1, 'old': 3, 'chronicles': 1, 'its': 3, 'pain': 1, 'ancient': 1, 'tale': 1, 'being': 1, 'apart': 1, 'or': 1, 'together': 1, 'stare': 1, 'on': 3, 'into': 1, 'past': 3, 'end': 2, 'emerge': 1, 'clad': 1, 'light': 1, 'pole': 1, 'star': 1, 'piercing': 1, 'darkness': 1, 'time:': 1, 'become': 1, 'an': 1, 'image': 1, 'what': 1, 'is': 2, 'remembered': 1, 'floated': 1, 'here': 1, 'stream': 1, 'brings': 1, 'from': 1, 'fount': 1, 'at': 2, 'time': 1, 'one': 2, 'for': 1, 'another': 1, 'we': 1, 'played': 1, 'along': 1, 'side': 1, 'millions': 1, 'lovers': 1, 'shared': 1, 'same': 2, 'shy': 1, 'sweetness': 1, 'meeting': 1, 'distressful': 1, 'tears': 1, 'farewell': 1, 'but': 1, 'shapes': 1, 'renew': 2, 'today': 1, 'it': 2, 'heaped': 1, 'feet': 1, 'found': 1, 'all': 2, 'man’s': 1, 'days': 1, 'both': 1, 'forever:': 1, 'universal': 3, 'joy': 1, 'sorrow': 1, 'memories': 1, 'loves': 1, 'merging': 1, 'with': 1, 'this': 1, 'ours': 1, '–': 1, 'every': 1, 'poet': 1}\n"
          ],
          "name": "stdout"
        }
      ]
    },
    {
      "cell_type": "code",
      "metadata": {
        "id": "D9JRadaND4Pk",
        "colab_type": "code",
        "colab": {}
      },
      "source": [
        "# sorted(x.items(), key=lambda item: item[1])"
      ],
      "execution_count": 0,
      "outputs": []
    },
    {
      "cell_type": "code",
      "metadata": {
        "id": "PktncF2nEjU5",
        "colab_type": "code",
        "outputId": "2bfd6664-3486-47ff-fab8-343880824c71",
        "colab": {
          "base_uri": "https://localhost:8080/",
          "height": 55
        }
      },
      "source": [
        "print(sorted(word_freq.items()))"
      ],
      "execution_count": 0,
      "outputs": [
        {
          "output_type": "stream",
          "text": [
            "[('a', 2), ('after', 4), ('age', 5), ('all', 2), ('along', 1), ('an', 1), ('ancient', 1), ('and', 7), ('another', 1), ('apart', 1), ('as', 2), ('at', 2), ('become', 1), ('being', 1), ('both', 1), ('brings', 1), ('but', 1), ('by', 1), ('chronicles', 1), ('clad', 1), ('darkness', 1), ('days', 1), ('distressful', 1), ('emerge', 1), ('end', 2), ('every', 1), ('farewell', 1), ('feet', 1), ('floated', 1), ('for', 1), ('forever', 5), ('forever:', 1), ('forms', 2), ('found', 1), ('fount', 1), ('from', 1), ('gift', 1), ('has', 2), ('have', 3), ('heaped', 1), ('hear', 1), ('heart', 2), ('here', 1), ('i', 4), ('image', 1), ('in', 11), ('into', 1), ('is', 2), ('it', 2), ('its', 3), ('joy', 1), ('life', 5), ('light', 1), ('love', 6), ('loved', 1), ('lovers', 1), ('loves', 1), ('made', 1), ('many', 1), ('man’s', 1), ('meeting', 1), ('memories', 1), ('merging', 1), ('millions', 1), ('my', 1), ('neck', 1), ('necklace', 1), ('numberless', 2), ('of', 15), ('old', 3), ('on', 3), ('one', 2), ('or', 1), ('ours', 1), ('pain', 1), ('past', 3), ('piercing', 1), ('played', 1), ('poet', 1), ('pole', 1), ('rabindranath', 1), ('remade', 1), ('remembered', 1), ('renew', 2), ('round', 1), ('same', 2), ('seem', 1), ('shapes', 1), ('shared', 1), ('shy', 1), ('side', 1), ('songs', 2), ('sorrow', 1), ('spellbound', 1), ('star', 1), ('stare', 1), ('stream', 1), ('sweetness', 1), ('tagore', 1), ('take', 1), ('tale', 1), ('tears', 1), ('that', 3), ('the', 13), ('this', 1), ('time', 1), ('time:', 1), ('times', 1), ('to', 1), ('today', 1), ('together', 1), ('unending', 1), ('universal', 3), ('we', 1), ('wear', 1), ('what', 1), ('whenever', 1), ('with', 1), ('you', 6), ('your', 3), ('–', 1)]\n"
          ],
          "name": "stdout"
        }
      ]
    },
    {
      "cell_type": "code",
      "metadata": {
        "id": "HaAhYulMEpYZ",
        "colab_type": "code",
        "colab": {}
      },
      "source": [
        "sorted?"
      ],
      "execution_count": 0,
      "outputs": []
    },
    {
      "cell_type": "code",
      "metadata": {
        "id": "kuiv3F2-FANR",
        "colab_type": "code",
        "outputId": "9c4a70d9-3be2-40fb-fc56-2eda7bedbec6",
        "colab": {
          "base_uri": "https://localhost:8080/",
          "height": 55
        }
      },
      "source": [
        "print(sorted(word_freq.items(), key=lambda item: item[0]))"
      ],
      "execution_count": 0,
      "outputs": [
        {
          "output_type": "stream",
          "text": [
            "[('a', 2), ('after', 4), ('age', 5), ('all', 2), ('along', 1), ('an', 1), ('ancient', 1), ('and', 7), ('another', 1), ('apart', 1), ('as', 2), ('at', 2), ('become', 1), ('being', 1), ('both', 1), ('brings', 1), ('but', 1), ('by', 1), ('chronicles', 1), ('clad', 1), ('darkness', 1), ('days', 1), ('distressful', 1), ('emerge', 1), ('end', 2), ('every', 1), ('farewell', 1), ('feet', 1), ('floated', 1), ('for', 1), ('forever', 5), ('forever:', 1), ('forms', 2), ('found', 1), ('fount', 1), ('from', 1), ('gift', 1), ('has', 2), ('have', 3), ('heaped', 1), ('hear', 1), ('heart', 2), ('here', 1), ('i', 4), ('image', 1), ('in', 11), ('into', 1), ('is', 2), ('it', 2), ('its', 3), ('joy', 1), ('life', 5), ('light', 1), ('love', 6), ('loved', 1), ('lovers', 1), ('loves', 1), ('made', 1), ('many', 1), ('man’s', 1), ('meeting', 1), ('memories', 1), ('merging', 1), ('millions', 1), ('my', 1), ('neck', 1), ('necklace', 1), ('numberless', 2), ('of', 15), ('old', 3), ('on', 3), ('one', 2), ('or', 1), ('ours', 1), ('pain', 1), ('past', 3), ('piercing', 1), ('played', 1), ('poet', 1), ('pole', 1), ('rabindranath', 1), ('remade', 1), ('remembered', 1), ('renew', 2), ('round', 1), ('same', 2), ('seem', 1), ('shapes', 1), ('shared', 1), ('shy', 1), ('side', 1), ('songs', 2), ('sorrow', 1), ('spellbound', 1), ('star', 1), ('stare', 1), ('stream', 1), ('sweetness', 1), ('tagore', 1), ('take', 1), ('tale', 1), ('tears', 1), ('that', 3), ('the', 13), ('this', 1), ('time', 1), ('time:', 1), ('times', 1), ('to', 1), ('today', 1), ('together', 1), ('unending', 1), ('universal', 3), ('we', 1), ('wear', 1), ('what', 1), ('whenever', 1), ('with', 1), ('you', 6), ('your', 3), ('–', 1)]\n"
          ],
          "name": "stdout"
        }
      ]
    },
    {
      "cell_type": "code",
      "metadata": {
        "id": "7aw9UhRHFojy",
        "colab_type": "code",
        "outputId": "93b492c8-7111-4e66-fb04-1cea723e181a",
        "colab": {
          "base_uri": "https://localhost:8080/",
          "height": 55
        }
      },
      "source": [
        "print(sorted(word_freq.items(), key=lambda item: item[1]))"
      ],
      "execution_count": 0,
      "outputs": [
        {
          "output_type": "stream",
          "text": [
            "[('unending', 1), ('by', 1), ('rabindranath', 1), ('tagore', 1), ('seem', 1), ('to', 1), ('loved', 1), ('times', 1), ('my', 1), ('spellbound', 1), ('made', 1), ('remade', 1), ('necklace', 1), ('take', 1), ('gift', 1), ('wear', 1), ('round', 1), ('neck', 1), ('many', 1), ('whenever', 1), ('hear', 1), ('chronicles', 1), ('pain', 1), ('ancient', 1), ('tale', 1), ('being', 1), ('apart', 1), ('or', 1), ('together', 1), ('stare', 1), ('into', 1), ('emerge', 1), ('clad', 1), ('light', 1), ('pole', 1), ('star', 1), ('piercing', 1), ('darkness', 1), ('time:', 1), ('become', 1), ('an', 1), ('image', 1), ('what', 1), ('remembered', 1), ('floated', 1), ('here', 1), ('stream', 1), ('brings', 1), ('from', 1), ('fount', 1), ('time', 1), ('for', 1), ('another', 1), ('we', 1), ('played', 1), ('along', 1), ('side', 1), ('millions', 1), ('lovers', 1), ('shared', 1), ('shy', 1), ('sweetness', 1), ('meeting', 1), ('distressful', 1), ('tears', 1), ('farewell', 1), ('but', 1), ('shapes', 1), ('today', 1), ('heaped', 1), ('feet', 1), ('found', 1), ('man’s', 1), ('days', 1), ('both', 1), ('forever:', 1), ('joy', 1), ('sorrow', 1), ('memories', 1), ('loves', 1), ('merging', 1), ('with', 1), ('this', 1), ('ours', 1), ('–', 1), ('every', 1), ('poet', 1), ('numberless', 2), ('forms', 2), ('heart', 2), ('has', 2), ('songs', 2), ('as', 2), ('a', 2), ('end', 2), ('is', 2), ('at', 2), ('one', 2), ('same', 2), ('renew', 2), ('it', 2), ('all', 2), ('have', 3), ('that', 3), ('your', 3), ('old', 3), ('its', 3), ('on', 3), ('past', 3), ('universal', 3), ('i', 4), ('after', 4), ('life', 5), ('age', 5), ('forever', 5), ('love', 6), ('you', 6), ('and', 7), ('in', 11), ('the', 13), ('of', 15)]\n"
          ],
          "name": "stdout"
        }
      ]
    },
    {
      "cell_type": "code",
      "metadata": {
        "id": "foImE_VrFsta",
        "colab_type": "code",
        "colab": {}
      },
      "source": [
        "sorted_list = sorted(word_freq.items(), key=lambda item: item[1])"
      ],
      "execution_count": 0,
      "outputs": []
    },
    {
      "cell_type": "code",
      "metadata": {
        "id": "7oqy63rvGAke",
        "colab_type": "code",
        "outputId": "c9cdf286-dd48-4bcf-b84e-568d11fa19b6",
        "colab": {
          "base_uri": "https://localhost:8080/",
          "height": 201
        }
      },
      "source": [
        "sorted_list[-10:]"
      ],
      "execution_count": 0,
      "outputs": [
        {
          "output_type": "execute_result",
          "data": {
            "text/plain": [
              "[('after', 4),\n",
              " ('life', 5),\n",
              " ('age', 5),\n",
              " ('forever', 5),\n",
              " ('love', 6),\n",
              " ('you', 6),\n",
              " ('and', 7),\n",
              " ('in', 11),\n",
              " ('the', 13),\n",
              " ('of', 15)]"
            ]
          },
          "metadata": {
            "tags": []
          },
          "execution_count": 31
        }
      ]
    },
    {
      "cell_type": "code",
      "metadata": {
        "id": "4z4WulHjGFwf",
        "colab_type": "code",
        "colab": {}
      },
      "source": [
        "with open('most_common_words.txt', 'w') as f_out:\n",
        "    for item in sorted_list[-10:]:\n",
        "        f_out.write(item[0] + \"\\n\")"
      ],
      "execution_count": 0,
      "outputs": []
    },
    {
      "cell_type": "markdown",
      "metadata": {
        "id": "S2kJONpeHgVP",
        "colab_type": "text"
      },
      "source": [
        "# Problem 3"
      ]
    },
    {
      "cell_type": "markdown",
      "metadata": {
        "id": "71iwXvGrHhml",
        "colab_type": "text"
      },
      "source": [
        "unending love by rabindranath tagore -> (unending, love), (love, by), (by, rabindranath), (rabindranath, tagore)"
      ]
    },
    {
      "cell_type": "code",
      "metadata": {
        "id": "pf85UCnsGgYT",
        "colab_type": "code",
        "outputId": "21b48b70-42e3-4578-f049-4acc3c914d84",
        "colab": {
          "base_uri": "https://localhost:8080/",
          "height": 55
        }
      },
      "source": [
        "print(words)"
      ],
      "execution_count": 0,
      "outputs": [
        {
          "output_type": "stream",
          "text": [
            "['unending', 'love', 'by', 'rabindranath', 'tagore', 'i', 'seem', 'to', 'have', 'loved', 'you', 'in', 'numberless', 'forms', 'numberless', 'times', 'in', 'life', 'after', 'life', 'in', 'age', 'after', 'age', 'forever', 'my', 'spellbound', 'heart', 'has', 'made', 'and', 'remade', 'the', 'necklace', 'of', 'songs', 'that', 'you', 'take', 'as', 'a', 'gift', 'wear', 'round', 'your', 'neck', 'in', 'your', 'many', 'forms', 'in', 'life', 'after', 'life', 'in', 'age', 'after', 'age', 'forever', 'whenever', 'i', 'hear', 'old', 'chronicles', 'of', 'love', 'its', 'age', 'old', 'pain', 'its', 'ancient', 'tale', 'of', 'being', 'apart', 'or', 'together', 'as', 'i', 'stare', 'on', 'and', 'on', 'into', 'the', 'past', 'in', 'the', 'end', 'you', 'emerge', 'clad', 'in', 'the', 'light', 'of', 'a', 'pole', 'star', 'piercing', 'the', 'darkness', 'of', 'time:', 'you', 'become', 'an', 'image', 'of', 'what', 'is', 'remembered', 'forever', 'you', 'and', 'i', 'have', 'floated', 'here', 'on', 'the', 'stream', 'that', 'brings', 'from', 'the', 'fount', 'at', 'the', 'heart', 'of', 'time', 'love', 'of', 'one', 'for', 'another', 'we', 'have', 'played', 'along', 'side', 'millions', 'of', 'lovers', 'shared', 'in', 'the', 'same', 'shy', 'sweetness', 'of', 'meeting', 'the', 'same', 'distressful', 'tears', 'of', 'farewell', 'old', 'love', 'but', 'in', 'shapes', 'that', 'renew', 'and', 'renew', 'forever', 'today', 'it', 'is', 'heaped', 'at', 'your', 'feet', 'it', 'has', 'found', 'its', 'end', 'in', 'you', 'the', 'love', 'of', 'all', 'man’s', 'days', 'both', 'past', 'and', 'forever:', 'universal', 'joy', 'universal', 'sorrow', 'universal', 'life', 'the', 'memories', 'of', 'all', 'loves', 'merging', 'with', 'this', 'one', 'love', 'of', 'ours', '–', 'and', 'the', 'songs', 'of', 'every', 'poet', 'past', 'and', 'forever']\n"
          ],
          "name": "stdout"
        }
      ]
    },
    {
      "cell_type": "code",
      "metadata": {
        "id": "3wX3SCHdH_-7",
        "colab_type": "code",
        "colab": {}
      },
      "source": [
        "two_grams_zip = zip(words, words[1:])"
      ],
      "execution_count": 0,
      "outputs": []
    },
    {
      "cell_type": "code",
      "metadata": {
        "id": "6100-JspIODM",
        "colab_type": "code",
        "colab": {}
      },
      "source": [
        "for item in two_grams_zip:\n",
        "    print(item)"
      ],
      "execution_count": 0,
      "outputs": []
    },
    {
      "cell_type": "code",
      "metadata": {
        "id": "H9aCg9meIQmv",
        "colab_type": "code",
        "colab": {}
      },
      "source": [
        "two_grams = [item for item in two_grams_zip]"
      ],
      "execution_count": 0,
      "outputs": []
    },
    {
      "cell_type": "code",
      "metadata": {
        "id": "qOrPHvltIqNs",
        "colab_type": "code",
        "outputId": "e35f0e98-87c8-4204-e026-6d7e47461535",
        "colab": {
          "base_uri": "https://localhost:8080/",
          "height": 55
        }
      },
      "source": [
        "print(two_grams)"
      ],
      "execution_count": 0,
      "outputs": [
        {
          "output_type": "stream",
          "text": [
            "[('unending', 'love'), ('love', 'by'), ('by', 'rabindranath'), ('rabindranath', 'tagore'), ('tagore', 'i'), ('i', 'seem'), ('seem', 'to'), ('to', 'have'), ('have', 'loved'), ('loved', 'you'), ('you', 'in'), ('in', 'numberless'), ('numberless', 'forms'), ('forms', 'numberless'), ('numberless', 'times'), ('times', 'in'), ('in', 'life'), ('life', 'after'), ('after', 'life'), ('life', 'in'), ('in', 'age'), ('age', 'after'), ('after', 'age'), ('age', 'forever'), ('forever', 'my'), ('my', 'spellbound'), ('spellbound', 'heart'), ('heart', 'has'), ('has', 'made'), ('made', 'and'), ('and', 'remade'), ('remade', 'the'), ('the', 'necklace'), ('necklace', 'of'), ('of', 'songs'), ('songs', 'that'), ('that', 'you'), ('you', 'take'), ('take', 'as'), ('as', 'a'), ('a', 'gift'), ('gift', 'wear'), ('wear', 'round'), ('round', 'your'), ('your', 'neck'), ('neck', 'in'), ('in', 'your'), ('your', 'many'), ('many', 'forms'), ('forms', 'in'), ('in', 'life'), ('life', 'after'), ('after', 'life'), ('life', 'in'), ('in', 'age'), ('age', 'after'), ('after', 'age'), ('age', 'forever'), ('forever', 'whenever'), ('whenever', 'i'), ('i', 'hear'), ('hear', 'old'), ('old', 'chronicles'), ('chronicles', 'of'), ('of', 'love'), ('love', 'its'), ('its', 'age'), ('age', 'old'), ('old', 'pain'), ('pain', 'its'), ('its', 'ancient'), ('ancient', 'tale'), ('tale', 'of'), ('of', 'being'), ('being', 'apart'), ('apart', 'or'), ('or', 'together'), ('together', 'as'), ('as', 'i'), ('i', 'stare'), ('stare', 'on'), ('on', 'and'), ('and', 'on'), ('on', 'into'), ('into', 'the'), ('the', 'past'), ('past', 'in'), ('in', 'the'), ('the', 'end'), ('end', 'you'), ('you', 'emerge'), ('emerge', 'clad'), ('clad', 'in'), ('in', 'the'), ('the', 'light'), ('light', 'of'), ('of', 'a'), ('a', 'pole'), ('pole', 'star'), ('star', 'piercing'), ('piercing', 'the'), ('the', 'darkness'), ('darkness', 'of'), ('of', 'time:'), ('time:', 'you'), ('you', 'become'), ('become', 'an'), ('an', 'image'), ('image', 'of'), ('of', 'what'), ('what', 'is'), ('is', 'remembered'), ('remembered', 'forever'), ('forever', 'you'), ('you', 'and'), ('and', 'i'), ('i', 'have'), ('have', 'floated'), ('floated', 'here'), ('here', 'on'), ('on', 'the'), ('the', 'stream'), ('stream', 'that'), ('that', 'brings'), ('brings', 'from'), ('from', 'the'), ('the', 'fount'), ('fount', 'at'), ('at', 'the'), ('the', 'heart'), ('heart', 'of'), ('of', 'time'), ('time', 'love'), ('love', 'of'), ('of', 'one'), ('one', 'for'), ('for', 'another'), ('another', 'we'), ('we', 'have'), ('have', 'played'), ('played', 'along'), ('along', 'side'), ('side', 'millions'), ('millions', 'of'), ('of', 'lovers'), ('lovers', 'shared'), ('shared', 'in'), ('in', 'the'), ('the', 'same'), ('same', 'shy'), ('shy', 'sweetness'), ('sweetness', 'of'), ('of', 'meeting'), ('meeting', 'the'), ('the', 'same'), ('same', 'distressful'), ('distressful', 'tears'), ('tears', 'of'), ('of', 'farewell'), ('farewell', 'old'), ('old', 'love'), ('love', 'but'), ('but', 'in'), ('in', 'shapes'), ('shapes', 'that'), ('that', 'renew'), ('renew', 'and'), ('and', 'renew'), ('renew', 'forever'), ('forever', 'today'), ('today', 'it'), ('it', 'is'), ('is', 'heaped'), ('heaped', 'at'), ('at', 'your'), ('your', 'feet'), ('feet', 'it'), ('it', 'has'), ('has', 'found'), ('found', 'its'), ('its', 'end'), ('end', 'in'), ('in', 'you'), ('you', 'the'), ('the', 'love'), ('love', 'of'), ('of', 'all'), ('all', 'man’s'), ('man’s', 'days'), ('days', 'both'), ('both', 'past'), ('past', 'and'), ('and', 'forever:'), ('forever:', 'universal'), ('universal', 'joy'), ('joy', 'universal'), ('universal', 'sorrow'), ('sorrow', 'universal'), ('universal', 'life'), ('life', 'the'), ('the', 'memories'), ('memories', 'of'), ('of', 'all'), ('all', 'loves'), ('loves', 'merging'), ('merging', 'with'), ('with', 'this'), ('this', 'one'), ('one', 'love'), ('love', 'of'), ('of', 'ours'), ('ours', '–'), ('–', 'and'), ('and', 'the'), ('the', 'songs'), ('songs', 'of'), ('of', 'every'), ('every', 'poet'), ('poet', 'past'), ('past', 'and'), ('and', 'forever')]\n"
          ],
          "name": "stdout"
        }
      ]
    },
    {
      "cell_type": "code",
      "metadata": {
        "id": "7Z0i6abtIr4q",
        "colab_type": "code",
        "colab": {}
      },
      "source": [
        "def iterable_counter (iter_obj):\n",
        "    count_dict = {}\n",
        "    for item in iter_obj:\n",
        "        if item in count_dict:\n",
        "            count_dict[item] += 1\n",
        "        else:\n",
        "            count_dict[item] = 1\n",
        "    return count_dict"
      ],
      "execution_count": 0,
      "outputs": []
    },
    {
      "cell_type": "code",
      "metadata": {
        "id": "35ja23D4JLb6",
        "colab_type": "code",
        "colab": {}
      },
      "source": [
        "two_grams_freq = iterable_counter(two_grams)"
      ],
      "execution_count": 0,
      "outputs": []
    },
    {
      "cell_type": "code",
      "metadata": {
        "id": "-kSbhrxbJddB",
        "colab_type": "code",
        "outputId": "0fe47be9-633b-40e4-af36-ed486b19156f",
        "colab": {
          "base_uri": "https://localhost:8080/",
          "height": 55
        }
      },
      "source": [
        "print(two_grams_freq)"
      ],
      "execution_count": 0,
      "outputs": [
        {
          "output_type": "stream",
          "text": [
            "{('unending', 'love'): 1, ('love', 'by'): 1, ('by', 'rabindranath'): 1, ('rabindranath', 'tagore'): 1, ('tagore', 'i'): 1, ('i', 'seem'): 1, ('seem', 'to'): 1, ('to', 'have'): 1, ('have', 'loved'): 1, ('loved', 'you'): 1, ('you', 'in'): 1, ('in', 'numberless'): 1, ('numberless', 'forms'): 1, ('forms', 'numberless'): 1, ('numberless', 'times'): 1, ('times', 'in'): 1, ('in', 'life'): 2, ('life', 'after'): 2, ('after', 'life'): 2, ('life', 'in'): 2, ('in', 'age'): 2, ('age', 'after'): 2, ('after', 'age'): 2, ('age', 'forever'): 2, ('forever', 'my'): 1, ('my', 'spellbound'): 1, ('spellbound', 'heart'): 1, ('heart', 'has'): 1, ('has', 'made'): 1, ('made', 'and'): 1, ('and', 'remade'): 1, ('remade', 'the'): 1, ('the', 'necklace'): 1, ('necklace', 'of'): 1, ('of', 'songs'): 1, ('songs', 'that'): 1, ('that', 'you'): 1, ('you', 'take'): 1, ('take', 'as'): 1, ('as', 'a'): 1, ('a', 'gift'): 1, ('gift', 'wear'): 1, ('wear', 'round'): 1, ('round', 'your'): 1, ('your', 'neck'): 1, ('neck', 'in'): 1, ('in', 'your'): 1, ('your', 'many'): 1, ('many', 'forms'): 1, ('forms', 'in'): 1, ('forever', 'whenever'): 1, ('whenever', 'i'): 1, ('i', 'hear'): 1, ('hear', 'old'): 1, ('old', 'chronicles'): 1, ('chronicles', 'of'): 1, ('of', 'love'): 1, ('love', 'its'): 1, ('its', 'age'): 1, ('age', 'old'): 1, ('old', 'pain'): 1, ('pain', 'its'): 1, ('its', 'ancient'): 1, ('ancient', 'tale'): 1, ('tale', 'of'): 1, ('of', 'being'): 1, ('being', 'apart'): 1, ('apart', 'or'): 1, ('or', 'together'): 1, ('together', 'as'): 1, ('as', 'i'): 1, ('i', 'stare'): 1, ('stare', 'on'): 1, ('on', 'and'): 1, ('and', 'on'): 1, ('on', 'into'): 1, ('into', 'the'): 1, ('the', 'past'): 1, ('past', 'in'): 1, ('in', 'the'): 3, ('the', 'end'): 1, ('end', 'you'): 1, ('you', 'emerge'): 1, ('emerge', 'clad'): 1, ('clad', 'in'): 1, ('the', 'light'): 1, ('light', 'of'): 1, ('of', 'a'): 1, ('a', 'pole'): 1, ('pole', 'star'): 1, ('star', 'piercing'): 1, ('piercing', 'the'): 1, ('the', 'darkness'): 1, ('darkness', 'of'): 1, ('of', 'time:'): 1, ('time:', 'you'): 1, ('you', 'become'): 1, ('become', 'an'): 1, ('an', 'image'): 1, ('image', 'of'): 1, ('of', 'what'): 1, ('what', 'is'): 1, ('is', 'remembered'): 1, ('remembered', 'forever'): 1, ('forever', 'you'): 1, ('you', 'and'): 1, ('and', 'i'): 1, ('i', 'have'): 1, ('have', 'floated'): 1, ('floated', 'here'): 1, ('here', 'on'): 1, ('on', 'the'): 1, ('the', 'stream'): 1, ('stream', 'that'): 1, ('that', 'brings'): 1, ('brings', 'from'): 1, ('from', 'the'): 1, ('the', 'fount'): 1, ('fount', 'at'): 1, ('at', 'the'): 1, ('the', 'heart'): 1, ('heart', 'of'): 1, ('of', 'time'): 1, ('time', 'love'): 1, ('love', 'of'): 3, ('of', 'one'): 1, ('one', 'for'): 1, ('for', 'another'): 1, ('another', 'we'): 1, ('we', 'have'): 1, ('have', 'played'): 1, ('played', 'along'): 1, ('along', 'side'): 1, ('side', 'millions'): 1, ('millions', 'of'): 1, ('of', 'lovers'): 1, ('lovers', 'shared'): 1, ('shared', 'in'): 1, ('the', 'same'): 2, ('same', 'shy'): 1, ('shy', 'sweetness'): 1, ('sweetness', 'of'): 1, ('of', 'meeting'): 1, ('meeting', 'the'): 1, ('same', 'distressful'): 1, ('distressful', 'tears'): 1, ('tears', 'of'): 1, ('of', 'farewell'): 1, ('farewell', 'old'): 1, ('old', 'love'): 1, ('love', 'but'): 1, ('but', 'in'): 1, ('in', 'shapes'): 1, ('shapes', 'that'): 1, ('that', 'renew'): 1, ('renew', 'and'): 1, ('and', 'renew'): 1, ('renew', 'forever'): 1, ('forever', 'today'): 1, ('today', 'it'): 1, ('it', 'is'): 1, ('is', 'heaped'): 1, ('heaped', 'at'): 1, ('at', 'your'): 1, ('your', 'feet'): 1, ('feet', 'it'): 1, ('it', 'has'): 1, ('has', 'found'): 1, ('found', 'its'): 1, ('its', 'end'): 1, ('end', 'in'): 1, ('in', 'you'): 1, ('you', 'the'): 1, ('the', 'love'): 1, ('of', 'all'): 2, ('all', 'man’s'): 1, ('man’s', 'days'): 1, ('days', 'both'): 1, ('both', 'past'): 1, ('past', 'and'): 2, ('and', 'forever:'): 1, ('forever:', 'universal'): 1, ('universal', 'joy'): 1, ('joy', 'universal'): 1, ('universal', 'sorrow'): 1, ('sorrow', 'universal'): 1, ('universal', 'life'): 1, ('life', 'the'): 1, ('the', 'memories'): 1, ('memories', 'of'): 1, ('all', 'loves'): 1, ('loves', 'merging'): 1, ('merging', 'with'): 1, ('with', 'this'): 1, ('this', 'one'): 1, ('one', 'love'): 1, ('of', 'ours'): 1, ('ours', '–'): 1, ('–', 'and'): 1, ('and', 'the'): 1, ('the', 'songs'): 1, ('songs', 'of'): 1, ('of', 'every'): 1, ('every', 'poet'): 1, ('poet', 'past'): 1, ('and', 'forever'): 1}\n"
          ],
          "name": "stdout"
        }
      ]
    },
    {
      "cell_type": "code",
      "metadata": {
        "id": "dV8v889pJepV",
        "colab_type": "code",
        "colab": {}
      },
      "source": [
        "sorted_list = sorted(two_grams_freq.items(), key=lambda item: item[1])"
      ],
      "execution_count": 0,
      "outputs": []
    },
    {
      "cell_type": "code",
      "metadata": {
        "id": "V9yiPzC6JuOd",
        "colab_type": "code",
        "outputId": "d62d03a0-c092-46c0-c79e-d2a66461ebad",
        "colab": {
          "base_uri": "https://localhost:8080/",
          "height": 55
        }
      },
      "source": [
        "print(two_grams_freq.items())"
      ],
      "execution_count": 0,
      "outputs": [
        {
          "output_type": "stream",
          "text": [
            "dict_items([(('unending', 'love'), 1), (('love', 'by'), 1), (('by', 'rabindranath'), 1), (('rabindranath', 'tagore'), 1), (('tagore', 'i'), 1), (('i', 'seem'), 1), (('seem', 'to'), 1), (('to', 'have'), 1), (('have', 'loved'), 1), (('loved', 'you'), 1), (('you', 'in'), 1), (('in', 'numberless'), 1), (('numberless', 'forms'), 1), (('forms', 'numberless'), 1), (('numberless', 'times'), 1), (('times', 'in'), 1), (('in', 'life'), 2), (('life', 'after'), 2), (('after', 'life'), 2), (('life', 'in'), 2), (('in', 'age'), 2), (('age', 'after'), 2), (('after', 'age'), 2), (('age', 'forever'), 2), (('forever', 'my'), 1), (('my', 'spellbound'), 1), (('spellbound', 'heart'), 1), (('heart', 'has'), 1), (('has', 'made'), 1), (('made', 'and'), 1), (('and', 'remade'), 1), (('remade', 'the'), 1), (('the', 'necklace'), 1), (('necklace', 'of'), 1), (('of', 'songs'), 1), (('songs', 'that'), 1), (('that', 'you'), 1), (('you', 'take'), 1), (('take', 'as'), 1), (('as', 'a'), 1), (('a', 'gift'), 1), (('gift', 'wear'), 1), (('wear', 'round'), 1), (('round', 'your'), 1), (('your', 'neck'), 1), (('neck', 'in'), 1), (('in', 'your'), 1), (('your', 'many'), 1), (('many', 'forms'), 1), (('forms', 'in'), 1), (('forever', 'whenever'), 1), (('whenever', 'i'), 1), (('i', 'hear'), 1), (('hear', 'old'), 1), (('old', 'chronicles'), 1), (('chronicles', 'of'), 1), (('of', 'love'), 1), (('love', 'its'), 1), (('its', 'age'), 1), (('age', 'old'), 1), (('old', 'pain'), 1), (('pain', 'its'), 1), (('its', 'ancient'), 1), (('ancient', 'tale'), 1), (('tale', 'of'), 1), (('of', 'being'), 1), (('being', 'apart'), 1), (('apart', 'or'), 1), (('or', 'together'), 1), (('together', 'as'), 1), (('as', 'i'), 1), (('i', 'stare'), 1), (('stare', 'on'), 1), (('on', 'and'), 1), (('and', 'on'), 1), (('on', 'into'), 1), (('into', 'the'), 1), (('the', 'past'), 1), (('past', 'in'), 1), (('in', 'the'), 3), (('the', 'end'), 1), (('end', 'you'), 1), (('you', 'emerge'), 1), (('emerge', 'clad'), 1), (('clad', 'in'), 1), (('the', 'light'), 1), (('light', 'of'), 1), (('of', 'a'), 1), (('a', 'pole'), 1), (('pole', 'star'), 1), (('star', 'piercing'), 1), (('piercing', 'the'), 1), (('the', 'darkness'), 1), (('darkness', 'of'), 1), (('of', 'time:'), 1), (('time:', 'you'), 1), (('you', 'become'), 1), (('become', 'an'), 1), (('an', 'image'), 1), (('image', 'of'), 1), (('of', 'what'), 1), (('what', 'is'), 1), (('is', 'remembered'), 1), (('remembered', 'forever'), 1), (('forever', 'you'), 1), (('you', 'and'), 1), (('and', 'i'), 1), (('i', 'have'), 1), (('have', 'floated'), 1), (('floated', 'here'), 1), (('here', 'on'), 1), (('on', 'the'), 1), (('the', 'stream'), 1), (('stream', 'that'), 1), (('that', 'brings'), 1), (('brings', 'from'), 1), (('from', 'the'), 1), (('the', 'fount'), 1), (('fount', 'at'), 1), (('at', 'the'), 1), (('the', 'heart'), 1), (('heart', 'of'), 1), (('of', 'time'), 1), (('time', 'love'), 1), (('love', 'of'), 3), (('of', 'one'), 1), (('one', 'for'), 1), (('for', 'another'), 1), (('another', 'we'), 1), (('we', 'have'), 1), (('have', 'played'), 1), (('played', 'along'), 1), (('along', 'side'), 1), (('side', 'millions'), 1), (('millions', 'of'), 1), (('of', 'lovers'), 1), (('lovers', 'shared'), 1), (('shared', 'in'), 1), (('the', 'same'), 2), (('same', 'shy'), 1), (('shy', 'sweetness'), 1), (('sweetness', 'of'), 1), (('of', 'meeting'), 1), (('meeting', 'the'), 1), (('same', 'distressful'), 1), (('distressful', 'tears'), 1), (('tears', 'of'), 1), (('of', 'farewell'), 1), (('farewell', 'old'), 1), (('old', 'love'), 1), (('love', 'but'), 1), (('but', 'in'), 1), (('in', 'shapes'), 1), (('shapes', 'that'), 1), (('that', 'renew'), 1), (('renew', 'and'), 1), (('and', 'renew'), 1), (('renew', 'forever'), 1), (('forever', 'today'), 1), (('today', 'it'), 1), (('it', 'is'), 1), (('is', 'heaped'), 1), (('heaped', 'at'), 1), (('at', 'your'), 1), (('your', 'feet'), 1), (('feet', 'it'), 1), (('it', 'has'), 1), (('has', 'found'), 1), (('found', 'its'), 1), (('its', 'end'), 1), (('end', 'in'), 1), (('in', 'you'), 1), (('you', 'the'), 1), (('the', 'love'), 1), (('of', 'all'), 2), (('all', 'man’s'), 1), (('man’s', 'days'), 1), (('days', 'both'), 1), (('both', 'past'), 1), (('past', 'and'), 2), (('and', 'forever:'), 1), (('forever:', 'universal'), 1), (('universal', 'joy'), 1), (('joy', 'universal'), 1), (('universal', 'sorrow'), 1), (('sorrow', 'universal'), 1), (('universal', 'life'), 1), (('life', 'the'), 1), (('the', 'memories'), 1), (('memories', 'of'), 1), (('all', 'loves'), 1), (('loves', 'merging'), 1), (('merging', 'with'), 1), (('with', 'this'), 1), (('this', 'one'), 1), (('one', 'love'), 1), (('of', 'ours'), 1), (('ours', '–'), 1), (('–', 'and'), 1), (('and', 'the'), 1), (('the', 'songs'), 1), (('songs', 'of'), 1), (('of', 'every'), 1), (('every', 'poet'), 1), (('poet', 'past'), 1), (('and', 'forever'), 1)])\n"
          ],
          "name": "stdout"
        }
      ]
    },
    {
      "cell_type": "code",
      "metadata": {
        "id": "scZllfa6JwIL",
        "colab_type": "code",
        "colab": {}
      },
      "source": [
        "sorted_list = sorted(two_grams_freq.items(), key=lambda item: item[1])"
      ],
      "execution_count": 0,
      "outputs": []
    },
    {
      "cell_type": "code",
      "metadata": {
        "id": "aYRFgGtFJ9E2",
        "colab_type": "code",
        "outputId": "49875bcd-339d-4cc1-f0b5-fdaaa5a9d149",
        "colab": {
          "base_uri": "https://localhost:8080/",
          "height": 55
        }
      },
      "source": [
        "print(sorted_list)"
      ],
      "execution_count": 0,
      "outputs": [
        {
          "output_type": "stream",
          "text": [
            "[(('unending', 'love'), 1), (('love', 'by'), 1), (('by', 'rabindranath'), 1), (('rabindranath', 'tagore'), 1), (('tagore', 'i'), 1), (('i', 'seem'), 1), (('seem', 'to'), 1), (('to', 'have'), 1), (('have', 'loved'), 1), (('loved', 'you'), 1), (('you', 'in'), 1), (('in', 'numberless'), 1), (('numberless', 'forms'), 1), (('forms', 'numberless'), 1), (('numberless', 'times'), 1), (('times', 'in'), 1), (('forever', 'my'), 1), (('my', 'spellbound'), 1), (('spellbound', 'heart'), 1), (('heart', 'has'), 1), (('has', 'made'), 1), (('made', 'and'), 1), (('and', 'remade'), 1), (('remade', 'the'), 1), (('the', 'necklace'), 1), (('necklace', 'of'), 1), (('of', 'songs'), 1), (('songs', 'that'), 1), (('that', 'you'), 1), (('you', 'take'), 1), (('take', 'as'), 1), (('as', 'a'), 1), (('a', 'gift'), 1), (('gift', 'wear'), 1), (('wear', 'round'), 1), (('round', 'your'), 1), (('your', 'neck'), 1), (('neck', 'in'), 1), (('in', 'your'), 1), (('your', 'many'), 1), (('many', 'forms'), 1), (('forms', 'in'), 1), (('forever', 'whenever'), 1), (('whenever', 'i'), 1), (('i', 'hear'), 1), (('hear', 'old'), 1), (('old', 'chronicles'), 1), (('chronicles', 'of'), 1), (('of', 'love'), 1), (('love', 'its'), 1), (('its', 'age'), 1), (('age', 'old'), 1), (('old', 'pain'), 1), (('pain', 'its'), 1), (('its', 'ancient'), 1), (('ancient', 'tale'), 1), (('tale', 'of'), 1), (('of', 'being'), 1), (('being', 'apart'), 1), (('apart', 'or'), 1), (('or', 'together'), 1), (('together', 'as'), 1), (('as', 'i'), 1), (('i', 'stare'), 1), (('stare', 'on'), 1), (('on', 'and'), 1), (('and', 'on'), 1), (('on', 'into'), 1), (('into', 'the'), 1), (('the', 'past'), 1), (('past', 'in'), 1), (('the', 'end'), 1), (('end', 'you'), 1), (('you', 'emerge'), 1), (('emerge', 'clad'), 1), (('clad', 'in'), 1), (('the', 'light'), 1), (('light', 'of'), 1), (('of', 'a'), 1), (('a', 'pole'), 1), (('pole', 'star'), 1), (('star', 'piercing'), 1), (('piercing', 'the'), 1), (('the', 'darkness'), 1), (('darkness', 'of'), 1), (('of', 'time:'), 1), (('time:', 'you'), 1), (('you', 'become'), 1), (('become', 'an'), 1), (('an', 'image'), 1), (('image', 'of'), 1), (('of', 'what'), 1), (('what', 'is'), 1), (('is', 'remembered'), 1), (('remembered', 'forever'), 1), (('forever', 'you'), 1), (('you', 'and'), 1), (('and', 'i'), 1), (('i', 'have'), 1), (('have', 'floated'), 1), (('floated', 'here'), 1), (('here', 'on'), 1), (('on', 'the'), 1), (('the', 'stream'), 1), (('stream', 'that'), 1), (('that', 'brings'), 1), (('brings', 'from'), 1), (('from', 'the'), 1), (('the', 'fount'), 1), (('fount', 'at'), 1), (('at', 'the'), 1), (('the', 'heart'), 1), (('heart', 'of'), 1), (('of', 'time'), 1), (('time', 'love'), 1), (('of', 'one'), 1), (('one', 'for'), 1), (('for', 'another'), 1), (('another', 'we'), 1), (('we', 'have'), 1), (('have', 'played'), 1), (('played', 'along'), 1), (('along', 'side'), 1), (('side', 'millions'), 1), (('millions', 'of'), 1), (('of', 'lovers'), 1), (('lovers', 'shared'), 1), (('shared', 'in'), 1), (('same', 'shy'), 1), (('shy', 'sweetness'), 1), (('sweetness', 'of'), 1), (('of', 'meeting'), 1), (('meeting', 'the'), 1), (('same', 'distressful'), 1), (('distressful', 'tears'), 1), (('tears', 'of'), 1), (('of', 'farewell'), 1), (('farewell', 'old'), 1), (('old', 'love'), 1), (('love', 'but'), 1), (('but', 'in'), 1), (('in', 'shapes'), 1), (('shapes', 'that'), 1), (('that', 'renew'), 1), (('renew', 'and'), 1), (('and', 'renew'), 1), (('renew', 'forever'), 1), (('forever', 'today'), 1), (('today', 'it'), 1), (('it', 'is'), 1), (('is', 'heaped'), 1), (('heaped', 'at'), 1), (('at', 'your'), 1), (('your', 'feet'), 1), (('feet', 'it'), 1), (('it', 'has'), 1), (('has', 'found'), 1), (('found', 'its'), 1), (('its', 'end'), 1), (('end', 'in'), 1), (('in', 'you'), 1), (('you', 'the'), 1), (('the', 'love'), 1), (('all', 'man’s'), 1), (('man’s', 'days'), 1), (('days', 'both'), 1), (('both', 'past'), 1), (('and', 'forever:'), 1), (('forever:', 'universal'), 1), (('universal', 'joy'), 1), (('joy', 'universal'), 1), (('universal', 'sorrow'), 1), (('sorrow', 'universal'), 1), (('universal', 'life'), 1), (('life', 'the'), 1), (('the', 'memories'), 1), (('memories', 'of'), 1), (('all', 'loves'), 1), (('loves', 'merging'), 1), (('merging', 'with'), 1), (('with', 'this'), 1), (('this', 'one'), 1), (('one', 'love'), 1), (('of', 'ours'), 1), (('ours', '–'), 1), (('–', 'and'), 1), (('and', 'the'), 1), (('the', 'songs'), 1), (('songs', 'of'), 1), (('of', 'every'), 1), (('every', 'poet'), 1), (('poet', 'past'), 1), (('and', 'forever'), 1), (('in', 'life'), 2), (('life', 'after'), 2), (('after', 'life'), 2), (('life', 'in'), 2), (('in', 'age'), 2), (('age', 'after'), 2), (('after', 'age'), 2), (('age', 'forever'), 2), (('the', 'same'), 2), (('of', 'all'), 2), (('past', 'and'), 2), (('in', 'the'), 3), (('love', 'of'), 3)]\n"
          ],
          "name": "stdout"
        }
      ]
    },
    {
      "cell_type": "code",
      "metadata": {
        "id": "KS1ZLULlJ_nz",
        "colab_type": "code",
        "outputId": "57ab9953-db59-442f-8ad4-3655317ba03b",
        "colab": {
          "base_uri": "https://localhost:8080/",
          "height": 109
        }
      },
      "source": [
        "sorted_list[-5:]"
      ],
      "execution_count": 0,
      "outputs": [
        {
          "output_type": "execute_result",
          "data": {
            "text/plain": [
              "[(('the', 'same'), 2),\n",
              " (('of', 'all'), 2),\n",
              " (('past', 'and'), 2),\n",
              " (('in', 'the'), 3),\n",
              " (('love', 'of'), 3)]"
            ]
          },
          "metadata": {
            "tags": []
          },
          "execution_count": 52
        }
      ]
    },
    {
      "cell_type": "code",
      "metadata": {
        "id": "uDiuzTGQKO0o",
        "colab_type": "code",
        "colab": {}
      },
      "source": [
        "with open(\"common_two_grams.txt\", \"w\") as f_out:\n",
        "    for item in sorted_list[-5:]:\n",
        "        # print(item[0][0] + \" \" + item[0][1] + \"\\n\")\n",
        "        f_out.write(item[0][0] + \" \" + item[0][1] + \"\\n\")"
      ],
      "execution_count": 0,
      "outputs": []
    },
    {
      "cell_type": "code",
      "metadata": {
        "id": "LnEqUlKlKeEn",
        "colab_type": "code",
        "colab": {}
      },
      "source": [
        ""
      ],
      "execution_count": 0,
      "outputs": []
    }
  ]
}