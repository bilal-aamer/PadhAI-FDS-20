{
  "nbformat": 4,
  "nbformat_minor": 0,
  "metadata": {
    "colab": {
      "name": "Numpy_Assignments_Questions.ipynb",
      "provenance": [],
      "collapsed_sections": []
    },
    "kernelspec": {
      "name": "python3",
      "display_name": "Python 3"
    }
  },
  "cells": [
    {
      "cell_type": "markdown",
      "metadata": {
        "id": "TzyvCghfCM7X",
        "colab_type": "text"
      },
      "source": [
        "#Exercise"
      ]
    },
    {
      "cell_type": "markdown",
      "metadata": {
        "id": "6bjea3xQCacL",
        "colab_type": "text"
      },
      "source": [
        "1.   Write a program to multiply two matrices of size $(100, 100)$ in two methods: (a) by using `np.dot(mat_1, mat_2)` and (b) by using for-loops. Comapre the time of execution in both the cases. Check out the documentation of `np.dot` in case that is not familiar to you. \n",
        "\n",
        "2.   Write a program to execute the steps below using numpy:\n",
        "    $$z_{ij} = \\sum_{k=1}^{n}w_{ik}x_{kj}$$\n",
        "    $$\\sigma_{ij}(z_{ij}) = \\frac{1}{1+e^{-z_{ij}}}$$ where $\\textbf{w}$ and $\\textbf{x}$ are matrices of random numbers having  dimensions $(m,n)$ and $(n,k)$, respectively, $\\sigma(z)$ is a function which performs above defined operation on elements of $\\textbf{z}$.\n",
        "\n",
        "3.   Consider a matrix $\\textbf{M}$ of size $(n, n)$. Flatten this into a 1-dimensional array and \n",
        "> 1. compute **mean** and **standard deviation** of $\\textbf{M}$ in *two* ways. <br>\n",
        "> 2. Apply the element wise operation as defined below: $$z_i = \\frac{x_i - \\mu}{\\sigma}$$ <br> where $x_i, \\ \\mu,\\ \\sigma$ are elements, mean and standard deviation of flattened matrix $\\textbf{M}$ respectively. And $z$ is the output vector.\n",
        "> 3. Compute the **mean** and **standard deviation** of $z$ and compare them with the **mean** and **standard deviation** of $\\textbf{M}$.\n",
        "> 4. Resaon about the above comparison.\n",
        "\n",
        "4.   Consider an $n$ dimentional vector $\\vec{V}$ (having $n$ elements), calculate :\n",
        "> 1. $|\\vec{V}|$ (magnitude of vector)\n",
        "> 2. $\\sum_{i=1}^{n}v_i^3$ in three different ways (here $n$ is total number of elements in $\\vec{V}$ and $v_i$ is $i_{th}$ element of $\\vec{V}$).\n",
        "\n",
        "5.   Create two vectors $y$ and $\\hat{y}$ having **same** dimensions, where $\\hat{y}$ should consist of random numbers between $[0, 1]$ and $y$ should contain $0s$ and $1s$, for example $y = [0, 1, 1, 0, 1, 0, 0, 1, ..., 1]$. Compute the given expression: $$O = -\\frac{1}{n}\\sum_{i=1}^{n}[y_i\\log_2(\\hat{y_i}) + (1-y_i)\\log_2(1-\\hat{y_i})]$$\n",
        "where $n$ is the total number of elements in $y$ and $\\hat{y}$."
      ]
    },
    {
      "cell_type": "code",
      "metadata": {
        "id": "-uDjdVFr76oH",
        "colab_type": "code",
        "colab": {}
      },
      "source": [
        ""
      ],
      "execution_count": 0,
      "outputs": []
    }
  ]
}