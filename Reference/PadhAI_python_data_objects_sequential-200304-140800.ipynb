{
  "nbformat": 4,
  "nbformat_minor": 0,
  "metadata": {
    "colab": {
      "name": "data_objects_sequential.ipynb",
      "provenance": [],
      "collapsed_sections": []
    },
    "kernelspec": {
      "name": "python3",
      "display_name": "Python 3"
    }
  },
  "cells": [
    {
      "cell_type": "markdown",
      "metadata": {
        "id": "M01rKlUI_KYo",
        "colab_type": "text"
      },
      "source": [
        "\n",
        "<img src=\"https://i.imgur.com/nTOFzVI.png\" alt=\"drawing\" width=\"400\"/>\n",
        "\n",
        "# by One Fourth Labs\n",
        "\n",
        "\n",
        "For more reading or to go indepth refer official reference of python language https://docs.python.org/3/reference/\n",
        "\n",
        "\n",
        ">**Also refer to the [Padhai-One](https://github.com/OneFourthLabs/PadhAI-One) Github repo for updates & other notebooks **"
      ]
    },
    {
      "cell_type": "markdown",
      "metadata": {
        "id": "BaPS5VydEkSq",
        "colab_type": "text"
      },
      "source": [
        "#**List**\n",
        "Lists are mutable sequence type data object. It is used for storing python objects in sequential structure. Lists preserve the ordering of elements i.e each element will present in a specific index and will not get shuffled unless modified explicitly. \n",
        "\n",
        "List objects can be modified (mutable). This provides a greater flexibility."
      ]
    },
    {
      "cell_type": "markdown",
      "metadata": {
        "id": "WK8zHy_cUhM9",
        "colab_type": "text"
      },
      "source": [
        "## Creating list\n",
        "\n"
      ]
    },
    {
      "cell_type": "markdown",
      "metadata": {
        "id": "kqhPBrVzbKx_",
        "colab_type": "text"
      },
      "source": [
        "List can be created in 2 ways\n",
        "1. using `[]`  square brackets\n",
        "2. using `list()` function, which takes any sequence type or iterable objects (like other list, tuple, set) as argument and converts to list"
      ]
    },
    {
      "cell_type": "code",
      "metadata": {
        "id": "otCZN4w8ERE8",
        "colab_type": "code",
        "outputId": "1eae4078-f647-4c3d-e092-3091b9a97733",
        "colab": {
          "base_uri": "https://localhost:8080/",
          "height": 101
        }
      },
      "source": [
        "# empty list\n",
        "a = []\n",
        "b = list()\n",
        "\n",
        "# list with values\n",
        "c = [1,2,3,4,5]\n",
        "d = list((6,7,8,9)) # create list out of tuple (sequence type)\n",
        "e = c # shallow copy from a list\n",
        "\n",
        "# Print\n",
        "print(\"a = \",a, \"\\nb = \",b, \"\\nc = \",c, \"\\nd = \",d, \"\\ne = \",e )"
      ],
      "execution_count": 0,
      "outputs": [
        {
          "output_type": "stream",
          "text": [
            "a =  [] \n",
            "b =  [] \n",
            "c =  [1, 2, 3, 4, 5] \n",
            "d =  [6, 7, 8, 9] \n",
            "e =  [1, 2, 3, 4, 5]\n"
          ],
          "name": "stdout"
        }
      ]
    },
    {
      "cell_type": "markdown",
      "metadata": {
        "id": "2rcWbvgbi_3U",
        "colab_type": "text"
      },
      "source": [
        "One can see that tuple object is converted to list.<br> *What other objects can we convert to list?* "
      ]
    },
    {
      "cell_type": "code",
      "metadata": {
        "id": "rFIEhnXcjbdT",
        "colab_type": "code",
        "outputId": "bc1507e6-1272-4e2f-9cea-162b6f5bbeae",
        "colab": {
          "base_uri": "https://localhost:8080/",
          "height": 84
        }
      },
      "source": [
        "a = (1,2,3,4) # tuple\n",
        "b = {5,6,7,8} # set\n",
        "c = {'a': 1, 'b':2, 'c':3} #dictionary\n",
        "d = \"truth alone triumphs\"\n",
        "p = list(a)\n",
        "q = list(b)\n",
        "r = list(c)\n",
        "s = list(d)\n",
        "\n",
        "print(\"p = \", p, \"\\nq =\", q, \"\\nr =\", r, \"\\ns =\" ,s)"
      ],
      "execution_count": 0,
      "outputs": [
        {
          "output_type": "stream",
          "text": [
            "p =  [1, 2, 3, 4] \n",
            "q = [8, 5, 6, 7] \n",
            "r = ['a', 'b', 'c'] \n",
            "s = ['t', 'r', 'u', 't', 'h', ' ', 'a', 'l', 'o', 'n', 'e', ' ', 't', 'r', 'i', 'u', 'm', 'p', 'h', 's']\n"
          ],
          "name": "stdout"
        }
      ]
    },
    {
      "cell_type": "markdown",
      "metadata": {
        "id": "ePwsE3WW1q_t",
        "colab_type": "text"
      },
      "source": [
        "One can notice that for dictionary only the keys are taken for creating the list not the values.\n",
        "\n",
        "And for strings all the characters including 'space' is converted into elements of a string. \n",
        "\n",
        "---\n",
        "<br><br>"
      ]
    },
    {
      "cell_type": "markdown",
      "metadata": {
        "id": "suMeeKl0JZcE",
        "colab_type": "text"
      },
      "source": [
        "## Accessing elements "
      ]
    },
    {
      "cell_type": "markdown",
      "metadata": {
        "id": "6i17hPIXLVEV",
        "colab_type": "text"
      },
      "source": [
        "List elements can be accessed using indices.\n",
        ">Index starts from 0 to n-1 where n is number of elements."
      ]
    },
    {
      "cell_type": "code",
      "metadata": {
        "id": "BFr1GYxwLnnu",
        "colab_type": "code",
        "outputId": "7beadb3b-6cc5-4f81-85dc-c2da282c510c",
        "colab": {
          "base_uri": "https://localhost:8080/",
          "height": 67
        }
      },
      "source": [
        "a = [1,2,3,4,5]\n",
        "print(\"First element:\", a[0])\n",
        "print(\"Second element:\", a[1])\n",
        "print(\"Last(fifth) element:\",a[4])"
      ],
      "execution_count": 0,
      "outputs": [
        {
          "output_type": "stream",
          "text": [
            "First element: 1\n",
            "Second element: 2\n",
            "Last(fifth) element: 5\n"
          ],
          "name": "stdout"
        }
      ]
    },
    {
      "cell_type": "markdown",
      "metadata": {
        "id": "a114Fs2oME9y",
        "colab_type": "text"
      },
      "source": [
        "One can use negative indexing to access the elements. It accesses the elements in reverse.\n",
        ">Index starts from -1 to -n where n is number of elements"
      ]
    },
    {
      "cell_type": "code",
      "metadata": {
        "id": "HC2JgSN-MZvI",
        "colab_type": "code",
        "outputId": "97065d5d-02b1-4491-9096-1a1e220d4865",
        "colab": {
          "base_uri": "https://localhost:8080/",
          "height": 67
        }
      },
      "source": [
        "a = [1,2,3,4,5]\n",
        "print(\"Last element:\",a[-1])\n",
        "print(\"last second(fourth) element:\", a[-2])\n",
        "print(\"First element:\", a[-5])"
      ],
      "execution_count": 0,
      "outputs": [
        {
          "output_type": "stream",
          "text": [
            "Last element: 5\n",
            "last second(fourth) element: 4\n",
            "First element: 1\n"
          ],
          "name": "stdout"
        }
      ]
    },
    {
      "cell_type": "markdown",
      "metadata": {
        "id": "luZJR_gdM2wV",
        "colab_type": "text"
      },
      "source": [
        "one can have nested lists. And for accessing one has to use `[]` **index operator** multiple times."
      ]
    },
    {
      "cell_type": "code",
      "metadata": {
        "id": "G_pXobMyNKfE",
        "colab_type": "code",
        "outputId": "4aed837e-4846-460b-9434-19557caedb65",
        "colab": {
          "base_uri": "https://localhost:8080/",
          "height": 67
        }
      },
      "source": [
        "b = [\n",
        "     [1,2,3,4,5,6],\n",
        "     [10, 20, 30]\n",
        "]\n",
        "print(\"First element of b:\", b[0])\n",
        "print(\"First element inside first element of b:\", b[0][0])\n",
        "print(\"last element inside last element of b:\", b[1][-1])"
      ],
      "execution_count": 0,
      "outputs": [
        {
          "output_type": "stream",
          "text": [
            "First element of b: [1, 2, 3, 4, 5, 6]\n",
            "First element inside first element of b: 1\n",
            "last element inside last element of b: 30\n"
          ],
          "name": "stdout"
        }
      ]
    },
    {
      "cell_type": "markdown",
      "metadata": {
        "id": "wMHaLyE_O1e0",
        "colab_type": "text"
      },
      "source": [
        "---\n",
        "<br>"
      ]
    },
    {
      "cell_type": "markdown",
      "metadata": {
        "id": "VsDbjB-bOJzN",
        "colab_type": "text"
      },
      "source": [
        "*Can one find if a element is present in a list?* <br>\n",
        "one can do that using the `in` statement."
      ]
    },
    {
      "cell_type": "code",
      "metadata": {
        "id": "KkJXi3dOO7Rp",
        "colab_type": "code",
        "outputId": "0bfedc71-21c6-4eb7-ce7d-739634b35e36",
        "colab": {
          "base_uri": "https://localhost:8080/",
          "height": 50
        }
      },
      "source": [
        "a = [\"cat\", \"dog\", \"parrot\"]\n",
        "a_dog = \"dog\" in a\n",
        "a_wolf = \"wolf\" in a\n",
        "\n",
        "print(\"is dog present:\", a_dog)\n",
        "print(\"is wolf present:\", a_wolf)\n"
      ],
      "execution_count": 0,
      "outputs": [
        {
          "output_type": "stream",
          "text": [
            "is dog present: True\n",
            "is wolf present: False\n"
          ],
          "name": "stdout"
        }
      ]
    },
    {
      "cell_type": "markdown",
      "metadata": {
        "id": "hoUMcAwhoZfZ",
        "colab_type": "text"
      },
      "source": [
        "For the nested lists, it only checks the top level objects, and will not check the objects inside."
      ]
    },
    {
      "cell_type": "code",
      "metadata": {
        "id": "m3oNTgfHmnk2",
        "colab_type": "code",
        "outputId": "414f7c1e-f263-4d00-820e-126b6702380f",
        "colab": {
          "base_uri": "https://localhost:8080/",
          "height": 50
        }
      },
      "source": [
        "b = [ [1,2,3,4,5], \n",
        "      [11,12,13,14,15,16,17],\n",
        "      [21,22,23,24,25,26]]\n",
        "b1 = 11 in b\n",
        "b2 = 11 in b[1]\n",
        "\n",
        "print(\"Is 11 in b:\", b1)\n",
        "print(\"Is 11 in b[1]:\", b2)\n"
      ],
      "execution_count": 0,
      "outputs": [
        {
          "output_type": "stream",
          "text": [
            "Is 11 in b: False\n",
            "Is 11 in b[1]: True\n"
          ],
          "name": "stdout"
        }
      ]
    },
    {
      "cell_type": "markdown",
      "metadata": {
        "id": "Irs5Geprol7p",
        "colab_type": "text"
      },
      "source": [
        "As said checking `b` for `11` then it fails because all elements of b is a list and nothing matches `11`. \n",
        "Where as is second case we check list inside the list explicitly. \n",
        "\n",
        "---\n",
        "<br>"
      ]
    },
    {
      "cell_type": "markdown",
      "metadata": {
        "colab_type": "text",
        "id": "BsQ6EqC50dje"
      },
      "source": [
        "In some cases one may want to know in which index a specific element is present in addition to knowing if it is present.\n",
        "\n",
        "For such cases list has `index()` method."
      ]
    },
    {
      "cell_type": "code",
      "metadata": {
        "colab_type": "code",
        "outputId": "93f4aaca-d85e-41ec-bfea-23af574e84e1",
        "id": "VJpNuY4q0djh",
        "colab": {
          "base_uri": "https://localhost:8080/",
          "height": 34
        }
      },
      "source": [
        "c = [1,2,3,4,5,6,7,8,9]\n",
        "idx = c.index(6)\n",
        "print(\"Index of 6:\", idx) "
      ],
      "execution_count": 0,
      "outputs": [
        {
          "output_type": "stream",
          "text": [
            "Index of 6: 5\n"
          ],
          "name": "stdout"
        }
      ]
    },
    {
      "cell_type": "markdown",
      "metadata": {
        "colab_type": "text",
        "id": "WGGoiJV60djn"
      },
      "source": [
        "Notice it returned index id as `5` which is sixth position. *Remember that index start from 0*\n",
        "\n",
        "---\n",
        "<br>"
      ]
    },
    {
      "cell_type": "markdown",
      "metadata": {
        "id": "31P3t7Sea0Ac",
        "colab_type": "text"
      },
      "source": [
        "\n",
        "## Inserting elements"
      ]
    },
    {
      "cell_type": "markdown",
      "metadata": {
        "id": "TkeTGHZIbRKG",
        "colab_type": "text"
      },
      "source": [
        "\n",
        "List is **mutable** object, so one can add elements to existing object without creating new object.<br> \n",
        "This behaviour is different from immutable sequence like tuple.\n",
        "\n"
      ]
    },
    {
      "cell_type": "code",
      "metadata": {
        "id": "koFt26U9ZvXd",
        "colab_type": "code",
        "outputId": "cb26339d-4b12-4df3-f857-1f3b4218c4aa",
        "colab": {
          "base_uri": "https://localhost:8080/",
          "height": 34
        }
      },
      "source": [
        "# Appending new element\n",
        "a = [1,2,3]\n",
        "a.append(55)\n",
        "\n",
        "# Print\n",
        "print(\"a = \",a)"
      ],
      "execution_count": 0,
      "outputs": [
        {
          "output_type": "stream",
          "text": [
            "a =  [1, 2, 3, 55]\n"
          ],
          "name": "stdout"
        }
      ]
    },
    {
      "cell_type": "markdown",
      "metadata": {
        "id": "UDpPLWABBORp",
        "colab_type": "text"
      },
      "source": [
        "*What if one wants to append multiple elements to a list?*\n"
      ]
    },
    {
      "cell_type": "code",
      "metadata": {
        "id": "ugDzu5ZJeQcc",
        "colab_type": "code",
        "outputId": "c8c49b23-d8f5-434a-d33b-9448dc1edf2f",
        "colab": {
          "base_uri": "https://localhost:8080/",
          "height": 34
        }
      },
      "source": [
        "## Appending multiple elements\n",
        "a = [10, 20, 30 , 40]\n",
        "try:\n",
        "    a.append(66, 77) # this will throw ERROR\n",
        "except Exception as error:\n",
        "    print(\"Error:\", error)"
      ],
      "execution_count": 0,
      "outputs": [
        {
          "output_type": "stream",
          "text": [
            "Error: append() takes exactly one argument (2 given)\n"
          ],
          "name": "stdout"
        }
      ]
    },
    {
      "cell_type": "markdown",
      "metadata": {
        "id": "ULyqFMbKed8A",
        "colab_type": "text"
      },
      "source": [
        "`append()` can only be used to append one element at a time. So one cannot pass multiple arguments. <br>\n",
        "One possible solution that could come to mind is to pass the elements as a list. "
      ]
    },
    {
      "cell_type": "code",
      "metadata": {
        "id": "pdMUrEeoeEdY",
        "colab_type": "code",
        "outputId": "9b7a2dc4-f2f6-45d7-8697-3a9314490cd9",
        "colab": {
          "base_uri": "https://localhost:8080/",
          "height": 34
        }
      },
      "source": [
        "a = [10, 20, 30 , 40]\n",
        "b = [66, 77]\n",
        "a.append(b)\n",
        "print(\"a = \",a)"
      ],
      "execution_count": 0,
      "outputs": [
        {
          "output_type": "stream",
          "text": [
            "a =  [10, 20, 30, 40, [66, 77]]\n"
          ],
          "name": "stdout"
        }
      ]
    },
    {
      "cell_type": "markdown",
      "metadata": {
        "id": "MydVt5vuwJf2",
        "colab_type": "text"
      },
      "source": [
        "One can see that 5th element is a list not a int. List object nested inside a list.\n",
        "This is not desired in many cases. <br>\n",
        "It could be a case where we need linear structure.\n",
        "\n",
        "---\n",
        "<br>\n"
      ]
    },
    {
      "cell_type": "markdown",
      "metadata": {
        "id": "aDuhH-Re1xGm",
        "colab_type": "text"
      },
      "source": [
        "**for loop** can be used iterate over the elements of second list and append it to the first, which is called extending a list. *Is it the only way?*\n",
        "\n",
        "List has `extend()` method which makes it easy to append another list to a list which gives same result as above. "
      ]
    },
    {
      "cell_type": "code",
      "metadata": {
        "id": "i8WsrmAnx2s0",
        "colab_type": "code",
        "outputId": "04994841-ae95-418b-d3f8-02a7c0cb0883",
        "colab": {
          "base_uri": "https://localhost:8080/",
          "height": 50
        }
      },
      "source": [
        "a = [10, 20, 30 , 40]\n",
        "b = [66, 77]\n",
        "# Iterating and appending elements\n",
        "for i in b:\n",
        "    a.append(i)\n",
        "    \n",
        "c = [10, 20, 30 , 40]\n",
        "d = [66, 77]\n",
        "# extending the list\n",
        "c.extend(d)\n",
        "\n",
        "print(\"a = \",a,\"\\nc =\",c )"
      ],
      "execution_count": 0,
      "outputs": [
        {
          "output_type": "stream",
          "text": [
            "a =  [10, 20, 30, 40, 66, 77] \n",
            "c = [10, 20, 30, 40, 66, 77]\n"
          ],
          "name": "stdout"
        }
      ]
    },
    {
      "cell_type": "markdown",
      "metadata": {
        "id": "EsCXhkWP12ZG",
        "colab_type": "text"
      },
      "source": [
        "---\n",
        "<br>"
      ]
    },
    {
      "cell_type": "markdown",
      "metadata": {
        "id": "IueodpQa16tI",
        "colab_type": "text"
      },
      "source": [
        "One can observe that each new element is appended at end of the list and list is a sequence preserving structure.\n",
        "\n",
        "There can be cases where wee need to append or insert elements to a specific index of a list.<br>\n",
        "This can be done with `insert()`. It takes 2 arguments one for index and other for element.\n"
      ]
    },
    {
      "cell_type": "code",
      "metadata": {
        "id": "5GphkVyNzoaE",
        "colab_type": "code",
        "outputId": "60130d1e-5531-475a-abb9-9d6845cdfbbb",
        "colab": {
          "base_uri": "https://localhost:8080/",
          "height": 34
        }
      },
      "source": [
        "a = [10, 20, 40 , 50]\n",
        "a.insert(2, 33) # inserts 33 in second index\n",
        "print(\"a =\", a)"
      ],
      "execution_count": 0,
      "outputs": [
        {
          "output_type": "stream",
          "text": [
            "a = [10, 20, 33, 40, 50]\n"
          ],
          "name": "stdout"
        }
      ]
    },
    {
      "cell_type": "markdown",
      "metadata": {
        "id": "WERds8GY6TS-",
        "colab_type": "text"
      },
      "source": [
        "---\n",
        "<br><br>"
      ]
    },
    {
      "cell_type": "markdown",
      "metadata": {
        "id": "GILG2nuE6jxt",
        "colab_type": "text"
      },
      "source": [
        "## Deleting elements"
      ]
    },
    {
      "cell_type": "markdown",
      "metadata": {
        "id": "58pRB50T6oX9",
        "colab_type": "text"
      },
      "source": [
        "If one needs to remove an element, one can use `remove()`.\n",
        "*But there is a catch here !*"
      ]
    },
    {
      "cell_type": "code",
      "metadata": {
        "id": "Yrqz293V6i4Z",
        "colab_type": "code",
        "outputId": "5dad99fc-874d-40f5-835c-47771f1ae9af",
        "colab": {
          "base_uri": "https://localhost:8080/",
          "height": 50
        }
      },
      "source": [
        "a = [11, 12, 13, 14, 15, 16, 17]\n",
        "a.remove(13) # removes 13 from list\n",
        "print(\"a =\", a)\n",
        "\n",
        "b = [11, 22, 333, 44, 333, 55, 66, 77]\n",
        "b.remove(333) # two 333 are present, only one gets removed\n",
        "print(\"b =\",b)"
      ],
      "execution_count": 0,
      "outputs": [
        {
          "output_type": "stream",
          "text": [
            "a = [11, 12, 14, 15, 16, 17]\n",
            "b = [11, 22, 44, 333, 55, 66, 77]\n"
          ],
          "name": "stdout"
        }
      ]
    },
    {
      "cell_type": "markdown",
      "metadata": {
        "id": "M0RLZ3PL9TJe",
        "colab_type": "text"
      },
      "source": [
        "When an object (value) is present in list more than once. `remove()` will remove only the first element that matches according to indexing.\n",
        "\n",
        "In order to remove all elements matching a data object (value), one has to iterate over the list which has to be done with care."
      ]
    },
    {
      "cell_type": "code",
      "metadata": {
        "id": "NDc_-MZE86BP",
        "colab_type": "code",
        "outputId": "020c758f-eaab-4fc3-e801-6b57afa1fe89",
        "colab": {
          "base_uri": "https://localhost:8080/",
          "height": 34
        }
      },
      "source": [
        "a = [11, 22, 333, 44, 333, 55, 66, 77]\n",
        "r = 333\n",
        "while r in a:\n",
        "        a.remove(r)\n",
        "print(\"a =\", a)"
      ],
      "execution_count": 0,
      "outputs": [
        {
          "output_type": "stream",
          "text": [
            "a = [11, 22, 44, 55, 66, 77]\n"
          ],
          "name": "stdout"
        }
      ]
    },
    {
      "cell_type": "markdown",
      "metadata": {
        "id": "Y1GOC3O7Hfzy",
        "colab_type": "text"
      },
      "source": [
        "---\n",
        "<br>"
      ]
    },
    {
      "cell_type": "markdown",
      "metadata": {
        "id": "2i8uKobsHiZR",
        "colab_type": "text"
      },
      "source": [
        "If one wants to remove any object(value) at specific location , one can use `pop()`  "
      ]
    },
    {
      "cell_type": "code",
      "metadata": {
        "id": "aG-b7UJtFhio",
        "colab_type": "code",
        "outputId": "af6339c5-2a26-4cde-d898-f99755de68dc",
        "colab": {
          "base_uri": "https://localhost:8080/",
          "height": 34
        }
      },
      "source": [
        "a = [22,33,44, 555, 66,77,88]\n",
        "a.pop(3) #remove data object at index 3\n",
        "\n",
        "print(\"a =\", a)"
      ],
      "execution_count": 0,
      "outputs": [
        {
          "output_type": "stream",
          "text": [
            "a = [22, 33, 44, 66, 77, 88]\n"
          ],
          "name": "stdout"
        }
      ]
    },
    {
      "cell_type": "markdown",
      "metadata": {
        "id": "jQnfBvOqJnix",
        "colab_type": "text"
      },
      "source": [
        "---\n",
        "<br>\n"
      ]
    },
    {
      "cell_type": "markdown",
      "metadata": {
        "id": "XHepRUnlJ7Em",
        "colab_type": "text"
      },
      "source": [
        "Incase if one need to remove specific slice of elements from a list or all elements of a list <br> \n",
        "*Is iterating over the list and removing each element is the only way? No*\n",
        " "
      ]
    },
    {
      "cell_type": "markdown",
      "metadata": {
        "id": "_hb84PFLLE58",
        "colab_type": "text"
      },
      "source": [
        " One can use `del` to remove a specific slice of elements or to remove entire object.\n",
        "\n"
      ]
    },
    {
      "cell_type": "code",
      "metadata": {
        "id": "f4vfLKn_IRnT",
        "colab_type": "code",
        "outputId": "23ab4bac-598c-469e-ee50-96f686c2e22e",
        "colab": {
          "base_uri": "https://localhost:8080/",
          "height": 34
        }
      },
      "source": [
        "a = [1,2,3,4,5,6,7,8,9,0]\n",
        "del a[2:6] # deletes elements from index 2 to 5 in the object.\n",
        "print('`a` after modification =', a)"
      ],
      "execution_count": 0,
      "outputs": [
        {
          "output_type": "stream",
          "text": [
            "`a` after modification = [1, 2, 7, 8, 9, 0]\n"
          ],
          "name": "stdout"
        }
      ]
    },
    {
      "cell_type": "markdown",
      "metadata": {
        "id": "VgDZmTh9xT5O",
        "colab_type": "text"
      },
      "source": [
        "When used for removing slice from the list the existing object is modified. As one can see below that the object id remains the same."
      ]
    },
    {
      "cell_type": "code",
      "metadata": {
        "id": "n1Ew_yXX0hdm",
        "colab_type": "code",
        "outputId": "36dccd2e-b1af-46ae-899a-6344be6429cf",
        "colab": {
          "base_uri": "https://localhost:8080/",
          "height": 67
        }
      },
      "source": [
        "a = [1,2,3,4,5,6,7,8,9,0]\n",
        "print(\"Id of `a` before:\", id(a))\n",
        "del a[2:6] # deletes elements from index 2 to 5 in the object.\n",
        "print('`a` after modification =', a)\n",
        "print(\"Id of `a` after:\", id(a))"
      ],
      "execution_count": 0,
      "outputs": [
        {
          "output_type": "stream",
          "text": [
            "Id of `a` before: 140298073858824\n",
            "`a` after modification = [1, 2, 7, 8, 9, 0]\n",
            "Id of `a` after: 140298073858824\n"
          ],
          "name": "stdout"
        }
      ]
    },
    {
      "cell_type": "markdown",
      "metadata": {
        "id": "l0jp8FTh0h1q",
        "colab_type": "text"
      },
      "source": [
        "One can use `del` on the object as whole."
      ]
    },
    {
      "cell_type": "code",
      "metadata": {
        "id": "A0FsI3LvQ9CL",
        "colab_type": "code",
        "outputId": "b9be097b-91e8-4bae-ff2d-d879c89a7493",
        "colab": {
          "base_uri": "https://localhost:8080/",
          "height": 34
        }
      },
      "source": [
        "c = [5,6,7,8,9]\n",
        "del c # reference to object is removed\n",
        "\n",
        "try: \n",
        "    print(c) #This will throw ERROR since c is not defined\n",
        "except NameError as error:\n",
        "    print(\"Error:\", error)"
      ],
      "execution_count": 0,
      "outputs": [
        {
          "output_type": "stream",
          "text": [
            "Error: name 'c' is not defined\n"
          ],
          "name": "stdout"
        }
      ]
    },
    {
      "cell_type": "markdown",
      "metadata": {
        "id": "mHxBQ_Fhx9cv",
        "colab_type": "text"
      },
      "source": [
        "When using `del` on the entire object. The object remains same and exists in memory. Only the reference between variable and object is broken and variable becomes undefined."
      ]
    },
    {
      "cell_type": "code",
      "metadata": {
        "id": "1fNU9iWxu4RU",
        "colab_type": "code",
        "outputId": "669399bd-8240-4343-e5b3-9d3171660313",
        "colab": {
          "base_uri": "https://localhost:8080/",
          "height": 67
        }
      },
      "source": [
        "d = [10, 20, 30, 40]\n",
        "print(\"Id of `d`:\", id(d))\n",
        "e = d\n",
        "del d # reference to object is removed\n",
        "\n",
        "print(\"Id of `e`:\", id(e))\n",
        "print(\"Object in e:\", e) # `e` still references the object"
      ],
      "execution_count": 0,
      "outputs": [
        {
          "output_type": "stream",
          "text": [
            "Id of `d`: 140298073780808\n",
            "Id of `e`: 140298073780808\n",
            "Object in e: [10, 20, 30, 40]\n"
          ],
          "name": "stdout"
        }
      ]
    },
    {
      "cell_type": "markdown",
      "metadata": {
        "id": "n4gLt4hpvSWU",
        "colab_type": "text"
      },
      "source": [
        "---\n",
        "<br>"
      ]
    },
    {
      "cell_type": "markdown",
      "metadata": {
        "id": "KVLWifZgNRlO",
        "colab_type": "text"
      },
      "source": [
        "To remove all elements one can use `clear()` method, this will retain the old object and only remove the elements"
      ]
    },
    {
      "cell_type": "code",
      "metadata": {
        "id": "NrA3hRcrNKCe",
        "colab_type": "code",
        "outputId": "ea968df1-88cb-48fc-a0d4-46cc0208f8b0",
        "colab": {
          "base_uri": "https://localhost:8080/",
          "height": 34
        }
      },
      "source": [
        "a = [100, 200, 300, 400, 500, 600]\n",
        "a.clear()\n",
        "print(\"a =\", a)"
      ],
      "execution_count": 0,
      "outputs": [
        {
          "output_type": "stream",
          "text": [
            "a = []\n"
          ],
          "name": "stdout"
        }
      ]
    },
    {
      "cell_type": "markdown",
      "metadata": {
        "id": "LBC0pkW6NoFn",
        "colab_type": "text"
      },
      "source": [
        "> At this point a question might come to mind that why should we clear elements of a list object and reuse the same object\n",
        "\n",
        "Check the below case where we link the object in variable `a` to another variable `b` by shallow copy. And we are changing the list object in `a` by assigning a new list.  "
      ]
    },
    {
      "cell_type": "code",
      "metadata": {
        "id": "nYdhLgi7NmKo",
        "colab_type": "code",
        "outputId": "af970bf6-1f87-4318-ea78-3d084ad30430",
        "colab": {
          "base_uri": "https://localhost:8080/",
          "height": 118
        }
      },
      "source": [
        "a = [11, 22, 33, 44, 55, 66, 77, 88]\n",
        "b = a # a & b refers to same object\n",
        "print(\"before modifying a: \\na =\", a, \" id= \",id(a) )\n",
        "print(\"b =\", b, \" id= \",id(b))\n",
        "\n",
        "a = [11] # a now point to new object\n",
        "print(\"after modifying a: \\na =\", \" id= \",id(a) )\n",
        "print(\"b =\", \" id= \",id(b))"
      ],
      "execution_count": 0,
      "outputs": [
        {
          "output_type": "stream",
          "text": [
            "before modifying a: \n",
            "a = [11, 22, 33, 44, 55, 66, 77, 88]  id=  140298074057224\n",
            "b = [11, 22, 33, 44, 55, 66, 77, 88]  id=  140298074057224\n",
            "after modifying a: \n",
            "a =  id=  140298556543816\n",
            "b =  id=  140298074057224\n"
          ],
          "name": "stdout"
        }
      ]
    },
    {
      "cell_type": "markdown",
      "metadata": {
        "id": "qRWNNok9QJZM",
        "colab_type": "text"
      },
      "source": [
        "The object initially `a` had, is not destroyed or modified, it still exists in memory and `b` still references the old object, which might not be desired in some case.\n",
        "\n",
        "Also the link between objects `a` and `b` i.e object referenced by `b` is no longer associated to `a`.The link is broken which could be bad in some case."
      ]
    },
    {
      "cell_type": "code",
      "metadata": {
        "id": "9AmyUmRpO273",
        "colab_type": "code",
        "outputId": "f5ce43a3-9d34-4914-feb3-337b62730b26",
        "colab": {
          "base_uri": "https://localhost:8080/",
          "height": 118
        }
      },
      "source": [
        "a = [11, 22, 33, 44, 55, 66, 77, 88]\n",
        "b = a # a & b refers to same object\n",
        "\n",
        "print(\"Initially: \\na =\", a,\" id= \",id(a))\n",
        "print(\" b =\", b,\" id= \",id(b))\n",
        "\n",
        "a.clear()\n",
        "\n",
        "print(\"clearing a: \\na =\", a, \" id= \",id(a))\n",
        "print(\"b =\", b, \" id= \",id(b))\n"
      ],
      "execution_count": 0,
      "outputs": [
        {
          "output_type": "stream",
          "text": [
            "Initially: \n",
            "a = [11, 22, 33, 44, 55, 66, 77, 88]  id=  140298073372424\n",
            " b = [11, 22, 33, 44, 55, 66, 77, 88]  id=  140298073372424\n",
            "clearing a: \n",
            "a = []  id=  140298073372424\n",
            "b = []  id=  140298073372424\n"
          ],
          "name": "stdout"
        }
      ]
    },
    {
      "cell_type": "markdown",
      "metadata": {
        "id": "5Fmdx7VuDCtA",
        "colab_type": "text"
      },
      "source": [
        "---\n",
        "<br> <br>"
      ]
    },
    {
      "cell_type": "markdown",
      "metadata": {
        "id": "2Od5jd0zHUf1",
        "colab_type": "text"
      },
      "source": [
        "## Duplicating"
      ]
    },
    {
      "cell_type": "markdown",
      "metadata": {
        "id": "sZm_nyH0DFpp",
        "colab_type": "text"
      },
      "source": [
        "It may not be the case always to have same object in two different variables.\n",
        "\n",
        "Sometimes one may want to create a copy of a list and do some modification independent of other. In such cases it is better create two different objects. For which one can use `copy()` which creates a deep copy of the object. <br>\n",
        "Alternatively, one can use `list()` which is used to create new list from sequence type object."
      ]
    },
    {
      "cell_type": "code",
      "metadata": {
        "id": "yM5GMm95Brcr",
        "colab_type": "code",
        "outputId": "690fc406-994c-42c5-d996-f1c7b393ff20",
        "colab": {
          "base_uri": "https://localhost:8080/",
          "height": 67
        }
      },
      "source": [
        "a = [10, 20 , 30, 40 ,50]\n",
        "b = a.copy() # deep copy\n",
        "b.remove(10)\n",
        "\n",
        "c = list(a)\n",
        "c.remove(50)\n",
        "\n",
        "print(\"a =\", a, \" id=\",id(a))\n",
        "print(\"b =\", b, \" id=\",id(b))\n",
        "print(\"b =\", c, \" id=\",id(c))"
      ],
      "execution_count": 0,
      "outputs": [
        {
          "output_type": "stream",
          "text": [
            "a = [10, 20, 30, 40, 50]  id= 140298556543816\n",
            "b = [20, 30, 40, 50]  id= 140298073597000\n",
            "b = [10, 20, 30, 40]  id= 140298073499656\n"
          ],
          "name": "stdout"
        }
      ]
    },
    {
      "cell_type": "markdown",
      "metadata": {
        "id": "f5JB4S92fjp1",
        "colab_type": "text"
      },
      "source": [
        "But one would wonder what could be the difference between `copy()` and `list()`. <br>\n",
        "\n",
        "`list()` function takes any iteratable data objects, iterates through elements to coverts list type object. This is same for list type objects.\n",
        "\n",
        "whereas `copy()` method directly creates a copy of list object. This makes `copy()` method faster than `list()`  "
      ]
    },
    {
      "cell_type": "code",
      "metadata": {
        "id": "z9WcYeiufjTT",
        "colab_type": "code",
        "outputId": "9399ff81-ddd1-4771-d5ad-853268ae9743",
        "colab": {
          "base_uri": "https://localhost:8080/",
          "height": 34
        }
      },
      "source": [
        "%%timeit -n1 -r10\n",
        "a = [1,2,3,4,5,6,7,8,9]\n",
        "for i in range(1000000):\n",
        "    b = a.copy"
      ],
      "execution_count": 0,
      "outputs": [
        {
          "output_type": "stream",
          "text": [
            "1 loop, best of 10: 47.2 ms per loop\n"
          ],
          "name": "stdout"
        }
      ]
    },
    {
      "cell_type": "code",
      "metadata": {
        "id": "IzAE-nqTfiY1",
        "colab_type": "code",
        "outputId": "b483f7ce-c124-44f0-c565-608ef782c0fd",
        "colab": {
          "base_uri": "https://localhost:8080/",
          "height": 34
        }
      },
      "source": [
        "%%timeit -n1 -r10\n",
        "a = [1,2,3,4,5,6,7,8,9]\n",
        "for i in range(1000000):\n",
        "    b = list(a)"
      ],
      "execution_count": 0,
      "outputs": [
        {
          "output_type": "stream",
          "text": [
            "1 loop, best of 10: 170 ms per loop\n"
          ],
          "name": "stdout"
        }
      ]
    },
    {
      "cell_type": "markdown",
      "metadata": {
        "id": "h-nAIRgyICFb",
        "colab_type": "text"
      },
      "source": [
        "## "
      ]
    },
    {
      "cell_type": "markdown",
      "metadata": {
        "id": "OLeY-DfKIlAt",
        "colab_type": "text"
      },
      "source": [
        "## Arranging elements"
      ]
    },
    {
      "cell_type": "markdown",
      "metadata": {
        "id": "gaPNOP3AHq6x",
        "colab_type": "text"
      },
      "source": [
        "One would know by now that list is sequence preserving. *What if one wants to sort the elements fo a list?* <br>\n",
        "One can always write a simple sorting logic or easily use `sort()` method to sort the elements.\n",
        "\n",
        "Sort by default arranges the list elements in ascending order.\n"
      ]
    },
    {
      "cell_type": "code",
      "metadata": {
        "id": "Y-nNtUGeEYRM",
        "colab_type": "code",
        "outputId": "d691cf1d-e824-4f28-d1cc-9c82cd9b1aec",
        "colab": {
          "base_uri": "https://localhost:8080/",
          "height": 34
        }
      },
      "source": [
        "a = [66, 55, 77, 11, 33, 99]\n",
        "a.sort()\n",
        "\n",
        "print('a =', a)"
      ],
      "execution_count": 0,
      "outputs": [
        {
          "output_type": "stream",
          "text": [
            "a = [11, 33, 55, 66, 77, 99]\n"
          ],
          "name": "stdout"
        }
      ]
    },
    {
      "cell_type": "markdown",
      "metadata": {
        "id": "tOAE3AzrIn3F",
        "colab_type": "text"
      },
      "source": [
        "*That seems fine, but what if the elements are string type objects?*\n",
        "\n",
        "`sort()` arranges string object elements based on character of according to ASCII values."
      ]
    },
    {
      "cell_type": "code",
      "metadata": {
        "id": "EB9AjK_GIjrT",
        "colab_type": "code",
        "outputId": "981e2f5a-7af3-497e-a53d-2f5b88933741",
        "colab": {
          "base_uri": "https://localhost:8080/",
          "height": 34
        }
      },
      "source": [
        "a = [\"eye\",  \"ball\", \"dog\", \"apple\", \"cat\", \"aaa\"]\n",
        "a.sort()\n",
        "\n",
        "print('a =', a)"
      ],
      "execution_count": 0,
      "outputs": [
        {
          "output_type": "stream",
          "text": [
            "a = ['aaa', 'apple', 'ball', 'cat', 'dog', 'eye']\n"
          ],
          "name": "stdout"
        }
      ]
    },
    {
      "cell_type": "markdown",
      "metadata": {
        "id": "GLdjKTJYKX3n",
        "colab_type": "text"
      },
      "source": [
        "*Again, what if one wants to sort according to differnt criteria say length of the words?*\n",
        "\n",
        "One can create a function that returns a number based on some criterea and pass the function as aargument to `sort()` which will sort the list based on the ascending order of number returned for each element."
      ]
    },
    {
      "cell_type": "code",
      "metadata": {
        "id": "SKmiAAhyJmSD",
        "colab_type": "code",
        "outputId": "c0d5a4ec-6953-45b1-d028-a4af17e1695a",
        "colab": {
          "base_uri": "https://localhost:8080/",
          "height": 34
        }
      },
      "source": [
        "def my_crit(x):\n",
        "    return len(x) # returns length of string\n",
        "\n",
        "a = [\"fff\",  \"b\", \"dd\", \"eeeee\", \"cccc\", \"aaaaaa\"]\n",
        "a.sort(key = my_crit)\n",
        "\n",
        "print('a =', a)"
      ],
      "execution_count": 0,
      "outputs": [
        {
          "output_type": "stream",
          "text": [
            "a = ['b', 'dd', 'fff', 'cccc', 'eeeee', 'aaaaaa']\n"
          ],
          "name": "stdout"
        }
      ]
    },
    {
      "cell_type": "markdown",
      "metadata": {
        "id": "ceslqdzCT2w5",
        "colab_type": "text"
      },
      "source": [
        "It could be seen that `sort()` is by default ascending order.\n",
        "If one wants to sort in descending order,one can do that by passing argument as `reverse=True`"
      ]
    },
    {
      "cell_type": "code",
      "metadata": {
        "id": "fiyiAtrfNHfk",
        "colab_type": "code",
        "outputId": "a7a0b065-8872-407a-9e5d-c59451139129",
        "colab": {
          "base_uri": "https://localhost:8080/",
          "height": 34
        }
      },
      "source": [
        "a = [66, 55, 77, 11, 33, 99]\n",
        "a.sort(reverse = True)\n",
        "\n",
        "print('a =', a)"
      ],
      "execution_count": 0,
      "outputs": [
        {
          "output_type": "stream",
          "text": [
            "a = [99, 77, 66, 55, 33, 11]\n"
          ],
          "name": "stdout"
        }
      ]
    },
    {
      "cell_type": "markdown",
      "metadata": {
        "id": "iwjw4FsfUqYv",
        "colab_type": "text"
      },
      "source": [
        "---\n",
        "<br>"
      ]
    },
    {
      "cell_type": "markdown",
      "metadata": {
        "id": "GhwKZeeOUtOO",
        "colab_type": "text"
      },
      "source": [
        "There will be cases where one may want to reverse the order of list elements. Not the descending sort, just a simple reverse of given list.\n",
        "\n",
        "This can be done using `reverse()` method. *But is it the only approach?* <br>\n",
        "\n",
        "With some wit one can use indexing to read the list in reverse. <br>\n",
        "\n",
        "Note that `reverse()` modifies object, whereas indexing doesn't modify the object, it just a way of reading. \n",
        "\n",
        "\n",
        "\n"
      ]
    },
    {
      "cell_type": "code",
      "metadata": {
        "id": "IrDBwDIMUoJ2",
        "colab_type": "code",
        "outputId": "159757b9-96c7-4227-9504-b2801e625cb3",
        "colab": {
          "base_uri": "https://localhost:8080/",
          "height": 67
        }
      },
      "source": [
        "a = ['apple', 'ball', 'cat', 'dog', 'eye']\n",
        "a.reverse()\n",
        "print(\"a =\", a)\n",
        "\n",
        "b = ['v', 'w', 'x', 'y', 'z']\n",
        "print(\"reading in reverse b =\", b[::-1]) # prints in reverse order\n",
        "print(\"actual b =\", b) #object remains same"
      ],
      "execution_count": 0,
      "outputs": [
        {
          "output_type": "stream",
          "text": [
            "a = ['eye', 'dog', 'cat', 'ball', 'apple']\n",
            "reading in reverse b = ['z', 'y', 'x', 'w', 'v']\n",
            "actual b = ['v', 'w', 'x', 'y', 'z']\n"
          ],
          "name": "stdout"
        }
      ]
    },
    {
      "cell_type": "markdown",
      "metadata": {
        "id": "fnz3RTjgGT_c",
        "colab_type": "text"
      },
      "source": [
        "---\n",
        "<br><br>\n"
      ]
    },
    {
      "cell_type": "markdown",
      "metadata": {
        "id": "PrpaAbfyHjCM",
        "colab_type": "text"
      },
      "source": [
        "## Other functionalities"
      ]
    },
    {
      "cell_type": "markdown",
      "metadata": {
        "id": "l72pzzvy_dRY",
        "colab_type": "text"
      },
      "source": [
        "One can find the total number of elements in a\n",
        "list using `len()` function, which will return the number of elements.\n",
        "\n"
      ]
    },
    {
      "cell_type": "code",
      "metadata": {
        "id": "CvTbrn7Y_--U",
        "colab_type": "code",
        "outputId": "dca705c5-230d-4b84-ca12-a408a6245b0c",
        "colab": {
          "base_uri": "https://localhost:8080/",
          "height": 50
        }
      },
      "source": [
        "a = [1.1, 2.2, 3.3, 4.4, 5.5, 6.6]\n",
        "b = [[1,2], [4,5,6]] #list with list objects\n",
        "\n",
        "print(\"Num of elements in a:\", len(a))\n",
        "print(\"Num of elements in b:\", len(b))"
      ],
      "execution_count": 0,
      "outputs": [
        {
          "output_type": "stream",
          "text": [
            "Num of elements in a: 6\n",
            "Num of elements in b: 2\n"
          ],
          "name": "stdout"
        }
      ]
    },
    {
      "cell_type": "markdown",
      "metadata": {
        "id": "1-q34vT1Ajhg",
        "colab_type": "text"
      },
      "source": [
        "It can be seen that for `b` it show 2, `len()` considers only objects it contains, does not take into account elements present in the object. So `b` has two list objects which is returned.  "
      ]
    },
    {
      "cell_type": "markdown",
      "metadata": {
        "id": "vPBdmH8YBdfX",
        "colab_type": "text"
      },
      "source": [
        "list can have duplicate elements i.e same element multiple times, which is intentional design choice. \n",
        "With that being teh case *what if one wants to find count of certain object(value) present in a list?*\n",
        "\n",
        "For which one can use `count()` method"
      ]
    },
    {
      "cell_type": "code",
      "metadata": {
        "id": "fgJx2M9xCKY6",
        "colab_type": "code",
        "outputId": "963d2a62-25fd-4203-cb61-2a6793964c45",
        "colab": {
          "base_uri": "https://localhost:8080/",
          "height": 50
        }
      },
      "source": [
        "a = [1, 2, 3, 4, 5, 1, 2, 1, 3, 3, 4, 1]\n",
        "b = [2, [1,2], [2]]\n",
        "a_c = a.count(1)\n",
        "b_c = b.count(2)\n",
        "print(\"Count of 1 in a:\", a_c)\n",
        "print(\"Count of 2 in b:\", b_c)\n"
      ],
      "execution_count": 0,
      "outputs": [
        {
          "output_type": "stream",
          "text": [
            "Count of 1 in a: 4\n",
            "Count of 2 in b: 1\n"
          ],
          "name": "stdout"
        }
      ]
    },
    {
      "cell_type": "markdown",
      "metadata": {
        "id": "In4CeCwqCu10",
        "colab_type": "text"
      },
      "source": [
        "One see the same behaviour as in `len()`.\n",
        "count of 2 in b is 1, which is true because the other two elements are list object not 2. It tries to match with exact object and does not go inside object and checks.\n",
        "\n",
        "Below is a example where it looks for exact list object and return count"
      ]
    },
    {
      "cell_type": "code",
      "metadata": {
        "id": "lKiutWn_DtOS",
        "colab_type": "code",
        "outputId": "6ed08824-af4f-4e79-babd-aab39839dcc4",
        "colab": {
          "base_uri": "https://localhost:8080/",
          "height": 34
        }
      },
      "source": [
        "b = [3, [3,1,1], [3], [3]]\n",
        "b_c = b.count([3])\n",
        "print(\"Count of [3] in b:\", b_c)"
      ],
      "execution_count": 0,
      "outputs": [
        {
          "output_type": "stream",
          "text": [
            "Count of [3] in b: 2\n"
          ],
          "name": "stdout"
        }
      ]
    },
    {
      "cell_type": "markdown",
      "metadata": {
        "id": "IRTyHAqXD9tG",
        "colab_type": "text"
      },
      "source": [
        "It looks for exact list object as `[3]` and returns its count.\n",
        "\n",
        "---\n",
        "<br>"
      ]
    },
    {
      "cell_type": "markdown",
      "metadata": {
        "id": "Pxu5fKvBI7Ee",
        "colab_type": "text"
      },
      "source": [
        "There would be cases where one will be in need to find sum of all elements in a list.\n",
        "For which one can use `sum()` function"
      ]
    },
    {
      "cell_type": "code",
      "metadata": {
        "id": "HQcz1GzQJIeP",
        "colab_type": "code",
        "outputId": "ea145652-df03-4c78-c855-7cce0dece27e",
        "colab": {
          "base_uri": "https://localhost:8080/",
          "height": 34
        }
      },
      "source": [
        "a = [1.1, 2, 3.3, 4]\n",
        "s = sum(a)\n",
        "print(\"sum is \", s)"
      ],
      "execution_count": 0,
      "outputs": [
        {
          "output_type": "stream",
          "text": [
            "sum is  10.4\n"
          ],
          "name": "stdout"
        }
      ]
    },
    {
      "cell_type": "markdown",
      "metadata": {
        "id": "w_wKFEP7JpTm",
        "colab_type": "text"
      },
      "source": [
        "But the list has to be arithmeticaly summable object like float, int; else one will get error."
      ]
    },
    {
      "cell_type": "code",
      "metadata": {
        "id": "7d8Mqt7dKBd1",
        "colab_type": "code",
        "outputId": "1d918559-7041-4dee-848e-8a484764e9f9",
        "colab": {
          "base_uri": "https://localhost:8080/",
          "height": 50
        }
      },
      "source": [
        "a = [\"dog\", \"cat\"] # string objects\n",
        "try:\n",
        "    sum(a) # this will throw error\n",
        "except Exception as error:\n",
        "    print(\"Error in a:\", error)\n",
        "\n",
        "\n",
        "b = [1,2, [1,2] ] #list object\n",
        "try:\n",
        "    sum(b) # this will throw error\n",
        "except Exception as error:\n",
        "    print(\"Error in b:\", error)"
      ],
      "execution_count": 0,
      "outputs": [
        {
          "output_type": "stream",
          "text": [
            "Error in a: unsupported operand type(s) for +: 'int' and 'str'\n",
            "Error in b: unsupported operand type(s) for +: 'int' and 'list'\n"
          ],
          "name": "stdout"
        }
      ]
    },
    {
      "cell_type": "markdown",
      "metadata": {
        "id": "O895Q03jLCsn",
        "colab_type": "text"
      },
      "source": [
        "In second case it has two int object and a list object. Though the inner list has int object, function doesn't not care about that.\n",
        "It just considers the object types in the first level. Adding up a int and list is not possible.\n",
        "\n",
        "---\n",
        "<br>"
      ]
    },
    {
      "cell_type": "markdown",
      "metadata": {
        "id": "LgNvOlC6E62z",
        "colab_type": "text"
      },
      "source": [
        "##Operators \n",
        "The result have to stored in a new list object, existing objects will not get modified.\n",
        "\n"
      ]
    },
    {
      "cell_type": "markdown",
      "metadata": {
        "id": "vHLfjsgoNLHh",
        "colab_type": "text"
      },
      "source": [
        "Similar to strings one can use `+` operator for **concatenate** two lists.\n",
        "\n",
        "`+` operator works only between two lists, operation between list and  other data type is not supported."
      ]
    },
    {
      "cell_type": "code",
      "metadata": {
        "id": "1ydlRepLFt1r",
        "colab_type": "code",
        "outputId": "60f51709-0e3b-4502-873e-da3abcac58f6",
        "colab": {
          "base_uri": "https://localhost:8080/",
          "height": 34
        }
      },
      "source": [
        "x = [1,2,3]\n",
        "y = [4,5,6]\n",
        "z = x+y\n",
        "print(\"z =\", z)"
      ],
      "execution_count": 0,
      "outputs": [
        {
          "output_type": "stream",
          "text": [
            "z = [1, 2, 3, 4, 5, 6]\n"
          ],
          "name": "stdout"
        }
      ]
    },
    {
      "cell_type": "code",
      "metadata": {
        "id": "MnHY2pU6O8Rl",
        "colab_type": "code",
        "outputId": "1b813907-e281-4d9f-ed22-877863b59c10",
        "colab": {
          "base_uri": "https://localhost:8080/",
          "height": 34
        }
      },
      "source": [
        "m = [0,9,8,7]\n",
        "\n",
        "try:\n",
        "    n = m + 1\n",
        "except Exception as error:\n",
        "    print(\"Error:\", error )"
      ],
      "execution_count": 0,
      "outputs": [
        {
          "output_type": "stream",
          "text": [
            "Error: can only concatenate list (not \"int\") to list\n"
          ],
          "name": "stdout"
        }
      ]
    },
    {
      "cell_type": "markdown",
      "metadata": {
        "id": "UpGOcvzDMIZO",
        "colab_type": "text"
      },
      "source": [
        "One can use `*` to **replicate** list elements similar to strings when multiplied by **int**.\n",
        "\n",
        "One cannot use `*` with between list and other data objects like float or even a list."
      ]
    },
    {
      "cell_type": "code",
      "metadata": {
        "id": "kPULxVlIMsqQ",
        "colab_type": "code",
        "outputId": "cefb23dc-c663-46da-f72f-0704762d752b",
        "colab": {
          "base_uri": "https://localhost:8080/",
          "height": 34
        }
      },
      "source": [
        "a = [1,2,3]\n",
        "b = a*3\n",
        "print(\"b =\", b)"
      ],
      "execution_count": 0,
      "outputs": [
        {
          "output_type": "stream",
          "text": [
            "b = [1, 2, 3, 1, 2, 3, 1, 2, 3]\n"
          ],
          "name": "stdout"
        }
      ]
    },
    {
      "cell_type": "code",
      "metadata": {
        "id": "RpXNsrB3OUNr",
        "colab_type": "code",
        "outputId": "1c354b71-c608-4cb6-bf32-5ede05c4fc01",
        "colab": {
          "base_uri": "https://localhost:8080/",
          "height": 50
        }
      },
      "source": [
        "b = [5,6,7]\n",
        "try:\n",
        "    c = b*b #This will throw ERROR\n",
        "except Exception as error:\n",
        "    print(\"Error1:\", error)\n",
        "\n",
        "try:\n",
        "    c = b*3.2 #Tjis will throw ERROR\n",
        "except Exception as error:\n",
        "    print(\"Error2:\", error)"
      ],
      "execution_count": 0,
      "outputs": [
        {
          "output_type": "stream",
          "text": [
            "Error1: can't multiply sequence by non-int of type 'list'\n",
            "Error2: can't multiply sequence by non-int of type 'float'\n"
          ],
          "name": "stdout"
        }
      ]
    },
    {
      "cell_type": "markdown",
      "metadata": {
        "id": "ixfvjt7BNXyf",
        "colab_type": "text"
      },
      "source": [
        "One cannot use `/` or `-` operators on a list"
      ]
    },
    {
      "cell_type": "code",
      "metadata": {
        "id": "yMuOXf3kNia7",
        "colab_type": "code",
        "outputId": "501a7f80-3805-4540-d2b4-137d03478803",
        "colab": {
          "base_uri": "https://localhost:8080/",
          "height": 50
        }
      },
      "source": [
        "a = [4, 5]\n",
        "try:\n",
        "    c = a/3 \n",
        "except Exception as error:\n",
        "    print(\"Error on /:\", error)\n",
        "\n",
        "try:\n",
        "    c = a-3 \n",
        "except Exception as error:\n",
        "    print(\"Error on -:\", error)"
      ],
      "execution_count": 0,
      "outputs": [
        {
          "output_type": "stream",
          "text": [
            "Error on /: unsupported operand type(s) for /: 'list' and 'int'\n",
            "Error on -: unsupported operand type(s) for -: 'list' and 'int'\n"
          ],
          "name": "stdout"
        }
      ]
    },
    {
      "cell_type": "markdown",
      "metadata": {
        "id": "YeX8OZUW_aR5",
        "colab_type": "text"
      },
      "source": [
        "---\n",
        "<br>"
      ]
    },
    {
      "cell_type": "markdown",
      "metadata": {
        "id": "r1lMoedXdTT_",
        "colab_type": "text"
      },
      "source": [
        "# **Tuple**\n",
        "\n",
        "Tuple are immutable sequence type objects. The immutable property means that the tuple object once created cannot be modified.\n",
        "\n",
        "Tuple preserves the ordering of elements i.e each element will present in a specific index and will not get shuffled.\n",
        "\n",
        "The Immutable nature of the tuple makes it faster object creation time."
      ]
    },
    {
      "cell_type": "markdown",
      "metadata": {
        "id": "kSeibDpsekz0",
        "colab_type": "text"
      },
      "source": [
        "## Creating Tuple"
      ]
    },
    {
      "cell_type": "markdown",
      "metadata": {
        "id": "7B3PU46Qmmxt",
        "colab_type": "text"
      },
      "source": [
        "Tuples can be created in 2 ways\n",
        "1. using `()` parenthesis\n",
        "2. using tuple() function, which takes any sequence type or iterable objects (like other list, tuple, set) as argument and converts to tuple"
      ]
    },
    {
      "cell_type": "code",
      "metadata": {
        "id": "ROeKl2MxmmB0",
        "colab_type": "code",
        "outputId": "fe1ec75b-6f1b-4679-e62d-063f50c9e226",
        "colab": {
          "base_uri": "https://localhost:8080/",
          "height": 101
        }
      },
      "source": [
        "# empty tuple\n",
        "a = ()\n",
        "b = tuple()\n",
        "\n",
        "# tuple with values\n",
        "c = (1,2,3,4,5)\n",
        "d = list([6,7,8,9]) # create tuple out of lsit (sequence type)\n",
        "e = c # shallow copy from a tuple\n",
        "\n",
        "# Print\n",
        "print(\"a = \",a, \"\\nb = \",b, \"\\nc = \",c, \"\\nd = \",d, \"\\ne = \",e )"
      ],
      "execution_count": 0,
      "outputs": [
        {
          "output_type": "stream",
          "text": [
            "a =  () \n",
            "b =  () \n",
            "c =  (1, 2, 3, 4, 5) \n",
            "d =  [6, 7, 8, 9] \n",
            "e =  (1, 2, 3, 4, 5)\n"
          ],
          "name": "stdout"
        }
      ]
    },
    {
      "cell_type": "markdown",
      "metadata": {
        "id": "ppXhoLlUrBK4",
        "colab_type": "text"
      },
      "source": [
        "One can see that lsit object is converted to tuple.\n",
        "*What other objects can we convert to tuple?*"
      ]
    },
    {
      "cell_type": "code",
      "metadata": {
        "id": "RolEQzEPqmtI",
        "colab_type": "code",
        "outputId": "3f24523d-0c2b-4e66-adc4-3d5069f26bf6",
        "colab": {
          "base_uri": "https://localhost:8080/",
          "height": 84
        }
      },
      "source": [
        "a = [1,2,3,4] # list\n",
        "b = {5,6,7,8} # set\n",
        "c = {'a': 1, 'b':2, 'c':3} #dictionary\n",
        "d = \"truth alone triumphs\"\n",
        "p = tuple(a)\n",
        "q = tuple(b)\n",
        "r = tuple(c)\n",
        "s = tuple(d)\n",
        "\n",
        "print(\"p =\", p, \"\\nq =\", q, \"\\nr =\", r, \"\\ns =\" ,s)"
      ],
      "execution_count": 0,
      "outputs": [
        {
          "output_type": "stream",
          "text": [
            "p = (1, 2, 3, 4) \n",
            "q = (8, 5, 6, 7) \n",
            "r = ('a', 'b', 'c') \n",
            "s = ('t', 'r', 'u', 't', 'h', ' ', 'a', 'l', 'o', 'n', 'e', ' ', 't', 'r', 'i', 'u', 'm', 'p', 'h', 's')\n"
          ],
          "name": "stdout"
        }
      ]
    },
    {
      "cell_type": "markdown",
      "metadata": {
        "id": "wK_y5VwOrMQy",
        "colab_type": "text"
      },
      "source": [
        "One can notice that for dictionary only the keys are taken for creating the tuple not the values.\n",
        "\n",
        "And for strings all the characters including 'space' is converted into elements of a string.\n",
        "\n",
        "---\n",
        "<br><br>"
      ]
    },
    {
      "cell_type": "markdown",
      "metadata": {
        "colab_type": "text",
        "id": "yEH_9eTGqWvy"
      },
      "source": [
        "## Accessing elements "
      ]
    },
    {
      "cell_type": "markdown",
      "metadata": {
        "colab_type": "text",
        "id": "ehLQ9xc5qWv1"
      },
      "source": [
        "Tuple elements can be accessed using indices.\n",
        ">Index starts from 0 to n-1 where n is number of elements."
      ]
    },
    {
      "cell_type": "code",
      "metadata": {
        "colab_type": "code",
        "outputId": "782e39a1-ea34-4b15-a1fd-5a978bc691c6",
        "id": "68CO7b9eqWv3",
        "colab": {
          "base_uri": "https://localhost:8080/",
          "height": 67
        }
      },
      "source": [
        "a = (1,2,3,4,5)\n",
        "print(\"First element:\", a[0])\n",
        "print(\"Second element:\", a[1])\n",
        "print(\"Last(fifth) element:\",a[4])"
      ],
      "execution_count": 0,
      "outputs": [
        {
          "output_type": "stream",
          "text": [
            "First element: 1\n",
            "Second element: 2\n",
            "Last(fifth) element: 5\n"
          ],
          "name": "stdout"
        }
      ]
    },
    {
      "cell_type": "markdown",
      "metadata": {
        "colab_type": "text",
        "id": "GberMYtGqWv9"
      },
      "source": [
        "One can use negative indexing to access the elements. It accesses the elements in reverse.\n",
        ">Index starts from -1 to -n where n is number of elements"
      ]
    },
    {
      "cell_type": "code",
      "metadata": {
        "colab_type": "code",
        "outputId": "edb8262f-4ec9-4048-a8b0-18ba6d86a76a",
        "id": "rWatnV2UqWv_",
        "colab": {
          "base_uri": "https://localhost:8080/",
          "height": 67
        }
      },
      "source": [
        "a = (1,2,3,4,5)\n",
        "print(\"Last element:\",a[-1])\n",
        "print(\"last second(fourth) element:\", a[-2])\n",
        "print(\"First element:\", a[-5])"
      ],
      "execution_count": 0,
      "outputs": [
        {
          "output_type": "stream",
          "text": [
            "Last element: 5\n",
            "last second(fourth) element: 4\n",
            "First element: 1\n"
          ],
          "name": "stdout"
        }
      ]
    },
    {
      "cell_type": "markdown",
      "metadata": {
        "colab_type": "text",
        "id": "ve6F3DbuqWwE"
      },
      "source": [
        "One can have nested tuples. And for accessing one has to use `[]` **index operator** multiple times.\n",
        "\n",
        "\n",
        "\n"
      ]
    },
    {
      "cell_type": "code",
      "metadata": {
        "colab_type": "code",
        "outputId": "ecbfbb92-b345-4e14-9701-d6fad4b74600",
        "id": "wcbpARkNqWwF",
        "colab": {
          "base_uri": "https://localhost:8080/",
          "height": 67
        }
      },
      "source": [
        "b = (\n",
        "     (1,2,3,4,5,6),\n",
        "     (10, 20, 30)\n",
        ")\n",
        "print(\"First element of b:\", b[0])\n",
        "print(\"First element inside first element of b:\", b[0][0])\n",
        "print(\"last element inside last element of b:\", b[1][-1])"
      ],
      "execution_count": 0,
      "outputs": [
        {
          "output_type": "stream",
          "text": [
            "First element of b: (1, 2, 3, 4, 5, 6)\n",
            "First element inside first element of b: 1\n",
            "last element inside last element of b: 30\n"
          ],
          "name": "stdout"
        }
      ]
    },
    {
      "cell_type": "markdown",
      "metadata": {
        "colab_type": "text",
        "id": "Pv4qhhIOqWwI"
      },
      "source": [
        "---\n",
        "<br>"
      ]
    },
    {
      "cell_type": "markdown",
      "metadata": {
        "colab_type": "text",
        "id": "e7Xsu-k8qWwJ"
      },
      "source": [
        "*Can one find if a element is present in a tuple?* <br>\n",
        "\n",
        "\n",
        "one can do that using the `in` statement."
      ]
    },
    {
      "cell_type": "code",
      "metadata": {
        "colab_type": "code",
        "outputId": "24a4985c-6137-4fd4-b462-2bd5f4b6645e",
        "id": "P8r-Ts-2qWwJ",
        "colab": {
          "base_uri": "https://localhost:8080/",
          "height": 50
        }
      },
      "source": [
        "a = (\"cat\", \"dog\", \"parrot\")\n",
        "a_dog = \"dog\" in a\n",
        "a_wolf = \"wolf\" in a\n",
        "\n",
        "print(\"is dog present:\", a_dog)\n",
        "print(\"is wolf present:\", a_wolf)\n"
      ],
      "execution_count": 0,
      "outputs": [
        {
          "output_type": "stream",
          "text": [
            "is dog present: True\n",
            "is wolf present: False\n"
          ],
          "name": "stdout"
        }
      ]
    },
    {
      "cell_type": "markdown",
      "metadata": {
        "colab_type": "text",
        "id": "Va0p11p4qWwM"
      },
      "source": [
        "For the nested tuple, it only checks the top level objects, and will not check the objects inside."
      ]
    },
    {
      "cell_type": "code",
      "metadata": {
        "colab_type": "code",
        "outputId": "a82f79d8-f936-4e65-d087-b807108b07fa",
        "id": "Wgx9UDYGqWwP",
        "colab": {
          "base_uri": "https://localhost:8080/",
          "height": 50
        }
      },
      "source": [
        "b = ((1,2,3,4,5), \n",
        "      (11,12,13,14,15,16,17),\n",
        "      (21,22,23,24,25,26))\n",
        "b1 = 11 in b\n",
        "b2 = 11 in b[1]\n",
        "\n",
        "print(\"Is 11 in b:\", b1)\n",
        "print(\"Is 11 in b[1]:\", b2)\n"
      ],
      "execution_count": 0,
      "outputs": [
        {
          "output_type": "stream",
          "text": [
            "Is 11 in b: False\n",
            "Is 11 in b[1]: True\n"
          ],
          "name": "stdout"
        }
      ]
    },
    {
      "cell_type": "markdown",
      "metadata": {
        "colab_type": "text",
        "id": "JtBx4NMXqWwS"
      },
      "source": [
        "As said checking `b` for `11` then it fails because all elements of b is a list and nothing matches `11`. \n",
        "Where as is second case we check list inside the list explicitly. \n",
        "\n",
        "---\n",
        "<br>"
      ]
    },
    {
      "cell_type": "markdown",
      "metadata": {
        "colab_type": "text",
        "id": "WKjjtDcEqWwT"
      },
      "source": [
        "In some cases one may want to know in which index a specific element is present in addition to knowing if it is present.\n",
        "\n",
        "For such cases tuple has `index()` method."
      ]
    },
    {
      "cell_type": "code",
      "metadata": {
        "id": "kk7jJ0_IzTXg",
        "colab_type": "code",
        "outputId": "408f8330-3778-4d49-8cf7-a4a3108e68d1",
        "colab": {
          "base_uri": "https://localhost:8080/",
          "height": 34
        }
      },
      "source": [
        "c = (1,2,3,4,5,6,7,8,9)\n",
        "idx = c.index(3)\n",
        "print(\"Index of 3:\", idx) "
      ],
      "execution_count": 0,
      "outputs": [
        {
          "output_type": "stream",
          "text": [
            "Index of 3: 2\n"
          ],
          "name": "stdout"
        }
      ]
    },
    {
      "cell_type": "markdown",
      "metadata": {
        "id": "ug_2y3jmzv5P",
        "colab_type": "text"
      },
      "source": [
        "Notice it returned index id as `2` which is third position. *Remember that index start from 0*"
      ]
    },
    {
      "cell_type": "markdown",
      "metadata": {
        "id": "KnNMb4VzjZAL",
        "colab_type": "text"
      },
      "source": [
        "## Handling tuples\n",
        "\n",
        "Tuples are not modifyable, thus has limited operations and methods associated with it."
      ]
    },
    {
      "cell_type": "markdown",
      "metadata": {
        "id": "TIO_QIQjoE31",
        "colab_type": "text"
      },
      "source": [
        "One can use `del` to remove tuple objects. "
      ]
    },
    {
      "cell_type": "code",
      "metadata": {
        "id": "F0D1egeipcc_",
        "colab_type": "code",
        "outputId": "caea18ce-704c-4c4f-bbb8-9e8561185327",
        "colab": {
          "base_uri": "https://localhost:8080/",
          "height": 34
        }
      },
      "source": [
        "a = (4,5,6,7)\n",
        "del a # deletes tuple\n",
        "try:\n",
        "    print(a)\n",
        "except Exception as error:\n",
        "    print(\"Error:\", error)"
      ],
      "execution_count": 0,
      "outputs": [
        {
          "output_type": "stream",
          "text": [
            "Error: name 'a' is not defined\n"
          ],
          "name": "stdout"
        }
      ]
    },
    {
      "cell_type": "markdown",
      "metadata": {
        "id": "6MktwDNp1YP7",
        "colab_type": "text"
      },
      "source": [
        "But one cannot use `del` to remove any elements from tuple object. This is because tuples are immutable. One can create and destroy tuple but not modify them directly."
      ]
    },
    {
      "cell_type": "code",
      "metadata": {
        "id": "cuQzrUfd0Jsc",
        "colab_type": "code",
        "outputId": "f3dc792f-588f-4814-f9e2-a24a9e04296a",
        "colab": {
          "base_uri": "https://localhost:8080/",
          "height": 34
        }
      },
      "source": [
        "a = (1,2,3,4,5,6,7,8,9,0)\n",
        "\n",
        "try:\n",
        "    del a[2:6] # This will throw error\n",
        "except Exception as error:\n",
        "    print(\"Error:\", error) "
      ],
      "execution_count": 0,
      "outputs": [
        {
          "output_type": "stream",
          "text": [
            "Error: 'tuple' object does not support item deletion\n"
          ],
          "name": "stdout"
        }
      ]
    },
    {
      "cell_type": "markdown",
      "metadata": {
        "id": "I3bX-NBPlNUT",
        "colab_type": "text"
      },
      "source": [
        "Extending or Modifying is not possible since they are immutable but there might be a case where one might necessarily modify the objects at some point and retain the nature as tuple objects.\n",
        "\n",
        ">The work around for above will be to convert the tuple to list object, edit the object and convert back to tuple."
      ]
    },
    {
      "cell_type": "code",
      "metadata": {
        "id": "5EPs2BzllELj",
        "colab_type": "code",
        "outputId": "41ad6b8d-d2fb-4bd9-98f4-5c118bb26919",
        "colab": {
          "base_uri": "https://localhost:8080/",
          "height": 34
        }
      },
      "source": [
        "a = (1,2,3)\n",
        "temp = list(a) + [4,5] #concatenate two lists\n",
        "a = tuple(temp)\n",
        "print(a)"
      ],
      "execution_count": 0,
      "outputs": [
        {
          "output_type": "stream",
          "text": [
            "(1, 2, 3, 4, 5)\n"
          ],
          "name": "stdout"
        }
      ]
    },
    {
      "cell_type": "markdown",
      "metadata": {
        "id": "vjn9MNK2nQqo",
        "colab_type": "text"
      },
      "source": [
        "but this should be lost resort in most unavoidalble case. If one knows the data object has to be modified often. It is better to use list, since the conversion back and forth would be time consuming.\n",
        "\n",
        "---\n",
        "<br>"
      ]
    },
    {
      "cell_type": "markdown",
      "metadata": {
        "id": "99nhImAnEgwC",
        "colab_type": "text"
      },
      "source": [
        "## Other functionalities\n",
        "\n",
        "Tuples are not modifyable, thus they has very few methods and functions associated with them."
      ]
    },
    {
      "cell_type": "markdown",
      "metadata": {
        "colab_type": "text",
        "id": "AIGgR7X_tBGf"
      },
      "source": [
        "One can find the total number of elements in a tuple using `len()` function, which will return the number of elements."
      ]
    },
    {
      "cell_type": "code",
      "metadata": {
        "colab_type": "code",
        "outputId": "956c8e99-7828-425e-b30f-1c636704a357",
        "id": "Bt9i-IYFtBGh",
        "colab": {
          "base_uri": "https://localhost:8080/",
          "height": 50
        }
      },
      "source": [
        "a = (1.1, 2.2, 3.3, 4.4, 5.5, 6.6)\n",
        "b = ((1,2), (4,5,6)) #tuple with list objects\n",
        "\n",
        "print(\"Num of elements in a:\", len(a))\n",
        "print(\"Num of elements in b:\", len(b))"
      ],
      "execution_count": 0,
      "outputs": [
        {
          "output_type": "stream",
          "text": [
            "Num of elements in a: 6\n",
            "Num of elements in b: 2\n"
          ],
          "name": "stdout"
        }
      ]
    },
    {
      "cell_type": "markdown",
      "metadata": {
        "colab_type": "text",
        "id": "rpWhlmF5tBGp"
      },
      "source": [
        "It can be seen that for `b` it show 2, `len()` considers only objects it contains, does not take into account elements present in the object. So `b` has two tuple objects which is returned.  "
      ]
    },
    {
      "cell_type": "markdown",
      "metadata": {
        "colab_type": "text",
        "id": "_ud-QfyrtBGq"
      },
      "source": [
        "tuple can have duplicate elements i.e same element multiple times, which is intentional design choice. \n",
        "With that being teh case *what if one wants to find count of certain object(value) present in a tuple?*\n",
        "\n",
        "For which one can use `count()` method"
      ]
    },
    {
      "cell_type": "code",
      "metadata": {
        "colab_type": "code",
        "outputId": "45d3bf13-bf0c-4cd4-fbe5-ae5f18851804",
        "id": "qN45Sg2rtBGr",
        "colab": {
          "base_uri": "https://localhost:8080/",
          "height": 50
        }
      },
      "source": [
        "a = (1, 2, 3, 4, 5, 1, 2, 1, 3, 3, 4, 1)\n",
        "b = (2, (1,2), (2))\n",
        "a_c = a.count(1)\n",
        "b_c = b.count(2)\n",
        "print(\"Count of 1 in a:\", a_c)\n",
        "print(\"Count of 2 in b:\", b_c)\n"
      ],
      "execution_count": 0,
      "outputs": [
        {
          "output_type": "stream",
          "text": [
            "Count of 1 in a: 4\n",
            "Count of 2 in b: 2\n"
          ],
          "name": "stdout"
        }
      ]
    },
    {
      "cell_type": "markdown",
      "metadata": {
        "colab_type": "text",
        "id": "px0BHiwatBGu"
      },
      "source": [
        "One see the same behaviour as in `len()`.\n",
        "count of 2 in b is 1, which is true because the other two elements are tuple object not 2. It tries to match with exact object and does not go inside object and checks.\n",
        "\n",
        "Below is a example where it looks for exact tuple object and return count"
      ]
    },
    {
      "cell_type": "code",
      "metadata": {
        "colab_type": "code",
        "outputId": "c547dfc3-5061-4e1e-edec-8bb22ce860f8",
        "id": "W1EDKjA4tBGv",
        "colab": {
          "base_uri": "https://localhost:8080/",
          "height": 34
        }
      },
      "source": [
        "b = (3, (3,1,1), (3), (3))\n",
        "b_c = b.count((3))\n",
        "print(\"Count of [3] in b:\", b_c)"
      ],
      "execution_count": 0,
      "outputs": [
        {
          "output_type": "stream",
          "text": [
            "Count of [3] in b: 3\n"
          ],
          "name": "stdout"
        }
      ]
    },
    {
      "cell_type": "markdown",
      "metadata": {
        "colab_type": "text",
        "id": "IGGMjR8TtBG0"
      },
      "source": [
        "It looks for exact tuple object as `[3]` and returns its count.\n",
        "\n",
        "---\n",
        "<br>"
      ]
    },
    {
      "cell_type": "markdown",
      "metadata": {
        "colab_type": "text",
        "id": "MDgk_YCbtBG1"
      },
      "source": [
        "There would be cases where one will be in need to find sum of all elements in a tuple.\n",
        "For which one can use `sum()` function"
      ]
    },
    {
      "cell_type": "code",
      "metadata": {
        "colab_type": "code",
        "outputId": "c645ee44-21f4-415e-c5ef-d76d49b21cd6",
        "id": "WPF8MB77tBG2",
        "colab": {
          "base_uri": "https://localhost:8080/",
          "height": 34
        }
      },
      "source": [
        "a = (1.1, 2, 3.3, 4)\n",
        "s = sum(a)\n",
        "print(\"sum is \", s)"
      ],
      "execution_count": 0,
      "outputs": [
        {
          "output_type": "stream",
          "text": [
            "sum is  10.4\n"
          ],
          "name": "stdout"
        }
      ]
    },
    {
      "cell_type": "markdown",
      "metadata": {
        "colab_type": "text",
        "id": "gmQBCjKntBG5"
      },
      "source": [
        "But the tuple has to be arithmetically summable object like float, int; else one will get error."
      ]
    },
    {
      "cell_type": "code",
      "metadata": {
        "colab_type": "code",
        "outputId": "c808b15d-ac2b-450c-c672-31636316fa40",
        "id": "FTLrOzdYtBG5",
        "colab": {
          "base_uri": "https://localhost:8080/",
          "height": 50
        }
      },
      "source": [
        "a = (\"dog\", \"cat\") # string objects\n",
        "try:\n",
        "    sum(a) # this will throw error\n",
        "except Exception as error:\n",
        "    print(\"Error in a:\", error)\n",
        "\n",
        "\n",
        "b = (1,2, (1,2) ) #list object\n",
        "try:\n",
        "    sum(b) # this will throw error\n",
        "except Exception as error:\n",
        "    print(\"Error in b:\", error)"
      ],
      "execution_count": 0,
      "outputs": [
        {
          "output_type": "stream",
          "text": [
            "Error in a: unsupported operand type(s) for +: 'int' and 'str'\n",
            "Error in b: unsupported operand type(s) for +: 'int' and 'tuple'\n"
          ],
          "name": "stdout"
        }
      ]
    },
    {
      "cell_type": "markdown",
      "metadata": {
        "colab_type": "text",
        "id": "ZrKsqV2GtBG-"
      },
      "source": [
        "In second case it has two int object and alist object. Though the inner tuple has int object, function doesn't not care about that.\n",
        "It just considers the object types in the first level. Adding up a int and list is not possible.\n",
        "\n",
        "---\n",
        "<br>"
      ]
    },
    {
      "cell_type": "markdown",
      "metadata": {
        "colab_type": "text",
        "id": "BdmRh1aKtBG_"
      },
      "source": [
        "##Operators \n",
        "The result gets stored in a new tuple object. Thus immutability is not an issue for using operator. \n",
        "\n"
      ]
    },
    {
      "cell_type": "markdown",
      "metadata": {
        "colab_type": "text",
        "id": "1hS9PQbmtBHA"
      },
      "source": [
        "Similar to strings one can use `+` operator for **concatenate** two tuples.\n",
        "\n",
        "`+` operator works only between two lists, operation between tuple and other data type is not supported."
      ]
    },
    {
      "cell_type": "code",
      "metadata": {
        "colab_type": "code",
        "outputId": "02092343-e7a1-453f-ec7d-3680bc9e0b1f",
        "id": "wANXzdshtBHB",
        "colab": {
          "base_uri": "https://localhost:8080/",
          "height": 34
        }
      },
      "source": [
        "x = (1,2,3)\n",
        "y = (4,5,6)\n",
        "z = x+y\n",
        "print(\"z =\", z)"
      ],
      "execution_count": 0,
      "outputs": [
        {
          "output_type": "stream",
          "text": [
            "z = (1, 2, 3, 4, 5, 6)\n"
          ],
          "name": "stdout"
        }
      ]
    },
    {
      "cell_type": "code",
      "metadata": {
        "colab_type": "code",
        "outputId": "29e16a15-f3f6-4d22-90b0-20a404800dc8",
        "id": "pCDKhRqZtBHE",
        "colab": {
          "base_uri": "https://localhost:8080/",
          "height": 50
        }
      },
      "source": [
        "m = [0,9,8,7]\n",
        "\n",
        "try:\n",
        "    n = m + 1\n",
        "except Exception as error:\n",
        "    print(\"Error:\", error )\n",
        "\n",
        "v = (7,8)\n",
        "w = [9,10] # list\n",
        "try:\n",
        "    u = v+w # this will throw error\n",
        "except Exception as error:\n",
        "    print(\"Error:\", error)"
      ],
      "execution_count": 0,
      "outputs": [
        {
          "output_type": "stream",
          "text": [
            "Error: can only concatenate list (not \"int\") to list\n",
            "Error: can only concatenate tuple (not \"list\") to tuple\n"
          ],
          "name": "stdout"
        }
      ]
    },
    {
      "cell_type": "markdown",
      "metadata": {
        "colab_type": "text",
        "id": "5j2bvoK_tBHI"
      },
      "source": [
        "One can use `*` to **replicate** tuple elements similar to strings when multiplied by **int**.\n",
        "\n",
        "One cannot use `*` with between list and other data objects like float or even a list."
      ]
    },
    {
      "cell_type": "code",
      "metadata": {
        "colab_type": "code",
        "outputId": "cf1487b7-48f1-470d-ee9f-ced157e7361f",
        "id": "9s9VFrCwtBHJ",
        "colab": {
          "base_uri": "https://localhost:8080/",
          "height": 34
        }
      },
      "source": [
        "a = (1,2,3)\n",
        "b = a*3\n",
        "print(\"b =\", b)"
      ],
      "execution_count": 0,
      "outputs": [
        {
          "output_type": "stream",
          "text": [
            "b = (1, 2, 3, 1, 2, 3, 1, 2, 3)\n"
          ],
          "name": "stdout"
        }
      ]
    },
    {
      "cell_type": "code",
      "metadata": {
        "colab_type": "code",
        "outputId": "be32343d-8344-4704-d4a7-0642aa7eec10",
        "id": "k8nmW7yAtBHM",
        "colab": {
          "base_uri": "https://localhost:8080/",
          "height": 50
        }
      },
      "source": [
        "b = (5,6,7)\n",
        "try:\n",
        "    c = b*b #This will throw Error\n",
        "except Exception as error:\n",
        "    print(\"Error1:\", error)\n",
        "\n",
        "try:\n",
        "    c = b*3.2 #This will throw Error\n",
        "except Exception as error:\n",
        "    print(\"Error2:\", error)"
      ],
      "execution_count": 0,
      "outputs": [
        {
          "output_type": "stream",
          "text": [
            "Error1: can't multiply sequence by non-int of type 'tuple'\n",
            "Error2: can't multiply sequence by non-int of type 'float'\n"
          ],
          "name": "stdout"
        }
      ]
    },
    {
      "cell_type": "markdown",
      "metadata": {
        "colab_type": "text",
        "id": "FArSVNh3tBHP"
      },
      "source": [
        "One cannot use `/` or `-` operators on a list"
      ]
    },
    {
      "cell_type": "code",
      "metadata": {
        "colab_type": "code",
        "outputId": "c81fc72b-c136-4113-e616-63e4c89e507b",
        "id": "HGqhXzPetBHR",
        "colab": {
          "base_uri": "https://localhost:8080/",
          "height": 50
        }
      },
      "source": [
        "a = (4, 5)\n",
        "try:\n",
        "    c = a/3 \n",
        "except Exception as error:\n",
        "    print(\"Error on /:\", error)\n",
        "\n",
        "try:\n",
        "    c = a-3 \n",
        "except Exception as error:\n",
        "    print(\"Error on -:\", error)"
      ],
      "execution_count": 0,
      "outputs": [
        {
          "output_type": "stream",
          "text": [
            "Error on /: unsupported operand type(s) for /: 'tuple' and 'int'\n",
            "Error on -: unsupported operand type(s) for -: 'tuple' and 'int'\n"
          ],
          "name": "stdout"
        }
      ]
    },
    {
      "cell_type": "markdown",
      "metadata": {
        "colab_type": "text",
        "id": "wUgOzTL6tBHV"
      },
      "source": [
        "---\n",
        "<br>"
      ]
    },
    {
      "cell_type": "markdown",
      "metadata": {
        "id": "AFh7I_NX5hOn",
        "colab_type": "text"
      },
      "source": [
        ">**Please refer to the [Padhai-One](https://github.com/OneFourthLabs/PadhAI-One) Github repo for updates & other notebooks **"
      ]
    }
  ]
}